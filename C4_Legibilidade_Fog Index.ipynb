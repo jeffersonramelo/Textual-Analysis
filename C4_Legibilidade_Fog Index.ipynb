{
  "nbformat": 4,
  "nbformat_minor": 0,
  "metadata": {
    "colab": {
      "provenance": [],
      "authorship_tag": "ABX9TyOot0g8b1F4XEjPLM6BDnfa",
      "include_colab_link": true
    },
    "kernelspec": {
      "name": "python3",
      "display_name": "Python 3"
    },
    "language_info": {
      "name": "python"
    }
  },
  "cells": [
    {
      "cell_type": "markdown",
      "metadata": {
        "id": "view-in-github",
        "colab_type": "text"
      },
      "source": [
        "<a href=\"https://colab.research.google.com/github/jeffersonramelo/Textual-Analysis/blob/main/C4_Legibilidade_Fog%20Index.ipynb\" target=\"_parent\"><img src=\"https://colab.research.google.com/assets/colab-badge.svg\" alt=\"Open In Colab\"/></a>"
      ]
    },
    {
      "cell_type": "code",
      "execution_count": 9,
      "metadata": {
        "id": "OauzDssvfU40"
      },
      "outputs": [],
      "source": [
        "import pandas as pd\n",
        "\n",
        "df = pd.read_csv('/content/fatos relevantes 2023 texto.csv')\n"
      ]
    },
    {
      "cell_type": "code",
      "source": [
        "#vizualiar 1175 obs\n",
        "print(df.loc[:, 'Texto'].iloc[0])\n"
      ],
      "metadata": {
        "id": "QANFArZTjv9h",
        "outputId": "0d6e66dc-0060-4809-c2df-e0c9f700e0ee",
        "colab": {
          "base_uri": "https://localhost:8080/"
        }
      },
      "execution_count": 10,
      "outputs": [
        {
          "output_type": "stream",
          "name": "stdout",
          "text": [
            " \n",
            " \n",
            " \n",
            " \n",
            " \n",
            " \n",
            " \n",
            " \n",
            "Oi S.A.  – Em Recuperação Judicial  \n",
            "CNPJ/ME nº 76.535.764/0001 -43 \n",
            "NIRE 33.3.0029520 -8 \n",
            "Companhia Aberta  \n",
            " \n",
            "FATO RELEVANTE  \n",
            " \n",
            "Oi S.A . – Em Recuperação Judicial  (“Oi” ou “ Companhia ”), em cumprimento ao \n",
            "disposto no art.  157, §4º, Lei nº 6.404/1976, e  na Resolução CVM nº 44 /21, vem informar \n",
            "aos seus acionistas e ao mercado em geral  que optou por descontinuar a divulgação \n",
            "das projeções de desempenho futuro  (“guidance ”), contemplando projeções e \n",
            "estimativas operacionais e financeiras divulgad as no Fato Relevante de 19 de julho de \n",
            "2021, tendo em vista as relevantes mudanças no cenário macroeconômico brasileiro e \n",
            "a consequente contrapartida no ambiente competitivo  e nas necessidades de \n",
            "financiamento  da Companhia . \n",
            " \n",
            "A Companhia também ressalta que as projeções contidas no Fato Relevante de 31 de \n",
            "dezembro de 2022 , sobre o Blowout  das discussões com credores , não deve m ser \n",
            "consideradas como guidance . Isso  porque tais projeções  assumem premissas da \n",
            "negociação com os credores conforme os termos da proposta apresentada no material  \n",
            "e os indicadores financeiros e operacionais  divulgados poderiam ser objeto de revisão \n",
            "de acordo com o próprio resultado des sa discussão . \n",
            " \n",
            "A Companhia manterá seu s acionistas e o mercado informados sobre o \n",
            "desenvolvimento dos assuntos objeto deste Fato Relevante.  \n",
            " \n",
            "Rio de Janeiro, 16 de janeiro de 2023 . \n",
            " \n",
            " \n",
            "Oi S.A.  – Em Recuperação Judicial  \n",
            "Cristiane Barretto Sales  \n",
            "Diretora de Finanças e de Relações com Investidores  \n",
            "\n"
          ]
        }
      ]
    },
    {
      "cell_type": "code",
      "source": [
        "import re\n",
        "\n",
        "# Função para remover números de uma string\n",
        "def remover_numeros(texto):\n",
        "    return re.sub(r'\\d+', '', texto)\n",
        "\n",
        "# Aplicar preprocessamento\n",
        "df['Texto'] = df['Texto'].apply(remover_numeros)\n",
        "\n",
        "# Visualizar:\n",
        "print(df.loc[:, 'Texto'].iloc[0])"
      ],
      "metadata": {
        "colab": {
          "base_uri": "https://localhost:8080/"
        },
        "id": "yhSdf3O6ogY6",
        "outputId": "33157f39-3132-40cb-bcea-28771be6f0bb"
      },
      "execution_count": 12,
      "outputs": [
        {
          "output_type": "stream",
          "name": "stdout",
          "text": [
            " \n",
            " \n",
            " \n",
            " \n",
            " \n",
            " \n",
            " \n",
            " \n",
            "Oi S.A.  – Em Recuperação Judicial  \n",
            "CNPJ/ME nº ../ - \n",
            "NIRE .. - \n",
            "Companhia Aberta  \n",
            " \n",
            "FATO RELEVANTE  \n",
            " \n",
            "Oi S.A . – Em Recuperação Judicial  (“Oi” ou “ Companhia ”), em cumprimento ao \n",
            "disposto no art.  , §º, Lei nº ./, e  na Resolução CVM nº  /, vem informar \n",
            "aos seus acionistas e ao mercado em geral  que optou por descontinuar a divulgação \n",
            "das projeções de desempenho futuro  (“guidance ”), contemplando projeções e \n",
            "estimativas operacionais e financeiras divulgad as no Fato Relevante de  de julho de \n",
            ", tendo em vista as relevantes mudanças no cenário macroeconômico brasileiro e \n",
            "a consequente contrapartida no ambiente competitivo  e nas necessidades de \n",
            "financiamento  da Companhia . \n",
            " \n",
            "A Companhia também ressalta que as projeções contidas no Fato Relevante de  de \n",
            "dezembro de  , sobre o Blowout  das discussões com credores , não deve m ser \n",
            "consideradas como guidance . Isso  porque tais projeções  assumem premissas da \n",
            "negociação com os credores conforme os termos da proposta apresentada no material  \n",
            "e os indicadores financeiros e operacionais  divulgados poderiam ser objeto de revisão \n",
            "de acordo com o próprio resultado des sa discussão . \n",
            " \n",
            "A Companhia manterá seu s acionistas e o mercado informados sobre o \n",
            "desenvolvimento dos assuntos objeto deste Fato Relevante.  \n",
            " \n",
            "Rio de Janeiro,  de janeiro de  . \n",
            " \n",
            " \n",
            "Oi S.A.  – Em Recuperação Judicial  \n",
            "Cristiane Barretto Sales  \n",
            "Diretora de Finanças e de Relações com Investidores  \n",
            "\n"
          ]
        }
      ]
    },
    {
      "cell_type": "code",
      "source": [
        "!pip install textstat"
      ],
      "metadata": {
        "id": "jA03uctG6NQs",
        "outputId": "fc85ada0-66f3-45f4-91a2-c578533657e3",
        "colab": {
          "base_uri": "https://localhost:8080/"
        }
      },
      "execution_count": 14,
      "outputs": [
        {
          "output_type": "stream",
          "name": "stdout",
          "text": [
            "Looking in indexes: https://pypi.org/simple, https://us-python.pkg.dev/colab-wheels/public/simple/\n",
            "Collecting textstat\n",
            "  Downloading textstat-0.7.3-py3-none-any.whl (105 kB)\n",
            "\u001b[2K     \u001b[90m━━━━━━━━━━━━━━━━━━━━━━━━━━━━━━━━━━━━━━━\u001b[0m \u001b[32m105.1/105.1 kB\u001b[0m \u001b[31m5.6 MB/s\u001b[0m eta \u001b[36m0:00:00\u001b[0m\n",
            "\u001b[?25hCollecting pyphen (from textstat)\n",
            "  Downloading pyphen-0.14.0-py3-none-any.whl (2.0 MB)\n",
            "\u001b[2K     \u001b[90m━━━━━━━━━━━━━━━━━━━━━━━━━━━━━━━━━━━━━━━━\u001b[0m \u001b[32m2.0/2.0 MB\u001b[0m \u001b[31m54.6 MB/s\u001b[0m eta \u001b[36m0:00:00\u001b[0m\n",
            "\u001b[?25hInstalling collected packages: pyphen, textstat\n",
            "Successfully installed pyphen-0.14.0 textstat-0.7.3\n"
          ]
        }
      ]
    },
    {
      "cell_type": "code",
      "source": [
        "import re\n",
        "from textstat import textstat\n",
        "\n",
        "# Função para remover palavras específicas de uma string\n",
        "def remover_palavras(texto):\n",
        "    palavras_remover = ['FATO RELEVANTE', 'NIRE', 'Companhia Aberta', 'CNPJ']\n",
        "    padrao = r'\\b(?:{})\\b'.format('|'.join(map(re.escape, palavras_remover)))\n",
        "    return re.sub(padrao, '', texto)\n",
        "\n",
        "# Aplicar preprocessamento\n",
        "df['Texto'] = df['Texto'].apply(remover_palavras)\n",
        "\n",
        "# Visualizar o resultado do primeiro texto\n",
        "print(df.loc[:, 'Texto'].iloc[0])\n"
      ],
      "metadata": {
        "colab": {
          "base_uri": "https://localhost:8080/"
        },
        "id": "bef4h5V5p4-X",
        "outputId": "3fe759c8-0606-4ce3-bc6e-2261ebaf663d"
      },
      "execution_count": 15,
      "outputs": [
        {
          "output_type": "stream",
          "name": "stdout",
          "text": [
            " \n",
            " \n",
            " \n",
            " \n",
            " \n",
            " \n",
            " \n",
            " \n",
            "Oi S.A.  – Em Recuperação Judicial  \n",
            "/ME nº ../ - \n",
            " .. - \n",
            "  \n",
            " \n",
            "  \n",
            " \n",
            "Oi S.A . – Em Recuperação Judicial  (“Oi” ou “ Companhia ”), em cumprimento ao \n",
            "disposto no art.  , §º, Lei nº ./, e  na Resolução CVM nº  /, vem informar \n",
            "aos seus acionistas e ao mercado em geral  que optou por descontinuar a divulgação \n",
            "das projeções de desempenho futuro  (“guidance ”), contemplando projeções e \n",
            "estimativas operacionais e financeiras divulgad as no Fato Relevante de  de julho de \n",
            ", tendo em vista as relevantes mudanças no cenário macroeconômico brasileiro e \n",
            "a consequente contrapartida no ambiente competitivo  e nas necessidades de \n",
            "financiamento  da Companhia . \n",
            " \n",
            "A Companhia também ressalta que as projeções contidas no Fato Relevante de  de \n",
            "dezembro de  , sobre o Blowout  das discussões com credores , não deve m ser \n",
            "consideradas como guidance . Isso  porque tais projeções  assumem premissas da \n",
            "negociação com os credores conforme os termos da proposta apresentada no material  \n",
            "e os indicadores financeiros e operacionais  divulgados poderiam ser objeto de revisão \n",
            "de acordo com o próprio resultado des sa discussão . \n",
            " \n",
            "A Companhia manterá seu s acionistas e o mercado informados sobre o \n",
            "desenvolvimento dos assuntos objeto deste Fato Relevante.  \n",
            " \n",
            "Rio de Janeiro,  de janeiro de  . \n",
            " \n",
            " \n",
            "Oi S.A.  – Em Recuperação Judicial  \n",
            "Cristiane Barretto Sales  \n",
            "Diretora de Finanças e de Relações com Investidores  \n",
            "\n"
          ]
        }
      ]
    },
    {
      "cell_type": "code",
      "source": [
        "import re\n",
        "\n",
        "# Função para remover padrões específicos de uma string\n",
        "def remover_padroes(texto):\n",
        "    padroes_remover = ['S\\.A\\.', 'nº', '/ME', '/']\n",
        "    for padrao in padroes_remover:\n",
        "        texto = re.sub(padrao, '', texto)\n",
        "    return texto\n",
        "\n",
        "# Aplicar remoção de padrões\n",
        "df['Texto'] = df['Texto'].apply(remover_padroes)\n",
        "\n",
        "\n",
        "# Visualizar o resultado do primeiro texto\n",
        "print(df.loc[:, 'Texto'].iloc[0])\n"
      ],
      "metadata": {
        "id": "Wa6kFnfBx7eg",
        "outputId": "b49b6ed4-4746-4a58-d7f1-4bdd8719054a",
        "colab": {
          "base_uri": "https://localhost:8080/"
        }
      },
      "execution_count": 16,
      "outputs": [
        {
          "output_type": "stream",
          "name": "stdout",
          "text": [
            " \n",
            " \n",
            " \n",
            " \n",
            " \n",
            " \n",
            " \n",
            " \n",
            "Oi   – Em Recuperação Judicial  \n",
            "  .. - \n",
            " .. - \n",
            "  \n",
            " \n",
            "  \n",
            " \n",
            "Oi S.A . – Em Recuperação Judicial  (“Oi” ou “ Companhia ”), em cumprimento ao \n",
            "disposto no art.  , §º, Lei  ., e  na Resolução CVM   , vem informar \n",
            "aos seus acionistas e ao mercado em geral  que optou por descontinuar a divulgação \n",
            "das projeções de desempenho futuro  (“guidance ”), contemplando projeções e \n",
            "estimativas operacionais e financeiras divulgad as no Fato Relevante de  de julho de \n",
            ", tendo em vista as relevantes mudanças no cenário macroeconômico brasileiro e \n",
            "a consequente contrapartida no ambiente competitivo  e nas necessidades de \n",
            "financiamento  da Companhia . \n",
            " \n",
            "A Companhia também ressalta que as projeções contidas no Fato Relevante de  de \n",
            "dezembro de  , sobre o Blowout  das discussões com credores , não deve m ser \n",
            "consideradas como guidance . Isso  porque tais projeções  assumem premissas da \n",
            "negociação com os credores conforme os termos da proposta apresentada no material  \n",
            "e os indicadores financeiros e operacionais  divulgados poderiam ser objeto de revisão \n",
            "de acordo com o próprio resultado des sa discussão . \n",
            " \n",
            "A Companhia manterá seu s acionistas e o mercado informados sobre o \n",
            "desenvolvimento dos assuntos objeto deste Fato Relevante.  \n",
            " \n",
            "Rio de Janeiro,  de janeiro de  . \n",
            " \n",
            " \n",
            "Oi   – Em Recuperação Judicial  \n",
            "Cristiane Barretto Sales  \n",
            "Diretora de Finanças e de Relações com Investidores  \n",
            "\n"
          ]
        }
      ]
    },
    {
      "cell_type": "code",
      "source": [
        "import re\n",
        "from textstat import textstat\n",
        "\n",
        "# Aplicar preprocessamento e calcular o Fog Index no DataFrame 'df_portugues'\n",
        "df['fog_index'] = df['Texto'].apply(lambda x: textstat.gunning_fog(x))\n",
        "\n",
        "# Visualizar o resultado\n",
        "print(df[['Texto', 'fog_index']])\n",
        "\n"
      ],
      "metadata": {
        "colab": {
          "base_uri": "https://localhost:8080/"
        },
        "id": "bCeNYG5GoVar",
        "outputId": "090a203a-b840-4017-c16d-631e8d41aff8"
      },
      "execution_count": 17,
      "outputs": [
        {
          "output_type": "stream",
          "name": "stdout",
          "text": [
            "                                                  Texto  fog_index\n",
            "0      \\n \\n \\n \\n \\n \\n \\n \\nOi   – Em Recuperação ...      18.58\n",
            "1      \\n \\nCRUZEIRO DO SUL EDUCACIONAL    \\n  .. - ...      13.93\n",
            "2                                                   ...      16.23\n",
            "3                                                   ...      16.23\n",
            "4     BANCO SANTANDER (BRASIL)   \\n de Capital Autor...      14.64\n",
            "...                                                 ...        ...\n",
            "1171   \\n \\n \\nPACAEMBU CONSTRUTORA    \\n n° .. - \\n...      13.16\n",
            "1172   \\n \\n \\nPACAEMBU CONSTRUTORA    \\n n° .. - \\n...      14.09\n",
            "1173   \\n \\n \\nPACAEMBU CONSTRUTORA    \\n n° .. - \\n...      14.51\n",
            "1174   \\n   .. - \\n  \\n \\n  \\nMUDANÇAS NO COMITÊ  EX...      18.20\n",
            "1175   \\n   .. - \\n  \\n \\n  \\nCANCELAMENTO DE AÇÕES ...      12.62\n",
            "\n",
            "[1176 rows x 2 columns]\n"
          ]
        }
      ]
    },
    {
      "cell_type": "code",
      "source": [
        "desc_estatisticas = df['fog_index'].describe()\n",
        "print(desc_estatisticas)"
      ],
      "metadata": {
        "id": "ji9ufB-HsiCS",
        "outputId": "4d00a270-e7d7-467e-a18f-4df56d0cdb02",
        "colab": {
          "base_uri": "https://localhost:8080/"
        }
      },
      "execution_count": 19,
      "outputs": [
        {
          "output_type": "stream",
          "name": "stdout",
          "text": [
            "count    1176.000000\n",
            "mean       15.877474\n",
            "std         4.064497\n",
            "min         0.000000\n",
            "25%        14.090000\n",
            "50%        16.070000\n",
            "75%        17.530000\n",
            "max        29.380000\n",
            "Name: fog_index, dtype: float64\n"
          ]
        }
      ]
    }
  ]
}