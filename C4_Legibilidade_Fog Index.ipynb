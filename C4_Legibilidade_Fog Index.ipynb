{
  "nbformat": 4,
  "nbformat_minor": 0,
  "metadata": {
    "colab": {
      "provenance": [],
      "authorship_tag": "ABX9TyOIPR2adMcouPdgwDmlnIak",
      "include_colab_link": true
    },
    "kernelspec": {
      "name": "python3",
      "display_name": "Python 3"
    },
    "language_info": {
      "name": "python"
    }
  },
  "cells": [
    {
      "cell_type": "markdown",
      "metadata": {
        "id": "view-in-github",
        "colab_type": "text"
      },
      "source": [
        "<a href=\"https://colab.research.google.com/github/jeffersonramelo/Textual-Analysis/blob/main/C4_Legibilidade_Fog%20Index.ipynb\" target=\"_parent\"><img src=\"https://colab.research.google.com/assets/colab-badge.svg\" alt=\"Open In Colab\"/></a>"
      ]
    },
    {
      "cell_type": "code",
      "execution_count": 1,
      "metadata": {
        "id": "OauzDssvfU40"
      },
      "outputs": [],
      "source": [
        "import pandas as pd\n",
        "\n",
        "df = pd.read_csv('/content/fatos relevantes 2023 texto.csv')\n"
      ]
    },
    {
      "cell_type": "code",
      "source": [
        "print(df.loc[:, 'Texto'].iloc[0])\n"
      ],
      "metadata": {
        "id": "QANFArZTjv9h",
        "outputId": "4581ffbb-857b-4397-e07a-3e89e72daf5f",
        "colab": {
          "base_uri": "https://localhost:8080/"
        }
      },
      "execution_count": 3,
      "outputs": [
        {
          "output_type": "stream",
          "name": "stdout",
          "text": [
            " \n",
            " \n",
            " \n",
            " \n",
            " \n",
            " \n",
            " \n",
            " \n",
            "Oi S.A.  – Em Recuperação Judicial  \n",
            "CNPJ/ME nº 76.535.764/0001 -43 \n",
            "NIRE 33.3.0029520 -8 \n",
            "Companhia Aberta  \n",
            " \n",
            "FATO RELEVANTE  \n",
            " \n",
            "Oi S.A . – Em Recuperação Judicial  (“Oi” ou “ Companhia ”), em cumprimento ao \n",
            "disposto no art.  157, §4º, Lei nº 6.404/1976, e  na Resolução CVM nº 44 /21, vem informar \n",
            "aos seus acionistas e ao mercado em geral  que optou por descontinuar a divulgação \n",
            "das projeções de desempenho futuro  (“guidance ”), contemplando projeções e \n",
            "estimativas operacionais e financeiras divulgad as no Fato Relevante de 19 de julho de \n",
            "2021, tendo em vista as relevantes mudanças no cenário macroeconômico brasileiro e \n",
            "a consequente contrapartida no ambiente competitivo  e nas necessidades de \n",
            "financiamento  da Companhia . \n",
            " \n",
            "A Companhia também ressalta que as projeções contidas no Fato Relevante de 31 de \n",
            "dezembro de 2022 , sobre o Blowout  das discussões com credores , não deve m ser \n",
            "consideradas como guidance . Isso  porque tais projeções  assumem premissas da \n",
            "negociação com os credores conforme os termos da proposta apresentada no material  \n",
            "e os indicadores financeiros e operacionais  divulgados poderiam ser objeto de revisão \n",
            "de acordo com o próprio resultado des sa discussão . \n",
            " \n",
            "A Companhia manterá seu s acionistas e o mercado informados sobre o \n",
            "desenvolvimento dos assuntos objeto deste Fato Relevante.  \n",
            " \n",
            "Rio de Janeiro, 16 de janeiro de 2023 . \n",
            " \n",
            " \n",
            "Oi S.A.  – Em Recuperação Judicial  \n",
            "Cristiane Barretto Sales  \n",
            "Diretora de Finanças e de Relações com Investidores  \n",
            "\n"
          ]
        }
      ]
    },
    {
      "cell_type": "code",
      "source": [
        "import re\n",
        "from textstat import textstat  # Biblioteca textstat para calcular o Fog Index\n",
        "\n",
        "# Função para remover números de uma string\n",
        "def remover_numeros(texto):\n",
        "    return re.sub(r'\\d+', '', texto)\n",
        "\n",
        "# Aplicar preprocessamento e calcular o Fog Index\n",
        "df['texto'] = df['texto'].apply(remover_numeros)\n",
        "df['fog_index'] = df['texto'].apply(lambda x: textstat.gunning_fog(x))\n",
        "\n",
        "# Visualizar o resultado\n",
        "print(df[['texto', 'fog_index']])\n"
      ],
      "metadata": {
        "id": "hYPlB5NGna7I"
      },
      "execution_count": null,
      "outputs": []
    }
  ]
}