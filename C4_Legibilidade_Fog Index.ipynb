{
  "nbformat": 4,
  "nbformat_minor": 0,
  "metadata": {
    "colab": {
      "provenance": [],
      "authorship_tag": "ABX9TyN3CFp7PD17pORsYAqRGuQ0",
      "include_colab_link": true
    },
    "kernelspec": {
      "name": "python3",
      "display_name": "Python 3"
    },
    "language_info": {
      "name": "python"
    }
  },
  "cells": [
    {
      "cell_type": "markdown",
      "metadata": {
        "id": "view-in-github",
        "colab_type": "text"
      },
      "source": [
        "<a href=\"https://colab.research.google.com/github/jeffersonramelo/Textual-Analysis/blob/main/C4_Legibilidade_Fog%20Index.ipynb\" target=\"_parent\"><img src=\"https://colab.research.google.com/assets/colab-badge.svg\" alt=\"Open In Colab\"/></a>"
      ]
    },
    {
      "cell_type": "code",
      "execution_count": 129,
      "metadata": {
        "id": "OauzDssvfU40"
      },
      "outputs": [],
      "source": [
        "import pandas as pd\n",
        "\n",
        "df = pd.read_csv('/content/fatos relevantes 2023 texto.csv')\n"
      ]
    },
    {
      "cell_type": "code",
      "source": [
        "#vizualiar 1175 obs\n",
        "print(df.loc[:, 'Texto'].iloc[1175])\n"
      ],
      "metadata": {
        "id": "QANFArZTjv9h",
        "outputId": "35f64ab1-7553-4c07-e9ba-15a98a2bab98",
        "colab": {
          "base_uri": "https://localhost:8080/"
        }
      },
      "execution_count": 130,
      "outputs": [
        {
          "output_type": "stream",
          "name": "stdout",
          "text": [
            " \n",
            " CNPJ nº 97.837.181/0001 -47 \n",
            "Companhia Aberta  \n",
            " \n",
            "FATO RELEVANTE  \n",
            "CANCELAMENTO DE AÇÕES EM TESOURARIA  \n",
            " \n",
            "DEXCO  S.A. (“Dexco” ou “Companhia”) , em observância ao disposto no artigo 157, \n",
            "parágrafo 4º da Lei nº 6.404/76 e na Resolução CVM nº 44/2021, comunica aos seus \n",
            "acionistas e ao mercado em geral que, que nesta data foi aprovado pel o Conselho de \n",
            "Administração  da Companhia  o cancelamento de 16.493.000 ações ordinárias de \n",
            "emissão própria existentes na tesouraria  (representando 56,6%), sem redução do valor \n",
            "do capital social, adquiridas pela Companhia por meio do programa de recompra \n",
            "autorizado pelo Conselho de Administração em  12.01.2022 , nos termos do “iii” do Art. \n",
            "18 do Estatuto Social  da Dexco . \n",
            "Em decorrência desse cancelamento, o capital social da Companhia de R$ \n",
            "3.370.188.626,80 (três bilhões, trezentos e setenta milhões, cento e oitenta e oito mil, \n",
            "seiscentos e vinte e seis reais e oitenta centavos) passa a ser representado por \n",
            "820.566.246  ações ordinárias .  \n",
            "O artigo 5º do Esta tuto Social da Dexco será atualizado para registrar a nova  \n",
            "composição do  capital social  por deliberação dos acionistas reunidos em assembleia \n",
            "geral a ser oportunamente convocada . \n",
            "São Paulo (SP),  03 de maio  de 202 3. \n",
            " \n",
            "Francisco Augusto Semeraro Neto  \n",
            "Diretor de Administração, Finanças e Relações com Investidores  \n",
            " \n",
            " \n",
            " CNPJ nº 97.837.181/0001 -47 \n",
            "Companhia Aberta  \n",
            " \n",
            "MATERIAL FACT  \n",
            "CANCELLATION OF TREASURY SHARES  \n",
            " \n",
            "DEXCO  S.A. (“Dexco” or “Company ”), in compliance  with article 157 , paragraph 4 of \n",
            "Law 6.404/76 and with CVM Resolution No. 44/2021,  informs its shareholders and the \n",
            "market in general that, on today’s date, the Company’s Board of Directors approved the \n",
            "cancellation of 16 ,493,000  common shares of own issue held in treasury without \n",
            "reducing  the value of the capital stock  (representing 56.6%), acquired by the Company \n",
            "through  the share buyback program authorized by the Board of Directors  on January 12, \n",
            "2022 , pursuant to terms “iii” of Art. 1 8 of Dexco’s Bylaws.  \n",
            "Due to the cancellation mentioned, the Company’s capital stock of R$3,370,188, 626.80 \n",
            "(three billion, three hundred and seventy million , one hundred and eighty -eight thousand, \n",
            "six hundred and twenty -six reais and eighty cents ) will be represented by 820,566,246 \n",
            "common  shares.  \n",
            "The article 5 of Dexco’s Bylaws will be  updated to record the new composition of the \n",
            "capital stock and will be submitted to a Shareholders’ Meeting to be called in due course.  \n",
            " \n",
            "São Paulo (SP),  May 03,  2023. \n",
            " \n",
            "Francisco Augusto Semeraro Neto  \n",
            "Director of Administration, Finance, and Investor Relations  \n",
            " \n"
          ]
        }
      ]
    },
    {
      "cell_type": "code",
      "source": [
        "# Função para remover números de uma string\n",
        "def remover_numeros(texto):\n",
        "    return re.sub(r'\\d+', '', texto)\n",
        "\n",
        "\n",
        "    \n",
        "# Aplicar preprocessamento \n",
        "df['Texto'] = df['Texto'].apply(remover_numeros)\n",
        "\n",
        "#vizualizar:\n",
        "print(df.loc[:, 'Texto'].iloc[0])"
      ],
      "metadata": {
        "colab": {
          "base_uri": "https://localhost:8080/"
        },
        "id": "yhSdf3O6ogY6",
        "outputId": "b9c8a6f5-01a2-41ba-b438-0fc83734452c"
      },
      "execution_count": 131,
      "outputs": [
        {
          "output_type": "stream",
          "name": "stdout",
          "text": [
            " \n",
            " \n",
            " \n",
            " \n",
            " \n",
            " \n",
            " \n",
            " \n",
            "Oi S.A.  – Em Recuperação Judicial  \n",
            "CNPJ/ME nº ../ - \n",
            "NIRE .. - \n",
            "Companhia Aberta  \n",
            " \n",
            "FATO RELEVANTE  \n",
            " \n",
            "Oi S.A . – Em Recuperação Judicial  (“Oi” ou “ Companhia ”), em cumprimento ao \n",
            "disposto no art.  , §º, Lei nº ./, e  na Resolução CVM nº  /, vem informar \n",
            "aos seus acionistas e ao mercado em geral  que optou por descontinuar a divulgação \n",
            "das projeções de desempenho futuro  (“guidance ”), contemplando projeções e \n",
            "estimativas operacionais e financeiras divulgad as no Fato Relevante de  de julho de \n",
            ", tendo em vista as relevantes mudanças no cenário macroeconômico brasileiro e \n",
            "a consequente contrapartida no ambiente competitivo  e nas necessidades de \n",
            "financiamento  da Companhia . \n",
            " \n",
            "A Companhia também ressalta que as projeções contidas no Fato Relevante de  de \n",
            "dezembro de  , sobre o Blowout  das discussões com credores , não deve m ser \n",
            "consideradas como guidance . Isso  porque tais projeções  assumem premissas da \n",
            "negociação com os credores conforme os termos da proposta apresentada no material  \n",
            "e os indicadores financeiros e operacionais  divulgados poderiam ser objeto de revisão \n",
            "de acordo com o próprio resultado des sa discussão . \n",
            " \n",
            "A Companhia manterá seu s acionistas e o mercado informados sobre o \n",
            "desenvolvimento dos assuntos objeto deste Fato Relevante.  \n",
            " \n",
            "Rio de Janeiro,  de janeiro de  . \n",
            " \n",
            " \n",
            "Oi S.A.  – Em Recuperação Judicial  \n",
            "Cristiane Barretto Sales  \n",
            "Diretora de Finanças e de Relações com Investidores  \n",
            "\n"
          ]
        }
      ]
    },
    {
      "cell_type": "code",
      "source": [
        "import re\n",
        "from textstat import textstat\n",
        "\n",
        "# Função para remover palavras específicas de uma string\n",
        "def remover_palavras(texto):\n",
        "    palavras_remover = ['FATO RELEVANTE', 'NIRE', 'Companhia Aberta', 'CNPJ']\n",
        "    padrao = r'\\b(?:{})\\b'.format('|'.join(map(re.escape, palavras_remover)))\n",
        "    return re.sub(padrao, '', texto)\n",
        "\n",
        "# Aplicar preprocessamento\n",
        "df['Texto'] = df['Texto'].apply(remover_palavras)\n",
        "\n",
        "# Visualizar o resultado do primeiro texto\n",
        "print(df.loc[:, 'Texto'].iloc[0])\n"
      ],
      "metadata": {
        "colab": {
          "base_uri": "https://localhost:8080/"
        },
        "id": "bef4h5V5p4-X",
        "outputId": "2a0746bc-8d9d-46eb-bf28-766736385154"
      },
      "execution_count": 132,
      "outputs": [
        {
          "output_type": "stream",
          "name": "stdout",
          "text": [
            " \n",
            " \n",
            " \n",
            " \n",
            " \n",
            " \n",
            " \n",
            " \n",
            "Oi S.A.  – Em Recuperação Judicial  \n",
            "/ME nº ../ - \n",
            " .. - \n",
            "  \n",
            " \n",
            "  \n",
            " \n",
            "Oi S.A . – Em Recuperação Judicial  (“Oi” ou “ Companhia ”), em cumprimento ao \n",
            "disposto no art.  , §º, Lei nº ./, e  na Resolução CVM nº  /, vem informar \n",
            "aos seus acionistas e ao mercado em geral  que optou por descontinuar a divulgação \n",
            "das projeções de desempenho futuro  (“guidance ”), contemplando projeções e \n",
            "estimativas operacionais e financeiras divulgad as no Fato Relevante de  de julho de \n",
            ", tendo em vista as relevantes mudanças no cenário macroeconômico brasileiro e \n",
            "a consequente contrapartida no ambiente competitivo  e nas necessidades de \n",
            "financiamento  da Companhia . \n",
            " \n",
            "A Companhia também ressalta que as projeções contidas no Fato Relevante de  de \n",
            "dezembro de  , sobre o Blowout  das discussões com credores , não deve m ser \n",
            "consideradas como guidance . Isso  porque tais projeções  assumem premissas da \n",
            "negociação com os credores conforme os termos da proposta apresentada no material  \n",
            "e os indicadores financeiros e operacionais  divulgados poderiam ser objeto de revisão \n",
            "de acordo com o próprio resultado des sa discussão . \n",
            " \n",
            "A Companhia manterá seu s acionistas e o mercado informados sobre o \n",
            "desenvolvimento dos assuntos objeto deste Fato Relevante.  \n",
            " \n",
            "Rio de Janeiro,  de janeiro de  . \n",
            " \n",
            " \n",
            "Oi S.A.  – Em Recuperação Judicial  \n",
            "Cristiane Barretto Sales  \n",
            "Diretora de Finanças e de Relações com Investidores  \n",
            "\n"
          ]
        }
      ]
    },
    {
      "cell_type": "code",
      "source": [
        "import re\n",
        "\n",
        "# Função para remover padrões específicos de uma string\n",
        "def remover_padroes(texto):\n",
        "    padroes_remover = ['S\\.A\\.', 'nº', '/ME', '/']\n",
        "    for padrao in padroes_remover:\n",
        "        texto = re.sub(padrao, '', texto)\n",
        "    return texto\n",
        "\n",
        "# Aplicar remoção de padrões\n",
        "df['Texto'] = df['Texto'].apply(remover_padroes)\n",
        "\n",
        "\n",
        "# Visualizar o resultado do primeiro texto\n",
        "print(df.loc[:, 'Texto'].iloc[0])\n"
      ],
      "metadata": {
        "id": "Wa6kFnfBx7eg",
        "outputId": "741a7922-01fb-4071-c198-7790403e201e",
        "colab": {
          "base_uri": "https://localhost:8080/"
        }
      },
      "execution_count": 133,
      "outputs": [
        {
          "output_type": "stream",
          "name": "stdout",
          "text": [
            " \n",
            " \n",
            " \n",
            " \n",
            " \n",
            " \n",
            " \n",
            " \n",
            "Oi   – Em Recuperação Judicial  \n",
            "  .. - \n",
            " .. - \n",
            "  \n",
            " \n",
            "  \n",
            " \n",
            "Oi S.A . – Em Recuperação Judicial  (“Oi” ou “ Companhia ”), em cumprimento ao \n",
            "disposto no art.  , §º, Lei  ., e  na Resolução CVM   , vem informar \n",
            "aos seus acionistas e ao mercado em geral  que optou por descontinuar a divulgação \n",
            "das projeções de desempenho futuro  (“guidance ”), contemplando projeções e \n",
            "estimativas operacionais e financeiras divulgad as no Fato Relevante de  de julho de \n",
            ", tendo em vista as relevantes mudanças no cenário macroeconômico brasileiro e \n",
            "a consequente contrapartida no ambiente competitivo  e nas necessidades de \n",
            "financiamento  da Companhia . \n",
            " \n",
            "A Companhia também ressalta que as projeções contidas no Fato Relevante de  de \n",
            "dezembro de  , sobre o Blowout  das discussões com credores , não deve m ser \n",
            "consideradas como guidance . Isso  porque tais projeções  assumem premissas da \n",
            "negociação com os credores conforme os termos da proposta apresentada no material  \n",
            "e os indicadores financeiros e operacionais  divulgados poderiam ser objeto de revisão \n",
            "de acordo com o próprio resultado des sa discussão . \n",
            " \n",
            "A Companhia manterá seu s acionistas e o mercado informados sobre o \n",
            "desenvolvimento dos assuntos objeto deste Fato Relevante.  \n",
            " \n",
            "Rio de Janeiro,  de janeiro de  . \n",
            " \n",
            " \n",
            "Oi   – Em Recuperação Judicial  \n",
            "Cristiane Barretto Sales  \n",
            "Diretora de Finanças e de Relações com Investidores  \n",
            "\n"
          ]
        }
      ]
    },
    {
      "cell_type": "code",
      "source": [
        "# além do fato relevante em português, algumas companhias também divulgam em inglês, temos que exluir\n",
        "print(df.loc[:, 'Texto'].iloc[1174])"
      ],
      "metadata": {
        "id": "IO-y2UpZytdO",
        "outputId": "ded7f4b4-8e6c-4c99-e600-dd9ad723d00c",
        "colab": {
          "base_uri": "https://localhost:8080/"
        }
      },
      "execution_count": 134,
      "outputs": [
        {
          "output_type": "stream",
          "name": "stdout",
          "text": [
            " \n",
            "   .. - \n",
            "  \n",
            " \n",
            "  \n",
            "MUDANÇAS NO COMITÊ  EXECUTIV O DA DEXCO  \n",
            "DEXCO   (“Dexco” ou “Companhia”) comunica aos seus acionistas  e mercado em geral,  mudanças na estrutura de seu Comitê  \n",
            "Executiv o. \n",
            "Marcelo Izzo, Diretor  Vice -Presidente Deca e Revestimentos , encerra , de comum acordo com a Companhia, um ciclo de cinco anos \n",
            "de uma forte atuação na transformação da Deca e sua união com Revestimentos . Até abril de , a Dexco contará com o apoio \n",
            "do Marc elo para finalizar os  principais projetos  em andamento e auxiliar no processo de  transição  para  Raul Guimarães Guaragna, \n",
            "que assumirá  a VP da Deca e Revestimentos . Raul ingressou na Companhia  em junho  de   e, desde então , atuou  no movimento \n",
            "de transformação  da VP Madeira,  garantindo o  seu melhor posicionamento comercial  e o máximo retorno das operações fabris  e \n",
            "florestal , o que sustentou  os resultados consistentes  dessa divisão.  \n",
            "Ainda,  Carlos Henrique  Pinto  Haddad assumirá a VP Madeira , deixando o cargo de Diretor  Vice-Presidente  de Administração, \n",
            "Finanças e R elações com Investidores , posição que ocup ava desde  setembro de  . Neste período, o Henrique  trouxe \n",
            "importantes avan ços na gestão de caixa da Co mpanhia, em especial  relacionadas a s reduç ões de estoques e negociação com \n",
            "fornecedores, além d e garantir os altos patamares de governança corporativa . A posição de Diretor Administrativo, Financeiro e de  \n",
            "Relações com Investidores passará a ser ocupada por Francisco Augusto Semeraro  Neto . Francisco atua na Dexco  há quase quatro \n",
            "anos e ocupava até então a  posição de Diretor de Controladoria e CSC , além de possuir sólida vivência  na área financeira de grandes \n",
            "corporações, como Siemens, Whirlpool ( Divisão Compressores), Husqvarna e Embraer.  \n",
            "Neste moviment o, também foi incorporad a ao Comitê Executivo , sob responsabilidade da Marina Crocomo, a Diretoria de Marketing \n",
            "e Design , que passará a ser centralizada e atuante em todas as frentes de negócio da De xco. Marina  ingressou na Dexco há cerca \n",
            "de  anos, tendo construído sua carrei ra em empresas como Grupo Abril, Whirlpool e Affinity Petcare. Com isso, o Comitê Executivo \n",
            "da Dexco passará a ser composto por:  \n",
            "• Antonio Joaquim de Oliveira – Diretor Presidente  \n",
            "• Carlos Henrique Pinto Haddad – Diretor Vice -Presidente da  Madeira  \n",
            "• Raul Guimarães Guaragna  – Diretor Vice -Presidente Deca e Revestimentos  \n",
            "• Francisco Augusto Semeraro  Neto  - Diretor Administrativo, Financeiro e de Relações com Investidores   \n",
            "• Glizia Maria do Prado – Diretora de Gente e ESG  \n",
            "• Daniel Lopes Franco  – Diret or de TI e Growth  \n",
            "• Marina Crocomo  – Diretora de Marketing e Design  \n",
            "Por fim,  a Dexco  comunica também a aposentadoria de Marco Antonio Milleo, Diretor de Engenharia e P&D da  Deca,  após  anos \n",
            "de dedicação a Companhia , tendo tido papel fundamental no processo  de transfo rmação da Divisão. Marco M illeo exercerá suas \n",
            "funções até o final de janeiro de  . \n",
            "Nos últimos  anos, a Dexco passou por mudanças transformacionais, as  quais buscaram garantir maior eficiência de  suas \n",
            "operações , mant endo sua trajetória ESG, evolu ção em sua transformação digital  e aproxima ção com  seus  clientes e consumidores . \n",
            "Com essas movimentações, a Dexco  reforça seu compromisso em dar continuidade ao plano estratégico de longo prazo , visando  \n",
            "maximizar a criação de valor para seus acionista s e demais stakeholders . \n",
            "São Paulo (SP),  de janeiro de  . \n",
            "Antonio Joaquim de Oliveira  \n",
            "Diretor Presidente  \n",
            " \n",
            "   .. - \n",
            "A Public Listed Company  \n",
            "MATERIAL FACT  \n",
            "CHANGES IN THE DEXCO EXECUTIVE COMMITTEE  \n",
            "DEXCO   (“Dexco” or “Company ”) hereby notifies its shareholders and the market in general  changes in the structure of its \n",
            "Executive Committee . \n",
            "Marcelo Izzo, Director Vice -President of Deca and Tiles , closes , in common agreement with the Company, a five -year cycle of \n",
            "strong action in the transformation of Deca and its union with Tiles . Until April , Dexco will have Marcelo's support  to finalize \n",
            "the main ongoing projects and assist in the transition process to Raul Guimarães Guaragna, who will assume the VP of Deca and \n",
            "Tiles  Division . Raul joined the Company in June  and, since then, has been involved in the transformation of Wood Division , \n",
            "ensuring its best commercial positioning and maximum return from the manufacturing and forestry operations, which has \n",
            "supported the consistent r esults of this division.  \n",
            "Also, Carlos Henrique Pinto Haddad will take over the VP of Wood Division , leaving the position of Director V P Administration, \n",
            "Finance and IR, position that he occupied since September . During this peri od, Henrique brought important advances in the \n",
            "Company's cash management, in particular inventory reductions and negotiation with suppliers, in addition to ensuring the hig hest \n",
            "levels of corporate governance. The position of Administrative, Financial and I nvestor Relations Director will be occupied by \n",
            "Francisco Augusto Semeraro Neto. Francisco has been working at Dexco for almost four years and until then held the position o f \n",
            "Director of Controllership and Shared Service Center ( CSC ), in addition to having solid experience in the financial area of large \n",
            "corporations, such as Siemens, Whirlpool (Compressors Division), Husqvarna and Embraer.  \n",
            "In this movement, the Executive Committee  will also incorporated the Marketing and Design Department, under the responsibility \n",
            "of Marina Crocomo,  which will become centralized and active in all Dexco's business fronts. Marina joined Dexco about  years \n",
            "ago, having built her career in companies such as Grupo Abril, Whirlpool and Affinity Petcare. With this, the Execu tive Committee \n",
            "of Dexco will be composed of:  \n",
            "• Antonio Joaquim de Oliveira – Chief Executive Officer  \n",
            "• Carlos Henrique Pinto Haddad – Director Vice -President of Wood Division  \n",
            "• Raul Guimarães Guaragna  – Director Vice -President of Deca and  Tiles  \n",
            "• Francisco Augusto Semeraro  Neto  - Director Vice -President of Administrations, Finance and IR \n",
            "• Glizia Maria do Prado – Director of People and ESG  \n",
            "• Daniel Lopes Franco  – Director of IT and Growth  \n",
            "• Marina Crocomo  – Director of Marketing and Design  \n",
            " \n",
            "Finally, Dexco also announces the retirement of Marco Antonio Milleo, Director of Engineering and R&D at Deca, after  years  of \n",
            "dedication to the Company, having played a fundamental role in the Division's transformation process. Marco Milleo will carry  out \n",
            "his duties until the end of January  . \n",
            " \n",
            "Over the past  years, Dexco has undergone transformational changes, which sought to ensure greater efficiency in its  operations, \n",
            "maintaining its ESG trajectory, evolving its digital transformation and getting closer to its customers and consumers. With these \n",
            "moves, Dexco reinforces its commitment to continue the long -term strategic plan, aiming to maximize the creation of value for \n",
            "its shareholders and other stakeholders.  \n",
            "São Paulo (SP), January rd,  . \n",
            "Antonio Joaquim de Oliveira  \n",
            "Chief Executive Officer  \n"
          ]
        }
      ]
    },
    {
      "cell_type": "code",
      "source": [
        "!pip install langid"
      ],
      "metadata": {
        "id": "SeHAdqHW8OYX",
        "outputId": "da63d43c-6e99-415b-8d31-1ca16c1c358f",
        "colab": {
          "base_uri": "https://localhost:8080/"
        }
      },
      "execution_count": 98,
      "outputs": [
        {
          "output_type": "stream",
          "name": "stdout",
          "text": [
            "Looking in indexes: https://pypi.org/simple, https://us-python.pkg.dev/colab-wheels/public/simple/\n",
            "Collecting langid\n",
            "  Downloading langid-1.1.6.tar.gz (1.9 MB)\n",
            "\u001b[2K     \u001b[90m━━━━━━━━━━━━━━━━━━━━━━━━━━━━━━━━━━━━━━━━\u001b[0m \u001b[32m1.9/1.9 MB\u001b[0m \u001b[31m21.3 MB/s\u001b[0m eta \u001b[36m0:00:00\u001b[0m\n",
            "\u001b[?25h  Preparing metadata (setup.py) ... \u001b[?25l\u001b[?25hdone\n",
            "Requirement already satisfied: numpy in /usr/local/lib/python3.10/dist-packages (from langid) (1.22.4)\n",
            "Building wheels for collected packages: langid\n",
            "  Building wheel for langid (setup.py) ... \u001b[?25l\u001b[?25hdone\n",
            "  Created wheel for langid: filename=langid-1.1.6-py3-none-any.whl size=1941171 sha256=45e6341d9c0ac4ea785169ac76be142f83d5ac666b374d7e5cb9ceb2441d737d\n",
            "  Stored in directory: /root/.cache/pip/wheels/23/c8/c6/eed80894918490a175677414d40bd7c851413bbe03d4856c3c\n",
            "Successfully built langid\n",
            "Installing collected packages: langid\n",
            "Successfully installed langid-1.1.6\n"
          ]
        }
      ]
    },
    {
      "cell_type": "code",
      "source": [
        "from langdetect import detect\n",
        "\n",
        "# Função para verificar se o texto é predominantemente em português\n",
        "def verificar_portugues(texto):\n",
        "    try:\n",
        "        return detect(texto) == 'pt'\n",
        "    except:\n",
        "        return False\n",
        "\n",
        "# Filtrar as linhas com texto predominantemente em português\n",
        "df_portugues = df[df['Texto'].apply(verificar_portugues)]"
      ],
      "metadata": {
        "id": "YOk7uOL59RN8"
      },
      "execution_count": 135,
      "outputs": []
    },
    {
      "cell_type": "code",
      "source": [
        "#Vizualizar 910 OBS\n",
        "print(df_portugues.loc[:, 'Texto'].iloc[910])"
      ],
      "metadata": {
        "id": "xtk-JX1-40kD"
      },
      "execution_count": null,
      "outputs": []
    },
    {
      "cell_type": "code",
      "source": [
        "pip install textstat"
      ],
      "metadata": {
        "id": "HpJOh21f73LW"
      },
      "execution_count": null,
      "outputs": []
    },
    {
      "cell_type": "code",
      "source": [
        "import re\n",
        "from textstat import textstat\n",
        "\n",
        "# Aplicar preprocessamento e calcular o Fog Index no DataFrame 'df_portugues'\n",
        "df_portugues['fog_index'] = df_portugues['Texto'].apply(lambda x: textstat.gunning_fog(x))\n",
        "\n",
        "# Visualizar o resultado\n",
        "print(df_portugues[['Texto', 'fog_index']])\n",
        "\n"
      ],
      "metadata": {
        "colab": {
          "base_uri": "https://localhost:8080/"
        },
        "id": "bCeNYG5GoVar",
        "outputId": "621a5524-b8fa-45c3-906f-6d93a136582d"
      },
      "execution_count": 145,
      "outputs": [
        {
          "output_type": "stream",
          "name": "stdout",
          "text": [
            "                                                  Texto  fog_index\n",
            "0      \\n \\n \\n \\n \\n \\n \\n \\nOi   – Em Recuperação ...      18.58\n",
            "2                                                   ...      16.23\n",
            "3                                                   ...      16.23\n",
            "4     BANCO SANTANDER (BRASIL)   \\n de Capital Autor...      14.64\n",
            "5      \\n  \\n \\n \\nINVESTIMENTOS E PARTICIPAÇÕES \\nE...      15.69\n",
            "...                                                 ...        ...\n",
            "1170   \\n \\n \\nPACAEMBU  CONSTRUTORA   \\n n° ..- \\n ...      18.43\n",
            "1171   \\n \\n \\nPACAEMBU CONSTRUTORA    \\n n° .. - \\n...      13.16\n",
            "1172   \\n \\n \\nPACAEMBU CONSTRUTORA    \\n n° .. - \\n...      14.09\n",
            "1173   \\n \\n \\nPACAEMBU CONSTRUTORA    \\n n° .. - \\n...      14.51\n",
            "1175   \\n   .. - \\n  \\n \\n  \\nCANCELAMENTO DE AÇÕES ...      12.62\n",
            "\n",
            "[915 rows x 2 columns]\n"
          ]
        },
        {
          "output_type": "stream",
          "name": "stderr",
          "text": [
            "<ipython-input-145-b0a9493af8ca>:5: SettingWithCopyWarning: \n",
            "A value is trying to be set on a copy of a slice from a DataFrame.\n",
            "Try using .loc[row_indexer,col_indexer] = value instead\n",
            "\n",
            "See the caveats in the documentation: https://pandas.pydata.org/pandas-docs/stable/user_guide/indexing.html#returning-a-view-versus-a-copy\n",
            "  df_portugues['fog_index'] = df_portugues['Texto'].apply(lambda x: textstat.gunning_fog(x))\n"
          ]
        }
      ]
    },
    {
      "cell_type": "code",
      "source": [
        "desc_estatisticas = df_portugues['fog_index'].describe()\n",
        "print(desc_estatisticas)"
      ],
      "metadata": {
        "id": "ji9ufB-HsiCS",
        "outputId": "ae5440ab-ebe9-412f-fd4b-ab7162e16296",
        "colab": {
          "base_uri": "https://localhost:8080/"
        }
      },
      "execution_count": 143,
      "outputs": [
        {
          "output_type": "stream",
          "name": "stdout",
          "text": [
            "count    915.000000\n",
            "mean      16.422087\n",
            "std        3.305374\n",
            "min       10.640000\n",
            "25%       14.160000\n",
            "50%       16.150000\n",
            "75%       18.130000\n",
            "max       29.380000\n",
            "Name: fog_index, dtype: float64\n"
          ]
        }
      ]
    },
    {
      "cell_type": "code",
      "source": [
        "# Visualizar linhas\n",
        "print(df.loc[:, 'Texto'].iloc[0])"
      ],
      "metadata": {
        "id": "ZCjGMnY6sI5y",
        "outputId": "7b6003d2-b558-4703-f7d7-0db19cd272f6",
        "colab": {
          "base_uri": "https://localhost:8080/"
        }
      },
      "execution_count": 144,
      "outputs": [
        {
          "output_type": "stream",
          "name": "stdout",
          "text": [
            " \n",
            " \n",
            " \n",
            " \n",
            " \n",
            " \n",
            " \n",
            " \n",
            "Oi   – Em Recuperação Judicial  \n",
            "  .. - \n",
            " .. - \n",
            "  \n",
            " \n",
            "  \n",
            " \n",
            "Oi S.A . – Em Recuperação Judicial  (“Oi” ou “ Companhia ”), em cumprimento ao \n",
            "disposto no art.  , §º, Lei  ., e  na Resolução CVM   , vem informar \n",
            "aos seus acionistas e ao mercado em geral  que optou por descontinuar a divulgação \n",
            "das projeções de desempenho futuro  (“guidance ”), contemplando projeções e \n",
            "estimativas operacionais e financeiras divulgad as no Fato Relevante de  de julho de \n",
            ", tendo em vista as relevantes mudanças no cenário macroeconômico brasileiro e \n",
            "a consequente contrapartida no ambiente competitivo  e nas necessidades de \n",
            "financiamento  da Companhia . \n",
            " \n",
            "A Companhia também ressalta que as projeções contidas no Fato Relevante de  de \n",
            "dezembro de  , sobre o Blowout  das discussões com credores , não deve m ser \n",
            "consideradas como guidance . Isso  porque tais projeções  assumem premissas da \n",
            "negociação com os credores conforme os termos da proposta apresentada no material  \n",
            "e os indicadores financeiros e operacionais  divulgados poderiam ser objeto de revisão \n",
            "de acordo com o próprio resultado des sa discussão . \n",
            " \n",
            "A Companhia manterá seu s acionistas e o mercado informados sobre o \n",
            "desenvolvimento dos assuntos objeto deste Fato Relevante.  \n",
            " \n",
            "Rio de Janeiro,  de janeiro de  . \n",
            " \n",
            " \n",
            "Oi   – Em Recuperação Judicial  \n",
            "Cristiane Barretto Sales  \n",
            "Diretora de Finanças e de Relações com Investidores  \n",
            "\n"
          ]
        }
      ]
    }
  ]
}