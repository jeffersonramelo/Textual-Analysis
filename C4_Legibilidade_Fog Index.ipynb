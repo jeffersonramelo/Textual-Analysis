{
  "nbformat": 4,
  "nbformat_minor": 0,
  "metadata": {
    "colab": {
      "provenance": [],
      "authorship_tag": "ABX9TyPi+geXeagI7gAzYo29fJD5",
      "include_colab_link": true
    },
    "kernelspec": {
      "name": "python3",
      "display_name": "Python 3"
    },
    "language_info": {
      "name": "python"
    }
  },
  "cells": [
    {
      "cell_type": "markdown",
      "metadata": {
        "id": "view-in-github",
        "colab_type": "text"
      },
      "source": [
        "<a href=\"https://colab.research.google.com/github/jeffersonramelo/Textual-Analysis/blob/main/C4_Legibilidade_Fog%20Index.ipynb\" target=\"_parent\"><img src=\"https://colab.research.google.com/assets/colab-badge.svg\" alt=\"Open In Colab\"/></a>"
      ]
    },
    {
      "cell_type": "code",
      "execution_count": 30,
      "metadata": {
        "id": "OauzDssvfU40"
      },
      "outputs": [],
      "source": [
        "import pandas as pd\n",
        "\n",
        "df = pd.read_csv('/content/fatos relevantes 2023 texto.csv')\n"
      ]
    },
    {
      "cell_type": "code",
      "source": [
        "print(df.loc[:, 'Texto'].iloc[0])\n"
      ],
      "metadata": {
        "id": "QANFArZTjv9h"
      },
      "execution_count": null,
      "outputs": []
    },
    {
      "cell_type": "code",
      "source": [
        "pip install textstat"
      ],
      "metadata": {
        "colab": {
          "base_uri": "https://localhost:8080/"
        },
        "id": "ER-fmZ6knxs5",
        "outputId": "db6c2e98-4c15-4709-a72f-cb4fba16d9ec"
      },
      "execution_count": 34,
      "outputs": [
        {
          "output_type": "stream",
          "name": "stdout",
          "text": [
            "Looking in indexes: https://pypi.org/simple, https://us-python.pkg.dev/colab-wheels/public/simple/\n",
            "Requirement already satisfied: textstat in /usr/local/lib/python3.10/dist-packages (0.7.3)\n",
            "Requirement already satisfied: pyphen in /usr/local/lib/python3.10/dist-packages (from textstat) (0.14.0)\n"
          ]
        }
      ]
    },
    {
      "cell_type": "code",
      "source": [
        "# Função para remover números de uma string\n",
        "def remover_numeros(texto):\n",
        "    return re.sub(r'\\d+', '', texto)\n",
        "\n",
        "\n",
        "    \n",
        "# Aplicar preprocessamento \n",
        "df['Texto'] = df['Texto'].apply(remover_numeros)"
      ],
      "metadata": {
        "id": "yhSdf3O6ogY6"
      },
      "execution_count": 31,
      "outputs": []
    },
    {
      "cell_type": "code",
      "source": [
        "print(df.loc[:, 'Texto'].iloc[0])"
      ],
      "metadata": {
        "colab": {
          "base_uri": "https://localhost:8080/"
        },
        "id": "WdTWFc8-orLB",
        "outputId": "e1849b8c-c899-42a9-e6f4-1def484cf8e5"
      },
      "execution_count": 32,
      "outputs": [
        {
          "output_type": "stream",
          "name": "stdout",
          "text": [
            " \n",
            " \n",
            " \n",
            " \n",
            " \n",
            " \n",
            " \n",
            " \n",
            "Oi S.A.  – Em Recuperação Judicial  \n",
            "CNPJ/ME nº ../ - \n",
            "NIRE .. - \n",
            "Companhia Aberta  \n",
            " \n",
            "FATO RELEVANTE  \n",
            " \n",
            "Oi S.A . – Em Recuperação Judicial  (“Oi” ou “ Companhia ”), em cumprimento ao \n",
            "disposto no art.  , §º, Lei nº ./, e  na Resolução CVM nº  /, vem informar \n",
            "aos seus acionistas e ao mercado em geral  que optou por descontinuar a divulgação \n",
            "das projeções de desempenho futuro  (“guidance ”), contemplando projeções e \n",
            "estimativas operacionais e financeiras divulgad as no Fato Relevante de  de julho de \n",
            ", tendo em vista as relevantes mudanças no cenário macroeconômico brasileiro e \n",
            "a consequente contrapartida no ambiente competitivo  e nas necessidades de \n",
            "financiamento  da Companhia . \n",
            " \n",
            "A Companhia também ressalta que as projeções contidas no Fato Relevante de  de \n",
            "dezembro de  , sobre o Blowout  das discussões com credores , não deve m ser \n",
            "consideradas como guidance . Isso  porque tais projeções  assumem premissas da \n",
            "negociação com os credores conforme os termos da proposta apresentada no material  \n",
            "e os indicadores financeiros e operacionais  divulgados poderiam ser objeto de revisão \n",
            "de acordo com o próprio resultado des sa discussão . \n",
            " \n",
            "A Companhia manterá seu s acionistas e o mercado informados sobre o \n",
            "desenvolvimento dos assuntos objeto deste Fato Relevante.  \n",
            " \n",
            "Rio de Janeiro,  de janeiro de  . \n",
            " \n",
            " \n",
            "Oi S.A.  – Em Recuperação Judicial  \n",
            "Cristiane Barretto Sales  \n",
            "Diretora de Finanças e de Relações com Investidores  \n",
            "\n"
          ]
        }
      ]
    },
    {
      "cell_type": "code",
      "source": [
        "import re\n",
        "from textstat import textstat\n",
        "\n",
        "# Função para remover palavras específicas de uma string\n",
        "def remover_palavras(texto):\n",
        "    palavras_remover = ['S.A.', '/', 'CNPJ']\n",
        "    padrao = r'\\b(?:{})\\b'.format('|'.join(map(re.escape, palavras_remover)))\n",
        "    return re.sub(padrao, '', texto)\n",
        "\n",
        "# Aplicar preprocessamento\n",
        "df['Texto'] = df['Texto'].apply(remover_palavras)\n",
        "\n",
        "# Visualizar o resultado do primeiro texto\n",
        "print(df.loc[:, 'Texto'].iloc[0])\n"
      ],
      "metadata": {
        "colab": {
          "base_uri": "https://localhost:8080/"
        },
        "id": "bef4h5V5p4-X",
        "outputId": "1d8dacc6-6ca0-45d5-f95a-42d799d8ed6a"
      },
      "execution_count": 35,
      "outputs": [
        {
          "output_type": "stream",
          "name": "stdout",
          "text": [
            " \n",
            " \n",
            " \n",
            " \n",
            " \n",
            " \n",
            " \n",
            " \n",
            "Oi S.A.  – Em Recuperação Judicial  \n",
            "ME nº ../ - \n",
            "NIRE .. - \n",
            "Companhia Aberta  \n",
            " \n",
            "FATO RELEVANTE  \n",
            " \n",
            "Oi S.A . – Em Recuperação Judicial  (“Oi” ou “ Companhia ”), em cumprimento ao \n",
            "disposto no art.  , §º, Lei nº ./, e  na Resolução CVM nº  /, vem informar \n",
            "aos seus acionistas e ao mercado em geral  que optou por descontinuar a divulgação \n",
            "das projeções de desempenho futuro  (“guidance ”), contemplando projeções e \n",
            "estimativas operacionais e financeiras divulgad as no Fato Relevante de  de julho de \n",
            ", tendo em vista as relevantes mudanças no cenário macroeconômico brasileiro e \n",
            "a consequente contrapartida no ambiente competitivo  e nas necessidades de \n",
            "financiamento  da Companhia . \n",
            " \n",
            "A Companhia também ressalta que as projeções contidas no Fato Relevante de  de \n",
            "dezembro de  , sobre o Blowout  das discussões com credores , não deve m ser \n",
            "consideradas como guidance . Isso  porque tais projeções  assumem premissas da \n",
            "negociação com os credores conforme os termos da proposta apresentada no material  \n",
            "e os indicadores financeiros e operacionais  divulgados poderiam ser objeto de revisão \n",
            "de acordo com o próprio resultado des sa discussão . \n",
            " \n",
            "A Companhia manterá seu s acionistas e o mercado informados sobre o \n",
            "desenvolvimento dos assuntos objeto deste Fato Relevante.  \n",
            " \n",
            "Rio de Janeiro,  de janeiro de  . \n",
            " \n",
            " \n",
            "Oi S.A.  – Em Recuperação Judicial  \n",
            "Cristiane Barretto Sales  \n",
            "Diretora de Finanças e de Relações com Investidores  \n",
            "\n"
          ]
        }
      ]
    },
    {
      "cell_type": "code",
      "source": [
        "import re\n",
        "from textstat import textstat\n",
        "\n",
        "\n",
        "\n",
        "# Aplicar preprocessamento e calcular o Fog Index\n",
        "df['fog_index'] = df['Texto'].apply(lambda x: textstat.gunning_fog(x))\n",
        "\n",
        "# Visualizar o resultado\n",
        "print(df[['Texto', 'fog_index']])\n"
      ],
      "metadata": {
        "colab": {
          "base_uri": "https://localhost:8080/"
        },
        "id": "bCeNYG5GoVar",
        "outputId": "9a155d77-0a11-4a21-e6c8-06097e4c6629"
      },
      "execution_count": 36,
      "outputs": [
        {
          "output_type": "stream",
          "name": "stdout",
          "text": [
            "                                                  Texto  fog_index\n",
            "0      \\n \\n \\n \\n \\n \\n \\n \\nOi S.A.  – Em Recupera...      16.59\n",
            "1      \\n \\nCRUZEIRO DO SUL EDUCACIONAL S.A.   \\nME ...      13.28\n",
            "2                                                   ...      13.79\n",
            "3                                                   ...      13.79\n",
            "4     BANCO SANTANDER (BRASIL) S.A.  \\nCompanhia Abe...      12.96\n",
            "...                                                 ...        ...\n",
            "1171   \\n \\n \\nPACAEMBU CONSTRUTORA S.A.   \\nME n° ....      12.89\n",
            "1172   \\n \\n \\nPACAEMBU CONSTRUTORA S.A.   \\nME n° ....      13.67\n",
            "1173   \\n \\n \\nPACAEMBU CONSTRUTORA S.A.   \\nME n° ....      13.92\n",
            "1174   \\n  nº ../ - \\nCompanhia Aberta  \\n \\nFATO RE...      17.56\n",
            "1175   \\n  nº ../ - \\nCompanhia Aberta  \\n \\nFATO RE...      12.10\n",
            "\n",
            "[1176 rows x 2 columns]\n"
          ]
        }
      ]
    }
  ]
}