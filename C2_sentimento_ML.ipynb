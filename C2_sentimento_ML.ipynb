{
  "nbformat": 4,
  "nbformat_minor": 0,
  "metadata": {
    "colab": {
      "provenance": [],
      "authorship_tag": "ABX9TyPGvw+Ta6f36der4FJNqFeM",
      "include_colab_link": true
    },
    "kernelspec": {
      "name": "python3",
      "display_name": "Python 3"
    },
    "language_info": {
      "name": "python"
    }
  },
  "cells": [
    {
      "cell_type": "markdown",
      "metadata": {
        "id": "view-in-github",
        "colab_type": "text"
      },
      "source": [
        "<a href=\"https://colab.research.google.com/github/jeffersonramelo/Textual-Analysis/blob/main/C2_sentimento_ML.ipynb\" target=\"_parent\"><img src=\"https://colab.research.google.com/assets/colab-badge.svg\" alt=\"Open In Colab\"/></a>"
      ]
    },
    {
      "cell_type": "code",
      "source": [
        "# Caminho do arquivo CSV\n",
        "caminho_arquivo = \"/content/C123_dataset sentimento rotulados.csv\"\n",
        "\n",
        "# Ler o arquivo CSV\n",
        "import pandas as pd\n",
        "df = pd.read_csv(caminho_arquivo, sep=\",\", encoding='latin-1')"
      ],
      "metadata": {
        "id": "c2mDZfX7YWnV"
      },
      "execution_count": 31,
      "outputs": []
    },
    {
      "cell_type": "code",
      "source": [
        "#vizualizar dados\n",
        "df.head()"
      ],
      "metadata": {
        "id": "wqgE3so93YYp",
        "colab": {
          "base_uri": "https://localhost:8080/",
          "height": 206
        },
        "outputId": "f45a4a2b-3840-4c1b-a894-e7e046066a4c"
      },
      "execution_count": 32,
      "outputs": [
        {
          "output_type": "execute_result",
          "data": {
            "text/plain": [
              "  sentimento_rotulado                                              texto  id\n",
              "0             neutral  According to Gran , the company has no plans t...   1\n",
              "1             neutral  Technopolis plans to develop in stages an area...   2\n",
              "2            negative  The international electronic industry company ...   3\n",
              "3            positive  With the new production plant the company woul...   4\n",
              "4            positive  According to the company 's updated strategy f...   5"
            ],
            "text/html": [
              "\n",
              "  <div id=\"df-6ff8bc3e-57ba-4455-953c-3da0b9874fb4\">\n",
              "    <div class=\"colab-df-container\">\n",
              "      <div>\n",
              "<style scoped>\n",
              "    .dataframe tbody tr th:only-of-type {\n",
              "        vertical-align: middle;\n",
              "    }\n",
              "\n",
              "    .dataframe tbody tr th {\n",
              "        vertical-align: top;\n",
              "    }\n",
              "\n",
              "    .dataframe thead th {\n",
              "        text-align: right;\n",
              "    }\n",
              "</style>\n",
              "<table border=\"1\" class=\"dataframe\">\n",
              "  <thead>\n",
              "    <tr style=\"text-align: right;\">\n",
              "      <th></th>\n",
              "      <th>sentimento_rotulado</th>\n",
              "      <th>texto</th>\n",
              "      <th>id</th>\n",
              "    </tr>\n",
              "  </thead>\n",
              "  <tbody>\n",
              "    <tr>\n",
              "      <th>0</th>\n",
              "      <td>neutral</td>\n",
              "      <td>According to Gran , the company has no plans t...</td>\n",
              "      <td>1</td>\n",
              "    </tr>\n",
              "    <tr>\n",
              "      <th>1</th>\n",
              "      <td>neutral</td>\n",
              "      <td>Technopolis plans to develop in stages an area...</td>\n",
              "      <td>2</td>\n",
              "    </tr>\n",
              "    <tr>\n",
              "      <th>2</th>\n",
              "      <td>negative</td>\n",
              "      <td>The international electronic industry company ...</td>\n",
              "      <td>3</td>\n",
              "    </tr>\n",
              "    <tr>\n",
              "      <th>3</th>\n",
              "      <td>positive</td>\n",
              "      <td>With the new production plant the company woul...</td>\n",
              "      <td>4</td>\n",
              "    </tr>\n",
              "    <tr>\n",
              "      <th>4</th>\n",
              "      <td>positive</td>\n",
              "      <td>According to the company 's updated strategy f...</td>\n",
              "      <td>5</td>\n",
              "    </tr>\n",
              "  </tbody>\n",
              "</table>\n",
              "</div>\n",
              "      <button class=\"colab-df-convert\" onclick=\"convertToInteractive('df-6ff8bc3e-57ba-4455-953c-3da0b9874fb4')\"\n",
              "              title=\"Convert this dataframe to an interactive table.\"\n",
              "              style=\"display:none;\">\n",
              "        \n",
              "  <svg xmlns=\"http://www.w3.org/2000/svg\" height=\"24px\"viewBox=\"0 0 24 24\"\n",
              "       width=\"24px\">\n",
              "    <path d=\"M0 0h24v24H0V0z\" fill=\"none\"/>\n",
              "    <path d=\"M18.56 5.44l.94 2.06.94-2.06 2.06-.94-2.06-.94-.94-2.06-.94 2.06-2.06.94zm-11 1L8.5 8.5l.94-2.06 2.06-.94-2.06-.94L8.5 2.5l-.94 2.06-2.06.94zm10 10l.94 2.06.94-2.06 2.06-.94-2.06-.94-.94-2.06-.94 2.06-2.06.94z\"/><path d=\"M17.41 7.96l-1.37-1.37c-.4-.4-.92-.59-1.43-.59-.52 0-1.04.2-1.43.59L10.3 9.45l-7.72 7.72c-.78.78-.78 2.05 0 2.83L4 21.41c.39.39.9.59 1.41.59.51 0 1.02-.2 1.41-.59l7.78-7.78 2.81-2.81c.8-.78.8-2.07 0-2.86zM5.41 20L4 18.59l7.72-7.72 1.47 1.35L5.41 20z\"/>\n",
              "  </svg>\n",
              "      </button>\n",
              "      \n",
              "  <style>\n",
              "    .colab-df-container {\n",
              "      display:flex;\n",
              "      flex-wrap:wrap;\n",
              "      gap: 12px;\n",
              "    }\n",
              "\n",
              "    .colab-df-convert {\n",
              "      background-color: #E8F0FE;\n",
              "      border: none;\n",
              "      border-radius: 50%;\n",
              "      cursor: pointer;\n",
              "      display: none;\n",
              "      fill: #1967D2;\n",
              "      height: 32px;\n",
              "      padding: 0 0 0 0;\n",
              "      width: 32px;\n",
              "    }\n",
              "\n",
              "    .colab-df-convert:hover {\n",
              "      background-color: #E2EBFA;\n",
              "      box-shadow: 0px 1px 2px rgba(60, 64, 67, 0.3), 0px 1px 3px 1px rgba(60, 64, 67, 0.15);\n",
              "      fill: #174EA6;\n",
              "    }\n",
              "\n",
              "    [theme=dark] .colab-df-convert {\n",
              "      background-color: #3B4455;\n",
              "      fill: #D2E3FC;\n",
              "    }\n",
              "\n",
              "    [theme=dark] .colab-df-convert:hover {\n",
              "      background-color: #434B5C;\n",
              "      box-shadow: 0px 1px 3px 1px rgba(0, 0, 0, 0.15);\n",
              "      filter: drop-shadow(0px 1px 2px rgba(0, 0, 0, 0.3));\n",
              "      fill: #FFFFFF;\n",
              "    }\n",
              "  </style>\n",
              "\n",
              "      <script>\n",
              "        const buttonEl =\n",
              "          document.querySelector('#df-6ff8bc3e-57ba-4455-953c-3da0b9874fb4 button.colab-df-convert');\n",
              "        buttonEl.style.display =\n",
              "          google.colab.kernel.accessAllowed ? 'block' : 'none';\n",
              "\n",
              "        async function convertToInteractive(key) {\n",
              "          const element = document.querySelector('#df-6ff8bc3e-57ba-4455-953c-3da0b9874fb4');\n",
              "          const dataTable =\n",
              "            await google.colab.kernel.invokeFunction('convertToInteractive',\n",
              "                                                     [key], {});\n",
              "          if (!dataTable) return;\n",
              "\n",
              "          const docLinkHtml = 'Like what you see? Visit the ' +\n",
              "            '<a target=\"_blank\" href=https://colab.research.google.com/notebooks/data_table.ipynb>data table notebook</a>'\n",
              "            + ' to learn more about interactive tables.';\n",
              "          element.innerHTML = '';\n",
              "          dataTable['output_type'] = 'display_data';\n",
              "          await google.colab.output.renderOutput(dataTable, element);\n",
              "          const docLink = document.createElement('div');\n",
              "          docLink.innerHTML = docLinkHtml;\n",
              "          element.appendChild(docLink);\n",
              "        }\n",
              "      </script>\n",
              "    </div>\n",
              "  </div>\n",
              "  "
            ]
          },
          "metadata": {},
          "execution_count": 32
        }
      ]
    },
    {
      "cell_type": "code",
      "source": [
        "#quantos dados positivo e negativos?\n",
        "df.sentimento_rotulado.value_counts()"
      ],
      "metadata": {
        "colab": {
          "base_uri": "https://localhost:8080/"
        },
        "id": "Jy90HFtf3Hzv",
        "outputId": "79586345-ef26-46ac-aff7-dd196f543263"
      },
      "execution_count": 33,
      "outputs": [
        {
          "output_type": "execute_result",
          "data": {
            "text/plain": [
              "neutral     2879\n",
              "positive    1363\n",
              "negative     604\n",
              "Name: sentimento_rotulado, dtype: int64"
            ]
          },
          "metadata": {},
          "execution_count": 33
        }
      ]
    },
    {
      "cell_type": "code",
      "source": [
        "# Acessar os textos contidos nas celulas, só substituir o número da celula que deseja vizualizar\n",
        "celula = df.loc[2, 'texto']\n",
        "\n",
        "# Imprimir o conteúdo da célula\n",
        "print(celula)\n"
      ],
      "metadata": {
        "colab": {
          "base_uri": "https://localhost:8080/"
        },
        "id": "dNLlKhMh35qO",
        "outputId": "a7d0b5ef-67ba-499b-97fe-d45bd45b75fc"
      },
      "execution_count": 34,
      "outputs": [
        {
          "output_type": "stream",
          "name": "stdout",
          "text": [
            "The international electronic industry company Elcoteq has laid off tens of employees from its Tallinn facility ; contrary to earlier layoffs the company contracted the ranks of its office workers , the daily Postimees reported .\n"
          ]
        }
      ]
    },
    {
      "cell_type": "markdown",
      "source": [
        "pre-processamento do texto (stop words, misnusculas, caracteres especiais, stemização e tokenização)"
      ],
      "metadata": {
        "id": "TwiiGHcVccX9"
      }
    },
    {
      "cell_type": "code",
      "source": [
        "pip install scikit-learn"
      ],
      "metadata": {
        "colab": {
          "base_uri": "https://localhost:8080/"
        },
        "id": "2P7uAxFxvTPV",
        "outputId": "b940c624-38b2-4f70-b34c-e0edcff046b8"
      },
      "execution_count": 36,
      "outputs": [
        {
          "output_type": "stream",
          "name": "stdout",
          "text": [
            "Looking in indexes: https://pypi.org/simple, https://us-python.pkg.dev/colab-wheels/public/simple/\n",
            "Requirement already satisfied: scikit-learn in /usr/local/lib/python3.10/dist-packages (1.2.2)\n",
            "Requirement already satisfied: numpy>=1.17.3 in /usr/local/lib/python3.10/dist-packages (from scikit-learn) (1.22.4)\n",
            "Requirement already satisfied: scipy>=1.3.2 in /usr/local/lib/python3.10/dist-packages (from scikit-learn) (1.10.1)\n",
            "Requirement already satisfied: joblib>=1.1.1 in /usr/local/lib/python3.10/dist-packages (from scikit-learn) (1.2.0)\n",
            "Requirement already satisfied: threadpoolctl>=2.0.0 in /usr/local/lib/python3.10/dist-packages (from scikit-learn) (3.1.0)\n"
          ]
        }
      ]
    },
    {
      "cell_type": "code",
      "source": [
        "import nltk\n",
        "nltk.download('stopwords')\n",
        "\n",
        "from nltk.corpus import stopwords\n",
        "stopwords_en = stopwords.words('english')"
      ],
      "metadata": {
        "id": "ISb-hKm8Wy3K",
        "outputId": "762a7059-e1b8-43e7-df02-fe8c0ef1c905",
        "colab": {
          "base_uri": "https://localhost:8080/"
        }
      },
      "execution_count": 37,
      "outputs": [
        {
          "output_type": "stream",
          "name": "stderr",
          "text": [
            "[nltk_data] Downloading package stopwords to /root/nltk_data...\n",
            "[nltk_data]   Package stopwords is already up-to-date!\n"
          ]
        }
      ]
    },
    {
      "cell_type": "code",
      "source": [
        "stopwords_en"
      ],
      "metadata": {
        "id": "QnUjVFYaW0cP"
      },
      "execution_count": null,
      "outputs": []
    },
    {
      "cell_type": "code",
      "source": [
        "import re\n",
        "import nltk\n",
        "nltk.download('stopwords')\n",
        "from nltk.corpus import stopwords\n",
        "\n",
        "def preprocess_text(text):\n",
        "    # Converter para minúsculas\n",
        "    text = text.lower()\n",
        "    \n",
        "    # Remover números\n",
        "    text = re.sub(r'\\d+', '', text)\n",
        "    \n",
        "    # Remover sinais de pontuação e caracteres especiais\n",
        "    text = re.sub(r'[^\\w\\s]', '', text)\n",
        "    \n",
        "    # Remover stopwords\n",
        "    stopwords_en = stopwords.words('english')\n",
        "    text = ' '.join([word for word in text.split() if word not in stopwords_en])\n",
        "    \n",
        "    return text\n",
        "\n",
        "df['texto'] = df['texto'].apply(preprocess_text)"
      ],
      "metadata": {
        "id": "OkyVV5R3W3Ln",
        "outputId": "dec25f8d-ec9d-4fb9-cdab-c5ce3d803660",
        "colab": {
          "base_uri": "https://localhost:8080/"
        }
      },
      "execution_count": 39,
      "outputs": [
        {
          "output_type": "stream",
          "name": "stderr",
          "text": [
            "[nltk_data] Downloading package stopwords to /root/nltk_data...\n",
            "[nltk_data]   Package stopwords is already up-to-date!\n"
          ]
        }
      ]
    },
    {
      "cell_type": "code",
      "source": [
        "import nltk\n",
        "nltk.download('punkt')\n",
        "from nltk.stem import PorterStemmer\n",
        "from nltk.tokenize import word_tokenize\n",
        "\n",
        "# Criar uma instância do stemmer\n",
        "stemmer = PorterStemmer()\n",
        "\n",
        "# Função para realizar a stemização das palavras em um texto\n",
        "def stem_text(text):\n",
        "    # Tokenizar o texto em palavras\n",
        "    words = word_tokenize(text)\n",
        "    \n",
        "    # Aplicar a stemização em cada palavra\n",
        "    stemmed_words = [stemmer.stem(word) for word in words]\n",
        "    \n",
        "    # Juntar as palavras novamente em um texto\n",
        "    stemmed_text = ' '.join(stemmed_words)\n",
        "    \n",
        "    return stemmed_text\n",
        "\n",
        "# Aplicar a função de stemização na coluna \"texto\" do DataFrame\n",
        "df['texto'] = df['texto'].apply(stem_text)\n"
      ],
      "metadata": {
        "id": "OuWSuW_hW8zI",
        "outputId": "0ccd5662-ce6c-4588-b633-f1afad3cb9a1",
        "colab": {
          "base_uri": "https://localhost:8080/"
        }
      },
      "execution_count": 40,
      "outputs": [
        {
          "output_type": "stream",
          "name": "stderr",
          "text": [
            "[nltk_data] Downloading package punkt to /root/nltk_data...\n",
            "[nltk_data]   Package punkt is already up-to-date!\n"
          ]
        }
      ]
    },
    {
      "cell_type": "code",
      "source": [
        "df"
      ],
      "metadata": {
        "id": "OkBKWa4-ZMVG",
        "outputId": "da34832e-9afa-4d67-c6da-d4c18cfbdd64",
        "colab": {
          "base_uri": "https://localhost:8080/",
          "height": 424
        }
      },
      "execution_count": 41,
      "outputs": [
        {
          "output_type": "execute_result",
          "data": {
            "text/plain": [
              "     sentimento_rotulado                                              texto  \\\n",
              "0                neutral  accord gran compani plan move product russia a...   \n",
              "1                neutral  technopoli plan develop stage area less squar ...   \n",
              "2               negative  intern electron industri compani elcoteq laid ...   \n",
              "3               positive  new product plant compani would increas capac ...   \n",
              "4               positive  accord compani updat strategi year baswar targ...   \n",
              "...                  ...                                                ...   \n",
              "4841            negative  london marketwatch share price end lower londo...   \n",
              "4842             neutral  rinkuskiai beer sale fell per cent million lit...   \n",
              "4843            negative  oper profit fell eur mn eur mn includ vessel s...   \n",
              "4844            negative  net sale paper segment decreas eur mn second q...   \n",
              "4845            negative  sale finland decreas januari sale outsid finla...   \n",
              "\n",
              "        id  \n",
              "0        1  \n",
              "1        2  \n",
              "2        3  \n",
              "3        4  \n",
              "4        5  \n",
              "...    ...  \n",
              "4841  4842  \n",
              "4842  4843  \n",
              "4843  4844  \n",
              "4844  4845  \n",
              "4845  4846  \n",
              "\n",
              "[4846 rows x 3 columns]"
            ],
            "text/html": [
              "\n",
              "  <div id=\"df-5fe91b9c-ae0c-4483-9761-a546aac4aee6\">\n",
              "    <div class=\"colab-df-container\">\n",
              "      <div>\n",
              "<style scoped>\n",
              "    .dataframe tbody tr th:only-of-type {\n",
              "        vertical-align: middle;\n",
              "    }\n",
              "\n",
              "    .dataframe tbody tr th {\n",
              "        vertical-align: top;\n",
              "    }\n",
              "\n",
              "    .dataframe thead th {\n",
              "        text-align: right;\n",
              "    }\n",
              "</style>\n",
              "<table border=\"1\" class=\"dataframe\">\n",
              "  <thead>\n",
              "    <tr style=\"text-align: right;\">\n",
              "      <th></th>\n",
              "      <th>sentimento_rotulado</th>\n",
              "      <th>texto</th>\n",
              "      <th>id</th>\n",
              "    </tr>\n",
              "  </thead>\n",
              "  <tbody>\n",
              "    <tr>\n",
              "      <th>0</th>\n",
              "      <td>neutral</td>\n",
              "      <td>accord gran compani plan move product russia a...</td>\n",
              "      <td>1</td>\n",
              "    </tr>\n",
              "    <tr>\n",
              "      <th>1</th>\n",
              "      <td>neutral</td>\n",
              "      <td>technopoli plan develop stage area less squar ...</td>\n",
              "      <td>2</td>\n",
              "    </tr>\n",
              "    <tr>\n",
              "      <th>2</th>\n",
              "      <td>negative</td>\n",
              "      <td>intern electron industri compani elcoteq laid ...</td>\n",
              "      <td>3</td>\n",
              "    </tr>\n",
              "    <tr>\n",
              "      <th>3</th>\n",
              "      <td>positive</td>\n",
              "      <td>new product plant compani would increas capac ...</td>\n",
              "      <td>4</td>\n",
              "    </tr>\n",
              "    <tr>\n",
              "      <th>4</th>\n",
              "      <td>positive</td>\n",
              "      <td>accord compani updat strategi year baswar targ...</td>\n",
              "      <td>5</td>\n",
              "    </tr>\n",
              "    <tr>\n",
              "      <th>...</th>\n",
              "      <td>...</td>\n",
              "      <td>...</td>\n",
              "      <td>...</td>\n",
              "    </tr>\n",
              "    <tr>\n",
              "      <th>4841</th>\n",
              "      <td>negative</td>\n",
              "      <td>london marketwatch share price end lower londo...</td>\n",
              "      <td>4842</td>\n",
              "    </tr>\n",
              "    <tr>\n",
              "      <th>4842</th>\n",
              "      <td>neutral</td>\n",
              "      <td>rinkuskiai beer sale fell per cent million lit...</td>\n",
              "      <td>4843</td>\n",
              "    </tr>\n",
              "    <tr>\n",
              "      <th>4843</th>\n",
              "      <td>negative</td>\n",
              "      <td>oper profit fell eur mn eur mn includ vessel s...</td>\n",
              "      <td>4844</td>\n",
              "    </tr>\n",
              "    <tr>\n",
              "      <th>4844</th>\n",
              "      <td>negative</td>\n",
              "      <td>net sale paper segment decreas eur mn second q...</td>\n",
              "      <td>4845</td>\n",
              "    </tr>\n",
              "    <tr>\n",
              "      <th>4845</th>\n",
              "      <td>negative</td>\n",
              "      <td>sale finland decreas januari sale outsid finla...</td>\n",
              "      <td>4846</td>\n",
              "    </tr>\n",
              "  </tbody>\n",
              "</table>\n",
              "<p>4846 rows × 3 columns</p>\n",
              "</div>\n",
              "      <button class=\"colab-df-convert\" onclick=\"convertToInteractive('df-5fe91b9c-ae0c-4483-9761-a546aac4aee6')\"\n",
              "              title=\"Convert this dataframe to an interactive table.\"\n",
              "              style=\"display:none;\">\n",
              "        \n",
              "  <svg xmlns=\"http://www.w3.org/2000/svg\" height=\"24px\"viewBox=\"0 0 24 24\"\n",
              "       width=\"24px\">\n",
              "    <path d=\"M0 0h24v24H0V0z\" fill=\"none\"/>\n",
              "    <path d=\"M18.56 5.44l.94 2.06.94-2.06 2.06-.94-2.06-.94-.94-2.06-.94 2.06-2.06.94zm-11 1L8.5 8.5l.94-2.06 2.06-.94-2.06-.94L8.5 2.5l-.94 2.06-2.06.94zm10 10l.94 2.06.94-2.06 2.06-.94-2.06-.94-.94-2.06-.94 2.06-2.06.94z\"/><path d=\"M17.41 7.96l-1.37-1.37c-.4-.4-.92-.59-1.43-.59-.52 0-1.04.2-1.43.59L10.3 9.45l-7.72 7.72c-.78.78-.78 2.05 0 2.83L4 21.41c.39.39.9.59 1.41.59.51 0 1.02-.2 1.41-.59l7.78-7.78 2.81-2.81c.8-.78.8-2.07 0-2.86zM5.41 20L4 18.59l7.72-7.72 1.47 1.35L5.41 20z\"/>\n",
              "  </svg>\n",
              "      </button>\n",
              "      \n",
              "  <style>\n",
              "    .colab-df-container {\n",
              "      display:flex;\n",
              "      flex-wrap:wrap;\n",
              "      gap: 12px;\n",
              "    }\n",
              "\n",
              "    .colab-df-convert {\n",
              "      background-color: #E8F0FE;\n",
              "      border: none;\n",
              "      border-radius: 50%;\n",
              "      cursor: pointer;\n",
              "      display: none;\n",
              "      fill: #1967D2;\n",
              "      height: 32px;\n",
              "      padding: 0 0 0 0;\n",
              "      width: 32px;\n",
              "    }\n",
              "\n",
              "    .colab-df-convert:hover {\n",
              "      background-color: #E2EBFA;\n",
              "      box-shadow: 0px 1px 2px rgba(60, 64, 67, 0.3), 0px 1px 3px 1px rgba(60, 64, 67, 0.15);\n",
              "      fill: #174EA6;\n",
              "    }\n",
              "\n",
              "    [theme=dark] .colab-df-convert {\n",
              "      background-color: #3B4455;\n",
              "      fill: #D2E3FC;\n",
              "    }\n",
              "\n",
              "    [theme=dark] .colab-df-convert:hover {\n",
              "      background-color: #434B5C;\n",
              "      box-shadow: 0px 1px 3px 1px rgba(0, 0, 0, 0.15);\n",
              "      filter: drop-shadow(0px 1px 2px rgba(0, 0, 0, 0.3));\n",
              "      fill: #FFFFFF;\n",
              "    }\n",
              "  </style>\n",
              "\n",
              "      <script>\n",
              "        const buttonEl =\n",
              "          document.querySelector('#df-5fe91b9c-ae0c-4483-9761-a546aac4aee6 button.colab-df-convert');\n",
              "        buttonEl.style.display =\n",
              "          google.colab.kernel.accessAllowed ? 'block' : 'none';\n",
              "\n",
              "        async function convertToInteractive(key) {\n",
              "          const element = document.querySelector('#df-5fe91b9c-ae0c-4483-9761-a546aac4aee6');\n",
              "          const dataTable =\n",
              "            await google.colab.kernel.invokeFunction('convertToInteractive',\n",
              "                                                     [key], {});\n",
              "          if (!dataTable) return;\n",
              "\n",
              "          const docLinkHtml = 'Like what you see? Visit the ' +\n",
              "            '<a target=\"_blank\" href=https://colab.research.google.com/notebooks/data_table.ipynb>data table notebook</a>'\n",
              "            + ' to learn more about interactive tables.';\n",
              "          element.innerHTML = '';\n",
              "          dataTable['output_type'] = 'display_data';\n",
              "          await google.colab.output.renderOutput(dataTable, element);\n",
              "          const docLink = document.createElement('div');\n",
              "          docLink.innerHTML = docLinkHtml;\n",
              "          element.appendChild(docLink);\n",
              "        }\n",
              "      </script>\n",
              "    </div>\n",
              "  </div>\n",
              "  "
            ]
          },
          "metadata": {},
          "execution_count": 41
        }
      ]
    },
    {
      "cell_type": "markdown",
      "source": [
        "Naive Bayes"
      ],
      "metadata": {
        "id": "FcplM6PyesNu"
      }
    },
    {
      "cell_type": "code",
      "source": [
        "from sklearn.model_selection import train_test_split, cross_val_score\n",
        "from sklearn.feature_extraction.text import CountVectorizer\n",
        "from sklearn.naive_bayes import MultinomialNB, GaussianNB, BernoulliNB\n",
        "from sklearn.metrics import confusion_matrix, accuracy_score\n",
        "import pandas as pd\n",
        "import numpy as np\n",
        "from sklearn.impute import SimpleImputer\n",
        "\n",
        "# Dividir o DataFrame em dados de treinamento e teste\n",
        "X = df['texto']\n",
        "y = df['sentimento_rotulado']\n",
        "X_train, X_test, y_train, y_test = train_test_split(X, y, test_size=0.2, random_state=42)\n",
        "\n",
        "# Preencher valores nulos com uma string vazia\n",
        "imputer = SimpleImputer(strategy='constant', fill_value='')\n",
        "X_train = pd.DataFrame(X_train, columns=['texto'])\n",
        "X_test = pd.DataFrame(X_test, columns=['texto'])\n",
        "X_train['texto'] = imputer.fit_transform(X_train[['texto']])\n",
        "X_test['texto'] = imputer.transform(X_test[['texto']])\n",
        "\n",
        "# Pré-processamento dos dados de texto\n",
        "vectorizer = CountVectorizer()\n",
        "X_train = vectorizer.fit_transform(X_train['texto'])\n",
        "X_test = vectorizer.transform(X_test['texto'])\n",
        "\n",
        "# Inicializar os classificadores\n",
        "mnb = MultinomialNB()\n",
        "gnb = GaussianNB()\n",
        "bnb = BernoulliNB()\n",
        "\n",
        "# Realizar validação cruzada nos classificadores\n",
        "cv_scores_mnb = cross_val_score(mnb, X_train, y_train, cv=5)\n",
        "cv_scores_gnb = cross_val_score(gnb, X_train.toarray(), y_train, cv=5)\n",
        "cv_scores_bnb = cross_val_score(bnb, X_train, y_train, cv=5)\n",
        "\n",
        "# Treinar os classificadores nos dados de treinamento completos\n",
        "mnb.fit(X_train, y_train)\n",
        "gnb.fit(X_train.toarray(), y_train)\n",
        "bnb.fit(X_train, y_train)\n",
        "\n",
        "# Fazer previsões nos dados de teste\n",
        "y_pred_mnb = mnb.predict(X_test)\n",
        "y_pred_gnb = gnb.predict(X_test.toarray())\n",
        "y_pred_bnb = bnb.predict(X_test)\n"
      ],
      "metadata": {
        "id": "SPwxAcFYeDXc"
      },
      "execution_count": 52,
      "outputs": []
    },
    {
      "cell_type": "code",
      "source": [
        "# Calcular a matriz de confusão\n",
        "confusion_mnb = confusion_matrix(y_test, y_pred_mnb)\n",
        "print(\"confusion_mnb\", confusion_mnb)\n",
        "confusion_gnb = confusion_matrix(y_test, y_pred_gnb)\n",
        "print(\"confusion_gnb\", confusion_gnb)\n",
        "confusion_bnb = confusion_matrix(y_test, y_pred_bnb)\n",
        "print(\"confusion_bnb\", confusion_bnb)"
      ],
      "metadata": {
        "colab": {
          "base_uri": "https://localhost:8080/"
        },
        "id": "W7kUc7UYv4lU",
        "outputId": "c5c576fa-2c34-453c-c059-6f5d858b30d7"
      },
      "execution_count": 46,
      "outputs": [
        {
          "output_type": "stream",
          "name": "stdout",
          "text": [
            "confusion_mnb [[ 93  57  29]\n",
            " [ 33 723  91]\n",
            " [ 25 177 226]]\n",
            "confusion_gnb [[100  46  33]\n",
            " [104 445 298]\n",
            " [ 98 154 176]]\n",
            "confusion_bnb [[ 19  99  61]\n",
            " [  0 786  61]\n",
            " [  3 214 211]]\n"
          ]
        }
      ]
    },
    {
      "cell_type": "code",
      "source": [
        "# Avaliar o desempenho dos classificadores com a métrica de acurácia\n",
        "accuracy_mnb = accuracy_score(y_test, y_pred_mnb)\n",
        "print(\"accuracy_mnb\", accuracy_mnb)\n",
        "accuracy_gnb = accuracy_score(y_test, y_pred_gnb)\n",
        "print(\"accuracy_gnb\", accuracy_gnb)\n",
        "accuracy_bnb = accuracy_score(y_test, y_pred_bnb)\n",
        "print(\"accuracy_bnb\", accuracy_bnb)"
      ],
      "metadata": {
        "colab": {
          "base_uri": "https://localhost:8080/"
        },
        "id": "CBCe0CFGvrsF",
        "outputId": "b4eaf2b9-4eb2-4e01-a460-d0d508d94bae"
      },
      "execution_count": 53,
      "outputs": [
        {
          "output_type": "stream",
          "name": "stdout",
          "text": [
            "accuracy_mnb 0.7164948453608248\n",
            "accuracy_gnb 0.49381443298969074\n",
            "accuracy_bnb 0.7164948453608248\n"
          ]
        }
      ]
    },
    {
      "cell_type": "markdown",
      "source": [
        "Suporte Vector Machine"
      ],
      "metadata": {
        "id": "tq7eIu4aeQ0m"
      }
    },
    {
      "cell_type": "code",
      "source": [
        "from sklearn.svm import SVC\n",
        "from sklearn.model_selection import train_test_split\n",
        "from sklearn.feature_extraction.text import CountVectorizer\n",
        "from sklearn.metrics import confusion_matrix, accuracy_score\n",
        "\n",
        "# Dividir o DataFrame em dados de treinamento e teste\n",
        "X = df['texto']\n",
        "y = df['sentimento_rotulado']\n",
        "X_train, X_test, y_train, y_test = train_test_split(X, y, test_size=0.2, random_state=42)\n",
        "\n",
        "# Pré-processamento dos dados de texto\n",
        "vectorizer = CountVectorizer()\n",
        "X_train = vectorizer.fit_transform(X_train)\n",
        "X_test = vectorizer.transform(X_test)\n",
        "\n",
        "# Inicializar o classificador SVM\n",
        "svm = SVC()\n",
        "\n",
        "# Treinar o classificador SVM\n",
        "svm.fit(X_train, y_train)\n",
        "\n",
        "# Fazer previsões nos dados de teste\n",
        "y_pred_svm = svm.predict(X_test)\n",
        "\n",
        "# Gerar a matriz de confusão\n",
        "confusion_mtx_svm = confusion_matrix(y_test, y_pred_svm)\n",
        "\n",
        "print(\"Matriz de Confusão - SVM:\")\n",
        "print(confusion_mtx_svm)\n",
        "\n",
        "# Calcular a acurácia do modelo SVM\n",
        "accuracy_svm = accuracy_score(y_test, y_pred_svm)\n",
        "\n",
        "print(\"Acurácia - SVM:\", accuracy_svm)\n"
      ],
      "metadata": {
        "id": "eW1HYInhezbj",
        "outputId": "cc5c6861-7601-49dc-ab32-6206859ec1e7",
        "colab": {
          "base_uri": "https://localhost:8080/"
        }
      },
      "execution_count": 54,
      "outputs": [
        {
          "output_type": "stream",
          "name": "stdout",
          "text": [
            "Matriz de Confusão - SVM:\n",
            "[[ 39  56  15]\n",
            " [  3 557  11]\n",
            " [ 14 169 106]]\n",
            "Acurácia - SVM: 0.7237113402061855\n"
          ]
        }
      ]
    },
    {
      "cell_type": "markdown",
      "source": [
        "Redes Neurais\n",
        "\n",
        "A rede neural utilizada no exemplo é um Perceptron de Múltiplas Camadas (Multilayer Perceptron, MLP). O MLP é uma arquitetura de rede neural artificial que consiste em várias camadas de neurônios, incluindo uma camada de entrada, uma ou mais camadas ocultas e uma camada de saída. Cada neurônio em uma camada está conectado a todos os neurônios na camada seguinte, formando uma rede densamente conectada."
      ],
      "metadata": {
        "id": "lhqBzsyQe9DX"
      }
    },
    {
      "cell_type": "code",
      "source": [
        "from sklearn.neural_network import MLPClassifier\n",
        "from sklearn.model_selection import train_test_split\n",
        "from sklearn.feature_extraction.text import CountVectorizer\n",
        "from sklearn.metrics import confusion_matrix, accuracy_score\n",
        "\n",
        "# Dividir o DataFrame em dados de treinamento e teste\n",
        "X = df['texto']\n",
        "y = df['sentimento_rotulado']\n",
        "X_train, X_test, y_train, y_test = train_test_split(X, y, test_size=0.2, random_state=42)\n",
        "\n",
        "# Pré-processamento dos dados de texto\n",
        "vectorizer = CountVectorizer()\n",
        "X_train = vectorizer.fit_transform(X_train)\n",
        "X_test = vectorizer.transform(X_test)\n",
        "\n",
        "# Inicializar o classificador MLP\n",
        "mlp = MLPClassifier(hidden_layer_sizes=(100,), random_state=42)\n",
        "\n",
        "# Treinar o classificador MLP\n",
        "mlp.fit(X_train, y_train)\n",
        "\n",
        "# Fazer previsões nos dados de teste\n",
        "y_pred_mlp = mlp.predict(X_test)\n",
        "\n",
        "# Gerar a matriz de confusão\n",
        "confusion_mtx_mlp = confusion_matrix(y_test, y_pred_mlp)\n",
        "\n",
        "print(\"Matriz de Confusão - MLP:\")\n",
        "print(confusion_mtx_mlp)\n",
        "\n",
        "# Calcular a acurácia do modelo MLP\n",
        "accuracy_mlp = accuracy_score(y_test, y_pred_mlp)\n",
        "\n",
        "print(\"Acurácia - MLP:\", accuracy_mlp)\n"
      ],
      "metadata": {
        "colab": {
          "base_uri": "https://localhost:8080/"
        },
        "id": "VeSoVTuwe-4D",
        "outputId": "12584d8e-142b-4d97-9dde-8ee156f7c1c5"
      },
      "execution_count": 56,
      "outputs": [
        {
          "output_type": "stream",
          "name": "stdout",
          "text": [
            "Matriz de Confusão - MLP:\n",
            "[[ 61  30  19]\n",
            " [ 27 460  84]\n",
            " [ 16 109 164]]\n",
            "Acurácia - MLP: 0.7061855670103093\n"
          ]
        }
      ]
    }
  ]
}