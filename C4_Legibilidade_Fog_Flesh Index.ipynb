{
  "nbformat": 4,
  "nbformat_minor": 0,
  "metadata": {
    "colab": {
      "provenance": [],
      "authorship_tag": "ABX9TyM4mmQWPNNDvnIaz1Jr2sEV",
      "include_colab_link": true
    },
    "kernelspec": {
      "name": "python3",
      "display_name": "Python 3"
    },
    "language_info": {
      "name": "python"
    }
  },
  "cells": [
    {
      "cell_type": "markdown",
      "metadata": {
        "id": "view-in-github",
        "colab_type": "text"
      },
      "source": [
        "<a href=\"https://colab.research.google.com/github/jeffersonramelo/Textual-Analysis/blob/main/C4_Legibilidade_Fog_Flesh%20Index.ipynb\" target=\"_parent\"><img src=\"https://colab.research.google.com/assets/colab-badge.svg\" alt=\"Open In Colab\"/></a>"
      ]
    },
    {
      "cell_type": "code",
      "execution_count": null,
      "metadata": {
        "id": "OauzDssvfU40"
      },
      "outputs": [],
      "source": [
        "import pandas as pd\n",
        "\n",
        "df = pd.read_csv('/content/fatos relevantes 2023 texto.csv')\n"
      ]
    },
    {
      "cell_type": "code",
      "source": [
        "#vizualiar 1175 obs\n",
        "print(df.loc[:, 'Texto'].iloc[0])\n"
      ],
      "metadata": {
        "id": "QANFArZTjv9h",
        "outputId": "0974785c-b0db-4104-c167-f09e206f8f36",
        "colab": {
          "base_uri": "https://localhost:8080/"
        }
      },
      "execution_count": null,
      "outputs": [
        {
          "output_type": "stream",
          "name": "stdout",
          "text": [
            " \n",
            " \n",
            " \n",
            " \n",
            " \n",
            " \n",
            " \n",
            " \n",
            "Oi S.A.  – Em Recuperação Judicial  \n",
            "CNPJ/ME nº 76.535.764/0001 -43 \n",
            "NIRE 33.3.0029520 -8 \n",
            "Companhia Aberta  \n",
            " \n",
            "FATO RELEVANTE  \n",
            " \n",
            "Oi S.A . – Em Recuperação Judicial  (“Oi” ou “ Companhia ”), em cumprimento ao \n",
            "disposto no art.  157, §4º, Lei nº 6.404/1976, e  na Resolução CVM nº 44 /21, vem informar \n",
            "aos seus acionistas e ao mercado em geral  que optou por descontinuar a divulgação \n",
            "das projeções de desempenho futuro  (“guidance ”), contemplando projeções e \n",
            "estimativas operacionais e financeiras divulgad as no Fato Relevante de 19 de julho de \n",
            "2021, tendo em vista as relevantes mudanças no cenário macroeconômico brasileiro e \n",
            "a consequente contrapartida no ambiente competitivo  e nas necessidades de \n",
            "financiamento  da Companhia . \n",
            " \n",
            "A Companhia também ressalta que as projeções contidas no Fato Relevante de 31 de \n",
            "dezembro de 2022 , sobre o Blowout  das discussões com credores , não deve m ser \n",
            "consideradas como guidance . Isso  porque tais projeções  assumem premissas da \n",
            "negociação com os credores conforme os termos da proposta apresentada no material  \n",
            "e os indicadores financeiros e operacionais  divulgados poderiam ser objeto de revisão \n",
            "de acordo com o próprio resultado des sa discussão . \n",
            " \n",
            "A Companhia manterá seu s acionistas e o mercado informados sobre o \n",
            "desenvolvimento dos assuntos objeto deste Fato Relevante.  \n",
            " \n",
            "Rio de Janeiro, 16 de janeiro de 2023 . \n",
            " \n",
            " \n",
            "Oi S.A.  – Em Recuperação Judicial  \n",
            "Cristiane Barretto Sales  \n",
            "Diretora de Finanças e de Relações com Investidores  \n",
            "\n"
          ]
        }
      ]
    },
    {
      "cell_type": "code",
      "source": [
        "import re\n",
        "\n",
        "# Função para remover números de uma string\n",
        "def remover_numeros(texto):\n",
        "    return re.sub(r'\\d+', '', texto)\n",
        "\n",
        "# Aplicar preprocessamento\n",
        "df['Texto'] = df['Texto'].apply(remover_numeros)\n",
        "\n",
        "# Visualizar:\n",
        "print(df.loc[:, 'Texto'].iloc[0])"
      ],
      "metadata": {
        "colab": {
          "base_uri": "https://localhost:8080/"
        },
        "id": "yhSdf3O6ogY6",
        "outputId": "7356421d-af26-4dcc-b485-cc91038d4aeb"
      },
      "execution_count": null,
      "outputs": [
        {
          "output_type": "stream",
          "name": "stdout",
          "text": [
            " \n",
            " \n",
            " \n",
            " \n",
            " \n",
            " \n",
            " \n",
            " \n",
            "Oi S.A.  – Em Recuperação Judicial  \n",
            "CNPJ/ME nº ../ - \n",
            "NIRE .. - \n",
            "Companhia Aberta  \n",
            " \n",
            "FATO RELEVANTE  \n",
            " \n",
            "Oi S.A . – Em Recuperação Judicial  (“Oi” ou “ Companhia ”), em cumprimento ao \n",
            "disposto no art.  , §º, Lei nº ./, e  na Resolução CVM nº  /, vem informar \n",
            "aos seus acionistas e ao mercado em geral  que optou por descontinuar a divulgação \n",
            "das projeções de desempenho futuro  (“guidance ”), contemplando projeções e \n",
            "estimativas operacionais e financeiras divulgad as no Fato Relevante de  de julho de \n",
            ", tendo em vista as relevantes mudanças no cenário macroeconômico brasileiro e \n",
            "a consequente contrapartida no ambiente competitivo  e nas necessidades de \n",
            "financiamento  da Companhia . \n",
            " \n",
            "A Companhia também ressalta que as projeções contidas no Fato Relevante de  de \n",
            "dezembro de  , sobre o Blowout  das discussões com credores , não deve m ser \n",
            "consideradas como guidance . Isso  porque tais projeções  assumem premissas da \n",
            "negociação com os credores conforme os termos da proposta apresentada no material  \n",
            "e os indicadores financeiros e operacionais  divulgados poderiam ser objeto de revisão \n",
            "de acordo com o próprio resultado des sa discussão . \n",
            " \n",
            "A Companhia manterá seu s acionistas e o mercado informados sobre o \n",
            "desenvolvimento dos assuntos objeto deste Fato Relevante.  \n",
            " \n",
            "Rio de Janeiro,  de janeiro de  . \n",
            " \n",
            " \n",
            "Oi S.A.  – Em Recuperação Judicial  \n",
            "Cristiane Barretto Sales  \n",
            "Diretora de Finanças e de Relações com Investidores  \n",
            "\n"
          ]
        }
      ]
    },
    {
      "cell_type": "code",
      "source": [
        "!pip install textstat"
      ],
      "metadata": {
        "id": "jA03uctG6NQs",
        "outputId": "03016fa5-faf5-4e99-87c4-7ec03669785b",
        "colab": {
          "base_uri": "https://localhost:8080/"
        }
      },
      "execution_count": null,
      "outputs": [
        {
          "output_type": "stream",
          "name": "stdout",
          "text": [
            "Looking in indexes: https://pypi.org/simple, https://us-python.pkg.dev/colab-wheels/public/simple/\n",
            "Requirement already satisfied: textstat in /usr/local/lib/python3.10/dist-packages (0.7.3)\n",
            "Requirement already satisfied: pyphen in /usr/local/lib/python3.10/dist-packages (from textstat) (0.14.0)\n"
          ]
        }
      ]
    },
    {
      "cell_type": "code",
      "source": [
        "import re\n",
        "from textstat import textstat\n",
        "\n",
        "# Função para remover palavras específicas de uma string\n",
        "def remover_palavras(texto):\n",
        "    palavras_remover = ['FATO RELEVANTE', 'NIRE', 'Companhia Aberta', 'CNPJ']\n",
        "    padrao = r'\\b(?:{})\\b'.format('|'.join(map(re.escape, palavras_remover)))\n",
        "    return re.sub(padrao, '', texto)\n",
        "\n",
        "# Aplicar preprocessamento\n",
        "df['Texto'] = df['Texto'].apply(remover_palavras)\n",
        "\n",
        "# Visualizar o resultado do primeiro texto\n",
        "print(df.loc[:, 'Texto'].iloc[0])\n"
      ],
      "metadata": {
        "colab": {
          "base_uri": "https://localhost:8080/"
        },
        "id": "bef4h5V5p4-X",
        "outputId": "4cb4af7c-c6fd-4a92-faf3-47db2ea401d2"
      },
      "execution_count": null,
      "outputs": [
        {
          "output_type": "stream",
          "name": "stdout",
          "text": [
            " \n",
            " \n",
            " \n",
            " \n",
            " \n",
            " \n",
            " \n",
            " \n",
            "Oi S.A.  – Em Recuperação Judicial  \n",
            "/ME nº ../ - \n",
            " .. - \n",
            "  \n",
            " \n",
            "  \n",
            " \n",
            "Oi S.A . – Em Recuperação Judicial  (“Oi” ou “ Companhia ”), em cumprimento ao \n",
            "disposto no art.  , §º, Lei nº ./, e  na Resolução CVM nº  /, vem informar \n",
            "aos seus acionistas e ao mercado em geral  que optou por descontinuar a divulgação \n",
            "das projeções de desempenho futuro  (“guidance ”), contemplando projeções e \n",
            "estimativas operacionais e financeiras divulgad as no Fato Relevante de  de julho de \n",
            ", tendo em vista as relevantes mudanças no cenário macroeconômico brasileiro e \n",
            "a consequente contrapartida no ambiente competitivo  e nas necessidades de \n",
            "financiamento  da Companhia . \n",
            " \n",
            "A Companhia também ressalta que as projeções contidas no Fato Relevante de  de \n",
            "dezembro de  , sobre o Blowout  das discussões com credores , não deve m ser \n",
            "consideradas como guidance . Isso  porque tais projeções  assumem premissas da \n",
            "negociação com os credores conforme os termos da proposta apresentada no material  \n",
            "e os indicadores financeiros e operacionais  divulgados poderiam ser objeto de revisão \n",
            "de acordo com o próprio resultado des sa discussão . \n",
            " \n",
            "A Companhia manterá seu s acionistas e o mercado informados sobre o \n",
            "desenvolvimento dos assuntos objeto deste Fato Relevante.  \n",
            " \n",
            "Rio de Janeiro,  de janeiro de  . \n",
            " \n",
            " \n",
            "Oi S.A.  – Em Recuperação Judicial  \n",
            "Cristiane Barretto Sales  \n",
            "Diretora de Finanças e de Relações com Investidores  \n",
            "\n"
          ]
        }
      ]
    },
    {
      "cell_type": "code",
      "source": [
        "import re\n",
        "\n",
        "# Função para remover padrões específicos de uma string\n",
        "def remover_padroes(texto):\n",
        "    padroes_remover = ['S\\.A\\.', 'nº', '/ME', '/']\n",
        "    for padrao in padroes_remover:\n",
        "        texto = re.sub(padrao, '', texto)\n",
        "    return texto\n",
        "\n",
        "# Aplicar remoção de padrões\n",
        "df['Texto'] = df['Texto'].apply(remover_padroes)\n",
        "\n",
        "\n",
        "# Visualizar o resultado do primeiro texto\n",
        "print(df.loc[:, 'Texto'].iloc[0])\n"
      ],
      "metadata": {
        "id": "Wa6kFnfBx7eg",
        "outputId": "e851723e-4b9b-4141-b91a-d93644a0fbce",
        "colab": {
          "base_uri": "https://localhost:8080/"
        }
      },
      "execution_count": null,
      "outputs": [
        {
          "output_type": "stream",
          "name": "stdout",
          "text": [
            " \n",
            " \n",
            " \n",
            " \n",
            " \n",
            " \n",
            " \n",
            " \n",
            "Oi   – Em Recuperação Judicial  \n",
            "  .. - \n",
            " .. - \n",
            "  \n",
            " \n",
            "  \n",
            " \n",
            "Oi S.A . – Em Recuperação Judicial  (“Oi” ou “ Companhia ”), em cumprimento ao \n",
            "disposto no art.  , §º, Lei  ., e  na Resolução CVM   , vem informar \n",
            "aos seus acionistas e ao mercado em geral  que optou por descontinuar a divulgação \n",
            "das projeções de desempenho futuro  (“guidance ”), contemplando projeções e \n",
            "estimativas operacionais e financeiras divulgad as no Fato Relevante de  de julho de \n",
            ", tendo em vista as relevantes mudanças no cenário macroeconômico brasileiro e \n",
            "a consequente contrapartida no ambiente competitivo  e nas necessidades de \n",
            "financiamento  da Companhia . \n",
            " \n",
            "A Companhia também ressalta que as projeções contidas no Fato Relevante de  de \n",
            "dezembro de  , sobre o Blowout  das discussões com credores , não deve m ser \n",
            "consideradas como guidance . Isso  porque tais projeções  assumem premissas da \n",
            "negociação com os credores conforme os termos da proposta apresentada no material  \n",
            "e os indicadores financeiros e operacionais  divulgados poderiam ser objeto de revisão \n",
            "de acordo com o próprio resultado des sa discussão . \n",
            " \n",
            "A Companhia manterá seu s acionistas e o mercado informados sobre o \n",
            "desenvolvimento dos assuntos objeto deste Fato Relevante.  \n",
            " \n",
            "Rio de Janeiro,  de janeiro de  . \n",
            " \n",
            " \n",
            "Oi   – Em Recuperação Judicial  \n",
            "Cristiane Barretto Sales  \n",
            "Diretora de Finanças e de Relações com Investidores  \n",
            "\n"
          ]
        }
      ]
    },
    {
      "cell_type": "code",
      "source": [
        "import re\n",
        "from textstat import textstat\n",
        "\n",
        "# Aplicar preprocessamento e calcular o Fog Index no DataFrame 'df_portugues'\n",
        "df['fog_index'] = df['Texto'].apply(lambda x: textstat.gunning_fog(x))\n",
        "\n",
        "# Visualizar o resultado\n",
        "print(df[['Texto', 'fog_index']])\n",
        "\n"
      ],
      "metadata": {
        "colab": {
          "base_uri": "https://localhost:8080/"
        },
        "id": "bCeNYG5GoVar",
        "outputId": "e8d046dd-487f-411f-a5b1-837fd3cd62fd"
      },
      "execution_count": null,
      "outputs": [
        {
          "output_type": "stream",
          "name": "stdout",
          "text": [
            "                                                  Texto  fog_index\n",
            "0      \\n \\n \\n \\n \\n \\n \\n \\nOi   – Em Recuperação ...      18.58\n",
            "1      \\n \\nCRUZEIRO DO SUL EDUCACIONAL    \\n  .. - ...      13.93\n",
            "2                                                   ...      16.23\n",
            "3                                                   ...      16.23\n",
            "4     BANCO SANTANDER (BRASIL)   \\n de Capital Autor...      14.64\n",
            "...                                                 ...        ...\n",
            "1171   \\n \\n \\nPACAEMBU CONSTRUTORA    \\n n° .. - \\n...      13.16\n",
            "1172   \\n \\n \\nPACAEMBU CONSTRUTORA    \\n n° .. - \\n...      14.09\n",
            "1173   \\n \\n \\nPACAEMBU CONSTRUTORA    \\n n° .. - \\n...      14.51\n",
            "1174   \\n   .. - \\n  \\n \\n  \\nMUDANÇAS NO COMITÊ  EX...      18.20\n",
            "1175   \\n   .. - \\n  \\n \\n  \\nCANCELAMENTO DE AÇÕES ...      12.62\n",
            "\n",
            "[1176 rows x 2 columns]\n"
          ]
        }
      ]
    },
    {
      "cell_type": "code",
      "source": [
        "desc_estatisticas = df['fog_index'].describe()\n",
        "print(desc_estatisticas)"
      ],
      "metadata": {
        "id": "ji9ufB-HsiCS",
        "outputId": "a2627628-fc96-44d9-bc5a-e90227e4a22c",
        "colab": {
          "base_uri": "https://localhost:8080/"
        }
      },
      "execution_count": null,
      "outputs": [
        {
          "output_type": "stream",
          "name": "stdout",
          "text": [
            "count    1176.000000\n",
            "mean       15.877474\n",
            "std         4.064497\n",
            "min         0.000000\n",
            "25%        14.090000\n",
            "50%        16.070000\n",
            "75%        17.530000\n",
            "max        29.380000\n",
            "Name: fog_index, dtype: float64\n"
          ]
        }
      ]
    },
    {
      "cell_type": "code",
      "source": [
        "import re\n",
        "from textstat import textstat\n",
        "import numpy as np\n",
        "\n",
        "# Função para calcular o índice Flesch\n",
        "def calcular_flesch(texto):\n",
        "    sentences = textstat.sentence_count(texto)\n",
        "    words = textstat.lexicon_count(texto)\n",
        "    syllables = textstat.syllable_count(texto, lang='pt')\n",
        "    \n",
        "    if words == 0:\n",
        "        return np.nan\n",
        "    \n",
        "    average_words_per_sentence = words / sentences\n",
        "    average_syllables_per_word = syllables / words\n",
        "    \n",
        "    flesch_index = 206.835 - (1.015 * average_words_per_sentence) - (84.6 * average_syllables_per_word)\n",
        "    return flesch_index\n",
        "\n",
        "# Aplicar preprocessamento e calcular o Índice Flesch no DataFrame 'df'\n",
        "df['flesch_index'] = df['Texto'].apply(calcular_flesch)\n",
        "\n",
        "# Visualizar o resultado\n",
        "print(df[['Texto', 'flesch_index']])\n"
      ],
      "metadata": {
        "id": "IYKoYr4X8az0",
        "outputId": "6d5e8a44-945b-450d-f888-36e8c7b3a868",
        "colab": {
          "base_uri": "https://localhost:8080/"
        }
      },
      "execution_count": null,
      "outputs": [
        {
          "output_type": "stream",
          "name": "stdout",
          "text": [
            "                                                  Texto  flesch_index\n",
            "0      \\n \\n \\n \\n \\n \\n \\n \\nOi   – Em Recuperação ...     23.306683\n",
            "1      \\n \\nCRUZEIRO DO SUL EDUCACIONAL    \\n  .. - ...     35.824119\n",
            "2                                                   ...     36.705587\n",
            "3                                                   ...     36.705587\n",
            "4     BANCO SANTANDER (BRASIL)   \\n de Capital Autor...     33.144503\n",
            "...                                                 ...           ...\n",
            "1171   \\n \\n \\nPACAEMBU CONSTRUTORA    \\n n° .. - \\n...     37.068997\n",
            "1172   \\n \\n \\nPACAEMBU CONSTRUTORA    \\n n° .. - \\n...     40.614228\n",
            "1173   \\n \\n \\nPACAEMBU CONSTRUTORA    \\n n° .. - \\n...     34.605706\n",
            "1174   \\n   .. - \\n  \\n \\n  \\nMUDANÇAS NO COMITÊ  EX...     24.516140\n",
            "1175   \\n   .. - \\n  \\n \\n  \\nCANCELAMENTO DE AÇÕES ...     41.982276\n",
            "\n",
            "[1176 rows x 2 columns]\n"
          ]
        }
      ]
    },
    {
      "cell_type": "code",
      "source": [
        "# Calculate the correlation between 'fog_index' and 'flesch_index'\n",
        "correlation = df['fog_index'].corr(df['flesch_index'])\n",
        "\n",
        "# Print the correlation value\n",
        "print(\"Correlation between fog_index and flesch_index:\", correlation)"
      ],
      "metadata": {
        "id": "hiOlUpCB9A2U",
        "outputId": "4da2f640-f573-4399-843e-144d5ae12f40",
        "colab": {
          "base_uri": "https://localhost:8080/"
        }
      },
      "execution_count": null,
      "outputs": [
        {
          "output_type": "stream",
          "name": "stdout",
          "text": [
            "Correlation between fog_index and flesch_index: -0.8514147452423262\n"
          ]
        }
      ]
    }
  ]
}