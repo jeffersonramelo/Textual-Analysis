{
  "nbformat": 4,
  "nbformat_minor": 0,
  "metadata": {
    "colab": {
      "provenance": [],
      "authorship_tag": "ABX9TyMxyUve081vzQPKp6z+p/nt",
      "include_colab_link": true
    },
    "kernelspec": {
      "name": "python3",
      "display_name": "Python 3"
    },
    "language_info": {
      "name": "python"
    }
  },
  "cells": [
    {
      "cell_type": "markdown",
      "metadata": {
        "id": "view-in-github",
        "colab_type": "text"
      },
      "source": [
        "<a href=\"https://colab.research.google.com/github/jeffersonramelo/Textual-Analysis/blob/main/base_copomEN_ML.ipynb\" target=\"_parent\"><img src=\"https://colab.research.google.com/assets/colab-badge.svg\" alt=\"Open In Colab\"/></a>"
      ]
    },
    {
      "cell_type": "code",
      "source": [
        "import pandas as pd\n",
        "# Ler o arquivo XLSX\n",
        "dados = pd.read_excel('/content/atas_ML_supervisionado_texto.xlsx')"
      ],
      "metadata": {
        "id": "c2mDZfX7YWnV"
      },
      "execution_count": 15,
      "outputs": []
    },
    {
      "cell_type": "code",
      "source": [
        "#vizualizar dados\n",
        "dados.head()"
      ],
      "metadata": {
        "id": "wqgE3so93YYp",
        "colab": {
          "base_uri": "https://localhost:8080/",
          "height": 354
        },
        "outputId": "51889188-d5eb-4673-8206-b47d2827d69b"
      },
      "execution_count": 2,
      "outputs": [
        {
          "output_type": "execute_result",
          "data": {
            "text/plain": [
              "         DataReferencia                            Titulo  Unnamed: 2  \\\n",
              "0  2023-05-03T03:00:00Z     254th Meeting - May 2-3, 2023         NaN   \n",
              "1  2020-08-05T03:00:00Z  232nd Meeting – August 4-5, 2020         NaN   \n",
              "2  2016-05-11T14:59:38Z               198th Copom Minutes         NaN   \n",
              "3  2015-11-25T02:00:00Z               195th Copom Minutes         NaN   \n",
              "4  2014-12-17T19:19:49Z               187th Copom Minutes         NaN   \n",
              "\n",
              "                                               texto       data  Meta SELIC  \\\n",
              "0  banco central brasil focus january minutes nd ... 1999-12-15       19.00   \n",
              "1  september minutes nd meeting banco central bra... 2001-08-22       19.00   \n",
              "2  minutes th meeting monetary policy committee c... 2004-09-15       16.25   \n",
              "3  minutes th meeting monetary policy committee c... 2005-05-18       19.75   \n",
              "4  minutes th meeting monetary policy committee c... 2006-03-08       16.50   \n",
              "\n",
              "  sentimento_taxa  ata  ata2 sentimento_ML_supervsionado  \n",
              "0         incerto   42    42                    negativo  \n",
              "1         incerto   62    62                    negativo  \n",
              "2        negativo  100   100                    negativo  \n",
              "3        negativo  108   108                    negativo  \n",
              "4        positivo  117   117                    negativo  "
            ],
            "text/html": [
              "\n",
              "  <div id=\"df-51cd6922-84bc-44de-989d-4d3449fb203b\">\n",
              "    <div class=\"colab-df-container\">\n",
              "      <div>\n",
              "<style scoped>\n",
              "    .dataframe tbody tr th:only-of-type {\n",
              "        vertical-align: middle;\n",
              "    }\n",
              "\n",
              "    .dataframe tbody tr th {\n",
              "        vertical-align: top;\n",
              "    }\n",
              "\n",
              "    .dataframe thead th {\n",
              "        text-align: right;\n",
              "    }\n",
              "</style>\n",
              "<table border=\"1\" class=\"dataframe\">\n",
              "  <thead>\n",
              "    <tr style=\"text-align: right;\">\n",
              "      <th></th>\n",
              "      <th>DataReferencia</th>\n",
              "      <th>Titulo</th>\n",
              "      <th>Unnamed: 2</th>\n",
              "      <th>texto</th>\n",
              "      <th>data</th>\n",
              "      <th>Meta SELIC</th>\n",
              "      <th>sentimento_taxa</th>\n",
              "      <th>ata</th>\n",
              "      <th>ata2</th>\n",
              "      <th>sentimento_ML_supervsionado</th>\n",
              "    </tr>\n",
              "  </thead>\n",
              "  <tbody>\n",
              "    <tr>\n",
              "      <th>0</th>\n",
              "      <td>2023-05-03T03:00:00Z</td>\n",
              "      <td>254th Meeting - May 2-3, 2023</td>\n",
              "      <td>NaN</td>\n",
              "      <td>banco central brasil focus january minutes nd ...</td>\n",
              "      <td>1999-12-15</td>\n",
              "      <td>19.00</td>\n",
              "      <td>incerto</td>\n",
              "      <td>42</td>\n",
              "      <td>42</td>\n",
              "      <td>negativo</td>\n",
              "    </tr>\n",
              "    <tr>\n",
              "      <th>1</th>\n",
              "      <td>2020-08-05T03:00:00Z</td>\n",
              "      <td>232nd Meeting – August 4-5, 2020</td>\n",
              "      <td>NaN</td>\n",
              "      <td>september minutes nd meeting banco central bra...</td>\n",
              "      <td>2001-08-22</td>\n",
              "      <td>19.00</td>\n",
              "      <td>incerto</td>\n",
              "      <td>62</td>\n",
              "      <td>62</td>\n",
              "      <td>negativo</td>\n",
              "    </tr>\n",
              "    <tr>\n",
              "      <th>2</th>\n",
              "      <td>2016-05-11T14:59:38Z</td>\n",
              "      <td>198th Copom Minutes</td>\n",
              "      <td>NaN</td>\n",
              "      <td>minutes th meeting monetary policy committee c...</td>\n",
              "      <td>2004-09-15</td>\n",
              "      <td>16.25</td>\n",
              "      <td>negativo</td>\n",
              "      <td>100</td>\n",
              "      <td>100</td>\n",
              "      <td>negativo</td>\n",
              "    </tr>\n",
              "    <tr>\n",
              "      <th>3</th>\n",
              "      <td>2015-11-25T02:00:00Z</td>\n",
              "      <td>195th Copom Minutes</td>\n",
              "      <td>NaN</td>\n",
              "      <td>minutes th meeting monetary policy committee c...</td>\n",
              "      <td>2005-05-18</td>\n",
              "      <td>19.75</td>\n",
              "      <td>negativo</td>\n",
              "      <td>108</td>\n",
              "      <td>108</td>\n",
              "      <td>negativo</td>\n",
              "    </tr>\n",
              "    <tr>\n",
              "      <th>4</th>\n",
              "      <td>2014-12-17T19:19:49Z</td>\n",
              "      <td>187th Copom Minutes</td>\n",
              "      <td>NaN</td>\n",
              "      <td>minutes th meeting monetary policy committee c...</td>\n",
              "      <td>2006-03-08</td>\n",
              "      <td>16.50</td>\n",
              "      <td>positivo</td>\n",
              "      <td>117</td>\n",
              "      <td>117</td>\n",
              "      <td>negativo</td>\n",
              "    </tr>\n",
              "  </tbody>\n",
              "</table>\n",
              "</div>\n",
              "      <button class=\"colab-df-convert\" onclick=\"convertToInteractive('df-51cd6922-84bc-44de-989d-4d3449fb203b')\"\n",
              "              title=\"Convert this dataframe to an interactive table.\"\n",
              "              style=\"display:none;\">\n",
              "        \n",
              "  <svg xmlns=\"http://www.w3.org/2000/svg\" height=\"24px\"viewBox=\"0 0 24 24\"\n",
              "       width=\"24px\">\n",
              "    <path d=\"M0 0h24v24H0V0z\" fill=\"none\"/>\n",
              "    <path d=\"M18.56 5.44l.94 2.06.94-2.06 2.06-.94-2.06-.94-.94-2.06-.94 2.06-2.06.94zm-11 1L8.5 8.5l.94-2.06 2.06-.94-2.06-.94L8.5 2.5l-.94 2.06-2.06.94zm10 10l.94 2.06.94-2.06 2.06-.94-2.06-.94-.94-2.06-.94 2.06-2.06.94z\"/><path d=\"M17.41 7.96l-1.37-1.37c-.4-.4-.92-.59-1.43-.59-.52 0-1.04.2-1.43.59L10.3 9.45l-7.72 7.72c-.78.78-.78 2.05 0 2.83L4 21.41c.39.39.9.59 1.41.59.51 0 1.02-.2 1.41-.59l7.78-7.78 2.81-2.81c.8-.78.8-2.07 0-2.86zM5.41 20L4 18.59l7.72-7.72 1.47 1.35L5.41 20z\"/>\n",
              "  </svg>\n",
              "      </button>\n",
              "      \n",
              "  <style>\n",
              "    .colab-df-container {\n",
              "      display:flex;\n",
              "      flex-wrap:wrap;\n",
              "      gap: 12px;\n",
              "    }\n",
              "\n",
              "    .colab-df-convert {\n",
              "      background-color: #E8F0FE;\n",
              "      border: none;\n",
              "      border-radius: 50%;\n",
              "      cursor: pointer;\n",
              "      display: none;\n",
              "      fill: #1967D2;\n",
              "      height: 32px;\n",
              "      padding: 0 0 0 0;\n",
              "      width: 32px;\n",
              "    }\n",
              "\n",
              "    .colab-df-convert:hover {\n",
              "      background-color: #E2EBFA;\n",
              "      box-shadow: 0px 1px 2px rgba(60, 64, 67, 0.3), 0px 1px 3px 1px rgba(60, 64, 67, 0.15);\n",
              "      fill: #174EA6;\n",
              "    }\n",
              "\n",
              "    [theme=dark] .colab-df-convert {\n",
              "      background-color: #3B4455;\n",
              "      fill: #D2E3FC;\n",
              "    }\n",
              "\n",
              "    [theme=dark] .colab-df-convert:hover {\n",
              "      background-color: #434B5C;\n",
              "      box-shadow: 0px 1px 3px 1px rgba(0, 0, 0, 0.15);\n",
              "      filter: drop-shadow(0px 1px 2px rgba(0, 0, 0, 0.3));\n",
              "      fill: #FFFFFF;\n",
              "    }\n",
              "  </style>\n",
              "\n",
              "      <script>\n",
              "        const buttonEl =\n",
              "          document.querySelector('#df-51cd6922-84bc-44de-989d-4d3449fb203b button.colab-df-convert');\n",
              "        buttonEl.style.display =\n",
              "          google.colab.kernel.accessAllowed ? 'block' : 'none';\n",
              "\n",
              "        async function convertToInteractive(key) {\n",
              "          const element = document.querySelector('#df-51cd6922-84bc-44de-989d-4d3449fb203b');\n",
              "          const dataTable =\n",
              "            await google.colab.kernel.invokeFunction('convertToInteractive',\n",
              "                                                     [key], {});\n",
              "          if (!dataTable) return;\n",
              "\n",
              "          const docLinkHtml = 'Like what you see? Visit the ' +\n",
              "            '<a target=\"_blank\" href=https://colab.research.google.com/notebooks/data_table.ipynb>data table notebook</a>'\n",
              "            + ' to learn more about interactive tables.';\n",
              "          element.innerHTML = '';\n",
              "          dataTable['output_type'] = 'display_data';\n",
              "          await google.colab.output.renderOutput(dataTable, element);\n",
              "          const docLink = document.createElement('div');\n",
              "          docLink.innerHTML = docLinkHtml;\n",
              "          element.appendChild(docLink);\n",
              "        }\n",
              "      </script>\n",
              "    </div>\n",
              "  </div>\n",
              "  "
            ]
          },
          "metadata": {},
          "execution_count": 2
        }
      ]
    },
    {
      "cell_type": "code",
      "source": [
        "#quantos dados positivo e negativos?\n",
        "dados.sentimento_ML_supervisionado.value_counts()"
      ],
      "metadata": {
        "colab": {
          "base_uri": "https://localhost:8080/"
        },
        "id": "Jy90HFtf3Hzv",
        "outputId": "4f6dd990-8c5e-4697-b306-0d934d4aab6b"
      },
      "execution_count": 17,
      "outputs": [
        {
          "output_type": "execute_result",
          "data": {
            "text/plain": [
              "negativo    16\n",
              "positivo    14\n",
              "Name: sentimento_ML_supervisionado, dtype: int64"
            ]
          },
          "metadata": {},
          "execution_count": 17
        }
      ]
    },
    {
      "cell_type": "code",
      "source": [
        "# Acessar os textos contidos nas celulas, só substituir o número da celula que deseja vizualizar\n",
        "celula = dados.loc[0, 'texto']\n",
        "\n",
        "# Imprimir o conteúdo da célula\n",
        "print(celula)\n"
      ],
      "metadata": {
        "colab": {
          "base_uri": "https://localhost:8080/"
        },
        "id": "dNLlKhMh35qO",
        "outputId": "9a6ecb8c-4556-4397-c9b7-acf62f5c0c4e"
      },
      "execution_count": 8,
      "outputs": [
        {
          "output_type": "stream",
          "name": "stdout",
          "text": [
            "banco central brasil focus january minutes nd meeting monetary policy committee copom date place th floor room headquarters brasília df called order pm adjourned attendance members board daniel luiz gleizer acting governor carlos eduardo de freitas edison bernardes dos santos fernando figueiredo sérgio darcy da silva alves ribeiro costa werlang department heads antônio moraes rego caldas economics depec daso maranhão coimbra international reserve operations depin josé marciano banking deban alexandre antonio tombini research depep hitiro nakao open market demab participants pundek rocha senior advisor executive secretary claudia safatle press asimp analyzed recent evolution outlook brazilian economies framework countrys new regime designed ensure compliance government defined inflation targets aggregate supply demand indicators october november point moderate recovery slight growth consumption investment levels volume credit expanding declining default favorable conditions offered trade sector real revenues retail five metropolitan regions accumulated reduction however one excludes performance factory authorized vehicle sales outlets calculation overall result stability period consumer goods remained stable dropped followed building materials upward movement private credits began second quarter continued rate financial system downward trajectory public also albeit lesser pace notwithstanding expectations primary surpluses final months year fiscal quite satisfactory easily surpassed economic program agreed upon imf aided attenuating brazil risk increased confidence will achieved month consolidated surplus criterion came r billion totaled target worked fund nominal concept borrowing requirements impact exchange devaluation excluded debt indexed deficit closed range exports expanded balance registered us compared previous foreign less note export volumes since july price indices expressed data purged seasonal factors improving september comparison imports declined average prices rose sharply mostly consequence oil hikes service account preceding rise interest payments offset net outlays headings particularly profits dividends transportation travel according ibge statistics gdp third industrial output use categories figures expected reveal similar significant pressures production costs series estimated bringing drop capital labor earnings closing first nine loss unemployment broad index ipca mirroring expansion food items respectively tradable previously responsible considerable pressure contrast managed nontradables practically indexfipe ipcfipe increases last twelve survey analysts major revised course insofar december concerned observers expect effects offseason harvest wane forecasts external environment despite predictions slowdown united states economy thriving yet felt based annualized thus surpassing level following moved consecutive hourly raising positive ended raw material producer intermediate measured national association purchase managers napm japan recalled strong falloff caused decline sectors activity including japanese greater valuation yen much way seasonally adjusted held steady tankan indicator manufacturing industry pointing sense continuity process accelerated case euro zone bright regard german french relation relevant m harmonized total kingdom terms argentine august recession country tax shrank situation deteriorated among measures adjustment now negotiated congress depends approval budget redistribution expenditures provinces already existent taxes coupled creation levies prospective assessment trends st forecast federal funds altered analysis futures quarterly percentage points reaching per petroleum increase winter season industrialized nations maintained subsequent downturn stabilization barrel brent type crude identified question cited basic scenario uses conservative estimate generate direct simulated available models respective bands includes hypothesis maintenance selic simulations led conclusion probability almost quarters close trend stated fourth review indicate rates current make possible achieve money decided maintain eliminate bias treasury carried eleven ltn auctions lft preset papers readily absorbed marked longer maturities indicating improvement six ltns sold two ntnc uniform three seven years though buyers allowed effect payment securitized liable general preference liquidation cash definitive securities limited nbce sole objective offsetting redemptions updated variations strategy allowing float freely reduced interventions consequently institution aimed liquidity line just effected overnight guidelines wave shocks generated largely turn coming slow value currency risen broadening intervention limits decision taken combined forward dollar maintaining results met impacted generally unfavorable begun reacting half opted alter refrained position justified need confirm diagnosis regarding wholesale degree deceleration best modest give due consideration uncertainties behavior still source concern light indirect reminded meet schedule ordinary meetings released communiqué dated information unrestricted disclosure intended bind actions \n"
          ]
        }
      ]
    },
    {
      "cell_type": "code",
      "source": [
        "pip install scikit-learn"
      ],
      "metadata": {
        "colab": {
          "base_uri": "https://localhost:8080/"
        },
        "id": "2P7uAxFxvTPV",
        "outputId": "516c61db-344d-49f7-8ff0-c67ca8d496d4"
      },
      "execution_count": 23,
      "outputs": [
        {
          "output_type": "stream",
          "name": "stdout",
          "text": [
            "Looking in indexes: https://pypi.org/simple, https://us-python.pkg.dev/colab-wheels/public/simple/\n",
            "Requirement already satisfied: scikit-learn in /usr/local/lib/python3.10/dist-packages (1.2.2)\n",
            "Requirement already satisfied: numpy>=1.17.3 in /usr/local/lib/python3.10/dist-packages (from scikit-learn) (1.22.4)\n",
            "Requirement already satisfied: scipy>=1.3.2 in /usr/local/lib/python3.10/dist-packages (from scikit-learn) (1.10.1)\n",
            "Requirement already satisfied: joblib>=1.1.1 in /usr/local/lib/python3.10/dist-packages (from scikit-learn) (1.2.0)\n",
            "Requirement already satisfied: threadpoolctl>=2.0.0 in /usr/local/lib/python3.10/dist-packages (from scikit-learn) (3.1.0)\n"
          ]
        }
      ]
    },
    {
      "cell_type": "markdown",
      "source": [
        "Naive Bayes"
      ],
      "metadata": {
        "id": "FcplM6PyesNu"
      }
    },
    {
      "cell_type": "code",
      "source": [
        "from sklearn.model_selection import train_test_split, cross_val_score\n",
        "from sklearn.feature_extraction.text import CountVectorizer\n",
        "from sklearn.naive_bayes import MultinomialNB, GaussianNB, BernoulliNB\n",
        "from sklearn.metrics import confusion_matrix, accuracy_score\n",
        "\n",
        "# Dividir o DataFrame em dados de treinamento e teste\n",
        "X = dados['texto']\n",
        "y = dados['sentimento_ML_supervisionado']\n",
        "X_train, X_test, y_train, y_test = train_test_split(X, y, test_size=0.2, random_state=42)\n",
        "\n",
        "# Pré-processamento dos dados de texto\n",
        "vectorizer = CountVectorizer()\n",
        "X_train = vectorizer.fit_transform(X_train)\n",
        "X_test = vectorizer.transform(X_test)\n",
        "\n",
        "# Inicializar os classificadores\n",
        "mnb = MultinomialNB()\n",
        "gnb = GaussianNB()\n",
        "bnb = BernoulliNB()\n",
        "\n",
        "# Realizar validação cruzada nos classificadores\n",
        "cv_scores_mnb = cross_val_score(mnb, X_train, y_train, cv=5)\n",
        "cv_scores_gnb = cross_val_score(gnb, X_train.toarray(), y_train, cv=5)\n",
        "cv_scores_bnb = cross_val_score(bnb, X_train, y_train, cv=5)\n",
        "\n",
        "# Treinar os classificadores nos dados de treinamento completos\n",
        "mnb.fit(X_train, y_train)\n",
        "gnb.fit(X_train.toarray(), y_train)\n",
        "bnb.fit(X_train, y_train)\n",
        "\n",
        "# Fazer previsões nos dados de teste\n",
        "y_pred_mnb = mnb.predict(X_test)\n",
        "y_pred_gnb = gnb.predict(X_test.toarray())\n",
        "y_pred_bnb = bnb.predict(X_test)\n",
        "\n",
        "\n"
      ],
      "metadata": {
        "id": "G7zANSB0vkJV"
      },
      "execution_count": 24,
      "outputs": []
    },
    {
      "cell_type": "code",
      "source": [
        "# Calcular a matriz de confusão\n",
        "confusion_mnb = confusion_matrix(y_test, y_pred_mnb)\n",
        "print(\"confusion_mnb\", confusion_mnb)\n",
        "confusion_gnb = confusion_matrix(y_test, y_pred_gnb)\n",
        "print(\"confusion_gnb\", confusion_gnb)\n",
        "confusion_bnb = confusion_matrix(y_test, y_pred_bnb)\n",
        "print(\"confusion_bnb\", confusion_bnb)"
      ],
      "metadata": {
        "colab": {
          "base_uri": "https://localhost:8080/"
        },
        "id": "W7kUc7UYv4lU",
        "outputId": "4133622e-7f7d-4c34-c344-ea541a0e06ee"
      },
      "execution_count": 29,
      "outputs": [
        {
          "output_type": "stream",
          "name": "stdout",
          "text": [
            "confusion_mnb [[1 2]\n",
            " [1 2]]\n",
            "confusion_gnb [[3 0]\n",
            " [3 0]]\n",
            "confusion_bnb [[1 2]\n",
            " [1 2]]\n"
          ]
        }
      ]
    },
    {
      "cell_type": "code",
      "source": [
        "# Avaliar o desempenho dos classificadores com a métrica de acurácia\n",
        "accuracy_mnb = accuracy_score(y_test, y_pred_mnb)\n",
        "print(\"accuracy_mnb\", accuracy_mnb)\n",
        "accuracy_gnb = accuracy_score(y_test, y_pred_gnb)\n",
        "print(\"accuracy_gnb\", accuracy_gnb)\n",
        "accuracy_bnb = accuracy_score(y_test, y_pred_bnb)\n",
        "print(\"accuracy_bnb\", accuracy_bnb)"
      ],
      "metadata": {
        "colab": {
          "base_uri": "https://localhost:8080/"
        },
        "id": "CBCe0CFGvrsF",
        "outputId": "3aeb4948-008f-441a-c240-8dfd12798a45"
      },
      "execution_count": 28,
      "outputs": [
        {
          "output_type": "stream",
          "name": "stdout",
          "text": [
            "accuracy_mnb 0.5\n",
            "accuracy_gnb 0.5\n",
            "accuracy_bnb 0.5\n"
          ]
        }
      ]
    },
    {
      "cell_type": "markdown",
      "source": [
        "Suporte Vector Machine"
      ],
      "metadata": {
        "id": "tq7eIu4aeQ0m"
      }
    },
    {
      "cell_type": "code",
      "source": [
        "from sklearn.svm import SVC\n",
        "\n",
        "# Dividir o DataFrame em dados de treinamento e teste\n",
        "X = dados['texto']\n",
        "y = dados['sentimento_ML_supervisionado']\n",
        "X_train, X_test, y_train, y_test = train_test_split(X, y, test_size=0.2, random_state=42)\n",
        "\n",
        "# Pré-processamento dos dados de texto\n",
        "vectorizer = CountVectorizer()\n",
        "X_train = vectorizer.fit_transform(X_train)\n",
        "X_test = vectorizer.transform(X_test)\n",
        "\n",
        "# Inicializar o classificador SVM\n",
        "svm = SVC()\n",
        "\n",
        "# Treinar o classificador SVM\n",
        "svm.fit(X_train, y_train)\n",
        "\n",
        "# Fazer previsões nos dados de teste\n",
        "y_pred_svm = svm.predict(X_test)\n",
        "\n",
        "# Gerar a matriz de confusão\n",
        "confusion_mtx_svm = confusion_matrix(y_test, y_pred_svm)\n",
        "\n",
        "print(\"Matriz de Confusão - SVM:\")\n",
        "print(confusion_mtx_svm)\n",
        "\n",
        "# Calcular a acurácia do modelo SVM\n",
        "accuracy_svm = accuracy_score(y_test, y_pred_svm)\n",
        "\n",
        "print(\"Acurácia - SVM:\", accuracy_svm)\n"
      ],
      "metadata": {
        "colab": {
          "base_uri": "https://localhost:8080/"
        },
        "id": "MDZ-zWj0dklL",
        "outputId": "4b1ed0eb-5d7d-4fa4-86d5-6a4a49a674a6"
      },
      "execution_count": 32,
      "outputs": [
        {
          "output_type": "stream",
          "name": "stdout",
          "text": [
            "Matriz de Confusão - SVM:\n",
            "[[3 0]\n",
            " [1 2]]\n",
            "Acurácia - SVM: 0.8333333333333334\n"
          ]
        }
      ]
    },
    {
      "cell_type": "markdown",
      "source": [
        "Redes Neurais\n",
        "\n",
        "A rede neural utilizada no exemplo é um Perceptron de Múltiplas Camadas (Multilayer Perceptron, MLP). O MLP é uma arquitetura de rede neural artificial que consiste em várias camadas de neurônios, incluindo uma camada de entrada, uma ou mais camadas ocultas e uma camada de saída. Cada neurônio em uma camada está conectado a todos os neurônios na camada seguinte, formando uma rede densamente conectada."
      ],
      "metadata": {
        "id": "lhqBzsyQe9DX"
      }
    },
    {
      "cell_type": "code",
      "source": [
        "from sklearn.neural_network import MLPClassifier\n",
        "\n",
        "# Dividir o DataFrame em dados de treinamento e teste\n",
        "X = dados['texto']\n",
        "y = dados['sentimento_ML_supervisionado']\n",
        "X_train, X_test, y_train, y_test = train_test_split(X, y, test_size=0.2, random_state=42)\n",
        "\n",
        "# Pré-processamento dos dados de texto\n",
        "vectorizer = CountVectorizer()\n",
        "X_train = vectorizer.fit_transform(X_train)\n",
        "X_test = vectorizer.transform(X_test)\n",
        "\n",
        "# Inicializar o classificador MLP\n",
        "mlp = MLPClassifier(hidden_layer_sizes=(100,), random_state=42)\n",
        "\n",
        "# Treinar o classificador MLP\n",
        "mlp.fit(X_train, y_train)\n",
        "\n",
        "# Fazer previsões nos dados de teste\n",
        "y_pred_mlp = mlp.predict(X_test)\n",
        "\n",
        "# Gerar a matriz de confusão\n",
        "confusion_mtx_mlp = confusion_matrix(y_test, y_pred_mlp)\n",
        "\n",
        "print(\"Matriz de Confusão - MLP:\")\n",
        "print(confusion_mtx_mlp)\n",
        "\n",
        "# Calcular a acurácia do modelo MLP\n",
        "accuracy_mlp = accuracy_score(y_test, y_pred_mlp)\n",
        "\n",
        "print(\"Acurácia - MLP:\", accuracy_mlp)\n"
      ],
      "metadata": {
        "colab": {
          "base_uri": "https://localhost:8080/"
        },
        "id": "VeSoVTuwe-4D",
        "outputId": "45fa436a-8d0f-4312-ea3e-6fb3b3bda4b8"
      },
      "execution_count": 31,
      "outputs": [
        {
          "output_type": "stream",
          "name": "stdout",
          "text": [
            "Matriz de Confusão - MLP:\n",
            "[[2 1]\n",
            " [1 2]]\n",
            "Acurácia - MLP: 0.6666666666666666\n"
          ]
        }
      ]
    },
    {
      "cell_type": "markdown",
      "source": [
        "suponha que o melhor algoritmo foi o SMV, vamos generalizar para a nova base de dados"
      ],
      "metadata": {
        "id": "Mu47z0YjyYTH"
      }
    },
    {
      "cell_type": "code",
      "source": [
        "# Ler o arquivo XLSX\n",
        "dados2 = pd.read_excel('/content/atas_ML_supervisionado_texto_generalizar.xlsx')"
      ],
      "metadata": {
        "id": "_BLinkyyyXNt"
      },
      "execution_count": 33,
      "outputs": []
    },
    {
      "cell_type": "code",
      "source": [
        "dados2.head()"
      ],
      "metadata": {
        "colab": {
          "base_uri": "https://localhost:8080/",
          "height": 354
        },
        "id": "tx99g51Zy1yd",
        "outputId": "dc36f060-abd5-4dd3-bb56-216b379a8949"
      },
      "execution_count": 34,
      "outputs": [
        {
          "output_type": "execute_result",
          "data": {
            "text/plain": [
              "         DataReferencia                                         Titulo  \\\n",
              "0  2023-03-22T03:00:00Z              253rd Meeting - March 21-22, 2023   \n",
              "1  2023-02-01T03:00:00Z  252nd Meeting - January 31 - February 1, 2023   \n",
              "2  2022-12-07T03:00:00Z             251st Meeting - December 6-7, 2022   \n",
              "3  2022-10-26T03:00:00Z            250th Meeting - October 25-26, 2022   \n",
              "4  2022-09-21T03:00:00Z          249th Meeting - September 20-21, 2022   \n",
              "\n",
              "   Unnamed: 2                                              texto       data  \\\n",
              "0         NaN  banco central brasil focus february minutes nd... 2000-01-19   \n",
              "1         NaN   xppdu jjuhjdwhvxssodqgghpdqg whuqdohqylurqphq... 2000-02-16   \n",
              "2         NaN  banco central brasil focus march minutes th me...        NaT   \n",
              "3         NaN  banco central brasil focus march minutes th me... 2000-03-22   \n",
              "4         NaN  banco central brasil focus may minutes th meet... 2000-04-19   \n",
              "\n",
              "   Meta SELIC sentimento_taxa  ata  sentimento  \n",
              "0        19.0         incerto   43         NaN  \n",
              "1        19.0         incerto   44         NaN  \n",
              "2        18.5        positivo   45         NaN  \n",
              "3        19.0         incerto   45         NaN  \n",
              "4        18.5         incerto   46         NaN  "
            ],
            "text/html": [
              "\n",
              "  <div id=\"df-bed5b3bc-0746-4e1d-9c27-9fc220b6e8c2\">\n",
              "    <div class=\"colab-df-container\">\n",
              "      <div>\n",
              "<style scoped>\n",
              "    .dataframe tbody tr th:only-of-type {\n",
              "        vertical-align: middle;\n",
              "    }\n",
              "\n",
              "    .dataframe tbody tr th {\n",
              "        vertical-align: top;\n",
              "    }\n",
              "\n",
              "    .dataframe thead th {\n",
              "        text-align: right;\n",
              "    }\n",
              "</style>\n",
              "<table border=\"1\" class=\"dataframe\">\n",
              "  <thead>\n",
              "    <tr style=\"text-align: right;\">\n",
              "      <th></th>\n",
              "      <th>DataReferencia</th>\n",
              "      <th>Titulo</th>\n",
              "      <th>Unnamed: 2</th>\n",
              "      <th>texto</th>\n",
              "      <th>data</th>\n",
              "      <th>Meta SELIC</th>\n",
              "      <th>sentimento_taxa</th>\n",
              "      <th>ata</th>\n",
              "      <th>sentimento</th>\n",
              "    </tr>\n",
              "  </thead>\n",
              "  <tbody>\n",
              "    <tr>\n",
              "      <th>0</th>\n",
              "      <td>2023-03-22T03:00:00Z</td>\n",
              "      <td>253rd Meeting - March 21-22, 2023</td>\n",
              "      <td>NaN</td>\n",
              "      <td>banco central brasil focus february minutes nd...</td>\n",
              "      <td>2000-01-19</td>\n",
              "      <td>19.0</td>\n",
              "      <td>incerto</td>\n",
              "      <td>43</td>\n",
              "      <td>NaN</td>\n",
              "    </tr>\n",
              "    <tr>\n",
              "      <th>1</th>\n",
              "      <td>2023-02-01T03:00:00Z</td>\n",
              "      <td>252nd Meeting - January 31 - February 1, 2023</td>\n",
              "      <td>NaN</td>\n",
              "      <td>xppdu jjuhjdwhvxssodqgghpdqg whuqdohqylurqphq...</td>\n",
              "      <td>2000-02-16</td>\n",
              "      <td>19.0</td>\n",
              "      <td>incerto</td>\n",
              "      <td>44</td>\n",
              "      <td>NaN</td>\n",
              "    </tr>\n",
              "    <tr>\n",
              "      <th>2</th>\n",
              "      <td>2022-12-07T03:00:00Z</td>\n",
              "      <td>251st Meeting - December 6-7, 2022</td>\n",
              "      <td>NaN</td>\n",
              "      <td>banco central brasil focus march minutes th me...</td>\n",
              "      <td>NaT</td>\n",
              "      <td>18.5</td>\n",
              "      <td>positivo</td>\n",
              "      <td>45</td>\n",
              "      <td>NaN</td>\n",
              "    </tr>\n",
              "    <tr>\n",
              "      <th>3</th>\n",
              "      <td>2022-10-26T03:00:00Z</td>\n",
              "      <td>250th Meeting - October 25-26, 2022</td>\n",
              "      <td>NaN</td>\n",
              "      <td>banco central brasil focus march minutes th me...</td>\n",
              "      <td>2000-03-22</td>\n",
              "      <td>19.0</td>\n",
              "      <td>incerto</td>\n",
              "      <td>45</td>\n",
              "      <td>NaN</td>\n",
              "    </tr>\n",
              "    <tr>\n",
              "      <th>4</th>\n",
              "      <td>2022-09-21T03:00:00Z</td>\n",
              "      <td>249th Meeting - September 20-21, 2022</td>\n",
              "      <td>NaN</td>\n",
              "      <td>banco central brasil focus may minutes th meet...</td>\n",
              "      <td>2000-04-19</td>\n",
              "      <td>18.5</td>\n",
              "      <td>incerto</td>\n",
              "      <td>46</td>\n",
              "      <td>NaN</td>\n",
              "    </tr>\n",
              "  </tbody>\n",
              "</table>\n",
              "</div>\n",
              "      <button class=\"colab-df-convert\" onclick=\"convertToInteractive('df-bed5b3bc-0746-4e1d-9c27-9fc220b6e8c2')\"\n",
              "              title=\"Convert this dataframe to an interactive table.\"\n",
              "              style=\"display:none;\">\n",
              "        \n",
              "  <svg xmlns=\"http://www.w3.org/2000/svg\" height=\"24px\"viewBox=\"0 0 24 24\"\n",
              "       width=\"24px\">\n",
              "    <path d=\"M0 0h24v24H0V0z\" fill=\"none\"/>\n",
              "    <path d=\"M18.56 5.44l.94 2.06.94-2.06 2.06-.94-2.06-.94-.94-2.06-.94 2.06-2.06.94zm-11 1L8.5 8.5l.94-2.06 2.06-.94-2.06-.94L8.5 2.5l-.94 2.06-2.06.94zm10 10l.94 2.06.94-2.06 2.06-.94-2.06-.94-.94-2.06-.94 2.06-2.06.94z\"/><path d=\"M17.41 7.96l-1.37-1.37c-.4-.4-.92-.59-1.43-.59-.52 0-1.04.2-1.43.59L10.3 9.45l-7.72 7.72c-.78.78-.78 2.05 0 2.83L4 21.41c.39.39.9.59 1.41.59.51 0 1.02-.2 1.41-.59l7.78-7.78 2.81-2.81c.8-.78.8-2.07 0-2.86zM5.41 20L4 18.59l7.72-7.72 1.47 1.35L5.41 20z\"/>\n",
              "  </svg>\n",
              "      </button>\n",
              "      \n",
              "  <style>\n",
              "    .colab-df-container {\n",
              "      display:flex;\n",
              "      flex-wrap:wrap;\n",
              "      gap: 12px;\n",
              "    }\n",
              "\n",
              "    .colab-df-convert {\n",
              "      background-color: #E8F0FE;\n",
              "      border: none;\n",
              "      border-radius: 50%;\n",
              "      cursor: pointer;\n",
              "      display: none;\n",
              "      fill: #1967D2;\n",
              "      height: 32px;\n",
              "      padding: 0 0 0 0;\n",
              "      width: 32px;\n",
              "    }\n",
              "\n",
              "    .colab-df-convert:hover {\n",
              "      background-color: #E2EBFA;\n",
              "      box-shadow: 0px 1px 2px rgba(60, 64, 67, 0.3), 0px 1px 3px 1px rgba(60, 64, 67, 0.15);\n",
              "      fill: #174EA6;\n",
              "    }\n",
              "\n",
              "    [theme=dark] .colab-df-convert {\n",
              "      background-color: #3B4455;\n",
              "      fill: #D2E3FC;\n",
              "    }\n",
              "\n",
              "    [theme=dark] .colab-df-convert:hover {\n",
              "      background-color: #434B5C;\n",
              "      box-shadow: 0px 1px 3px 1px rgba(0, 0, 0, 0.15);\n",
              "      filter: drop-shadow(0px 1px 2px rgba(0, 0, 0, 0.3));\n",
              "      fill: #FFFFFF;\n",
              "    }\n",
              "  </style>\n",
              "\n",
              "      <script>\n",
              "        const buttonEl =\n",
              "          document.querySelector('#df-bed5b3bc-0746-4e1d-9c27-9fc220b6e8c2 button.colab-df-convert');\n",
              "        buttonEl.style.display =\n",
              "          google.colab.kernel.accessAllowed ? 'block' : 'none';\n",
              "\n",
              "        async function convertToInteractive(key) {\n",
              "          const element = document.querySelector('#df-bed5b3bc-0746-4e1d-9c27-9fc220b6e8c2');\n",
              "          const dataTable =\n",
              "            await google.colab.kernel.invokeFunction('convertToInteractive',\n",
              "                                                     [key], {});\n",
              "          if (!dataTable) return;\n",
              "\n",
              "          const docLinkHtml = 'Like what you see? Visit the ' +\n",
              "            '<a target=\"_blank\" href=https://colab.research.google.com/notebooks/data_table.ipynb>data table notebook</a>'\n",
              "            + ' to learn more about interactive tables.';\n",
              "          element.innerHTML = '';\n",
              "          dataTable['output_type'] = 'display_data';\n",
              "          await google.colab.output.renderOutput(dataTable, element);\n",
              "          const docLink = document.createElement('div');\n",
              "          docLink.innerHTML = docLinkHtml;\n",
              "          element.appendChild(docLink);\n",
              "        }\n",
              "      </script>\n",
              "    </div>\n",
              "  </div>\n",
              "  "
            ]
          },
          "metadata": {},
          "execution_count": 34
        }
      ]
    },
    {
      "cell_type": "code",
      "source": [
        "from sklearn.feature_extraction.text import CountVectorizer\n",
        "from sklearn.svm import SVC\n",
        "\n",
        "# Pré-processamento dos dados de texto\n",
        "vectorizer = CountVectorizer()\n",
        "X_train = vectorizer.fit_transform(dados['texto'])\n",
        "\n",
        "# Inicializar o classificador SVM\n",
        "svm = SVC()\n",
        "\n",
        "# Treinar o classificador SVM com todos os dados\n",
        "svm.fit(X_train, dados['sentimento_ML_supervisionado'])\n",
        "\n",
        "# Pré-processar os dados de texto do DataFrame dados2\n",
        "X_new = vectorizer.transform(dados2['texto'])\n",
        "\n",
        "# Fazer previsões nos novos dados\n",
        "y_pred_new = svm.predict(X_new)\n",
        "\n",
        "# Adicionar as previsões como uma nova coluna no DataFrame dados2\n",
        "dados2['sentimento_generalizado'] = y_pred_new\n"
      ],
      "metadata": {
        "id": "YsH6H96DzsuY"
      },
      "execution_count": 35,
      "outputs": []
    },
    {
      "cell_type": "code",
      "source": [
        "dados2.head()"
      ],
      "metadata": {
        "colab": {
          "base_uri": "https://localhost:8080/",
          "height": 354
        },
        "id": "1VhSqGNsz4M9",
        "outputId": "f0686022-7e1b-45bb-82a8-6f94ce04129d"
      },
      "execution_count": 37,
      "outputs": [
        {
          "output_type": "execute_result",
          "data": {
            "text/plain": [
              "         DataReferencia                                         Titulo  \\\n",
              "0  2023-03-22T03:00:00Z              253rd Meeting - March 21-22, 2023   \n",
              "1  2023-02-01T03:00:00Z  252nd Meeting - January 31 - February 1, 2023   \n",
              "2  2022-12-07T03:00:00Z             251st Meeting - December 6-7, 2022   \n",
              "3  2022-10-26T03:00:00Z            250th Meeting - October 25-26, 2022   \n",
              "4  2022-09-21T03:00:00Z          249th Meeting - September 20-21, 2022   \n",
              "\n",
              "   Unnamed: 2                                              texto       data  \\\n",
              "0         NaN  banco central brasil focus february minutes nd... 2000-01-19   \n",
              "1         NaN   xppdu jjuhjdwhvxssodqgghpdqg whuqdohqylurqphq... 2000-02-16   \n",
              "2         NaN  banco central brasil focus march minutes th me...        NaT   \n",
              "3         NaN  banco central brasil focus march minutes th me... 2000-03-22   \n",
              "4         NaN  banco central brasil focus may minutes th meet... 2000-04-19   \n",
              "\n",
              "   Meta SELIC sentimento_taxa  ata  sentimento sentimento_generalizado  \n",
              "0        19.0         incerto   43         NaN                negativo  \n",
              "1        19.0         incerto   44         NaN                positivo  \n",
              "2        18.5        positivo   45         NaN                negativo  \n",
              "3        19.0         incerto   45         NaN                negativo  \n",
              "4        18.5         incerto   46         NaN                negativo  "
            ],
            "text/html": [
              "\n",
              "  <div id=\"df-8ceba0f3-040c-4326-b9ae-cf827c084de8\">\n",
              "    <div class=\"colab-df-container\">\n",
              "      <div>\n",
              "<style scoped>\n",
              "    .dataframe tbody tr th:only-of-type {\n",
              "        vertical-align: middle;\n",
              "    }\n",
              "\n",
              "    .dataframe tbody tr th {\n",
              "        vertical-align: top;\n",
              "    }\n",
              "\n",
              "    .dataframe thead th {\n",
              "        text-align: right;\n",
              "    }\n",
              "</style>\n",
              "<table border=\"1\" class=\"dataframe\">\n",
              "  <thead>\n",
              "    <tr style=\"text-align: right;\">\n",
              "      <th></th>\n",
              "      <th>DataReferencia</th>\n",
              "      <th>Titulo</th>\n",
              "      <th>Unnamed: 2</th>\n",
              "      <th>texto</th>\n",
              "      <th>data</th>\n",
              "      <th>Meta SELIC</th>\n",
              "      <th>sentimento_taxa</th>\n",
              "      <th>ata</th>\n",
              "      <th>sentimento</th>\n",
              "      <th>sentimento_generalizado</th>\n",
              "    </tr>\n",
              "  </thead>\n",
              "  <tbody>\n",
              "    <tr>\n",
              "      <th>0</th>\n",
              "      <td>2023-03-22T03:00:00Z</td>\n",
              "      <td>253rd Meeting - March 21-22, 2023</td>\n",
              "      <td>NaN</td>\n",
              "      <td>banco central brasil focus february minutes nd...</td>\n",
              "      <td>2000-01-19</td>\n",
              "      <td>19.0</td>\n",
              "      <td>incerto</td>\n",
              "      <td>43</td>\n",
              "      <td>NaN</td>\n",
              "      <td>negativo</td>\n",
              "    </tr>\n",
              "    <tr>\n",
              "      <th>1</th>\n",
              "      <td>2023-02-01T03:00:00Z</td>\n",
              "      <td>252nd Meeting - January 31 - February 1, 2023</td>\n",
              "      <td>NaN</td>\n",
              "      <td>xppdu jjuhjdwhvxssodqgghpdqg whuqdohqylurqphq...</td>\n",
              "      <td>2000-02-16</td>\n",
              "      <td>19.0</td>\n",
              "      <td>incerto</td>\n",
              "      <td>44</td>\n",
              "      <td>NaN</td>\n",
              "      <td>positivo</td>\n",
              "    </tr>\n",
              "    <tr>\n",
              "      <th>2</th>\n",
              "      <td>2022-12-07T03:00:00Z</td>\n",
              "      <td>251st Meeting - December 6-7, 2022</td>\n",
              "      <td>NaN</td>\n",
              "      <td>banco central brasil focus march minutes th me...</td>\n",
              "      <td>NaT</td>\n",
              "      <td>18.5</td>\n",
              "      <td>positivo</td>\n",
              "      <td>45</td>\n",
              "      <td>NaN</td>\n",
              "      <td>negativo</td>\n",
              "    </tr>\n",
              "    <tr>\n",
              "      <th>3</th>\n",
              "      <td>2022-10-26T03:00:00Z</td>\n",
              "      <td>250th Meeting - October 25-26, 2022</td>\n",
              "      <td>NaN</td>\n",
              "      <td>banco central brasil focus march minutes th me...</td>\n",
              "      <td>2000-03-22</td>\n",
              "      <td>19.0</td>\n",
              "      <td>incerto</td>\n",
              "      <td>45</td>\n",
              "      <td>NaN</td>\n",
              "      <td>negativo</td>\n",
              "    </tr>\n",
              "    <tr>\n",
              "      <th>4</th>\n",
              "      <td>2022-09-21T03:00:00Z</td>\n",
              "      <td>249th Meeting - September 20-21, 2022</td>\n",
              "      <td>NaN</td>\n",
              "      <td>banco central brasil focus may minutes th meet...</td>\n",
              "      <td>2000-04-19</td>\n",
              "      <td>18.5</td>\n",
              "      <td>incerto</td>\n",
              "      <td>46</td>\n",
              "      <td>NaN</td>\n",
              "      <td>negativo</td>\n",
              "    </tr>\n",
              "  </tbody>\n",
              "</table>\n",
              "</div>\n",
              "      <button class=\"colab-df-convert\" onclick=\"convertToInteractive('df-8ceba0f3-040c-4326-b9ae-cf827c084de8')\"\n",
              "              title=\"Convert this dataframe to an interactive table.\"\n",
              "              style=\"display:none;\">\n",
              "        \n",
              "  <svg xmlns=\"http://www.w3.org/2000/svg\" height=\"24px\"viewBox=\"0 0 24 24\"\n",
              "       width=\"24px\">\n",
              "    <path d=\"M0 0h24v24H0V0z\" fill=\"none\"/>\n",
              "    <path d=\"M18.56 5.44l.94 2.06.94-2.06 2.06-.94-2.06-.94-.94-2.06-.94 2.06-2.06.94zm-11 1L8.5 8.5l.94-2.06 2.06-.94-2.06-.94L8.5 2.5l-.94 2.06-2.06.94zm10 10l.94 2.06.94-2.06 2.06-.94-2.06-.94-.94-2.06-.94 2.06-2.06.94z\"/><path d=\"M17.41 7.96l-1.37-1.37c-.4-.4-.92-.59-1.43-.59-.52 0-1.04.2-1.43.59L10.3 9.45l-7.72 7.72c-.78.78-.78 2.05 0 2.83L4 21.41c.39.39.9.59 1.41.59.51 0 1.02-.2 1.41-.59l7.78-7.78 2.81-2.81c.8-.78.8-2.07 0-2.86zM5.41 20L4 18.59l7.72-7.72 1.47 1.35L5.41 20z\"/>\n",
              "  </svg>\n",
              "      </button>\n",
              "      \n",
              "  <style>\n",
              "    .colab-df-container {\n",
              "      display:flex;\n",
              "      flex-wrap:wrap;\n",
              "      gap: 12px;\n",
              "    }\n",
              "\n",
              "    .colab-df-convert {\n",
              "      background-color: #E8F0FE;\n",
              "      border: none;\n",
              "      border-radius: 50%;\n",
              "      cursor: pointer;\n",
              "      display: none;\n",
              "      fill: #1967D2;\n",
              "      height: 32px;\n",
              "      padding: 0 0 0 0;\n",
              "      width: 32px;\n",
              "    }\n",
              "\n",
              "    .colab-df-convert:hover {\n",
              "      background-color: #E2EBFA;\n",
              "      box-shadow: 0px 1px 2px rgba(60, 64, 67, 0.3), 0px 1px 3px 1px rgba(60, 64, 67, 0.15);\n",
              "      fill: #174EA6;\n",
              "    }\n",
              "\n",
              "    [theme=dark] .colab-df-convert {\n",
              "      background-color: #3B4455;\n",
              "      fill: #D2E3FC;\n",
              "    }\n",
              "\n",
              "    [theme=dark] .colab-df-convert:hover {\n",
              "      background-color: #434B5C;\n",
              "      box-shadow: 0px 1px 3px 1px rgba(0, 0, 0, 0.15);\n",
              "      filter: drop-shadow(0px 1px 2px rgba(0, 0, 0, 0.3));\n",
              "      fill: #FFFFFF;\n",
              "    }\n",
              "  </style>\n",
              "\n",
              "      <script>\n",
              "        const buttonEl =\n",
              "          document.querySelector('#df-8ceba0f3-040c-4326-b9ae-cf827c084de8 button.colab-df-convert');\n",
              "        buttonEl.style.display =\n",
              "          google.colab.kernel.accessAllowed ? 'block' : 'none';\n",
              "\n",
              "        async function convertToInteractive(key) {\n",
              "          const element = document.querySelector('#df-8ceba0f3-040c-4326-b9ae-cf827c084de8');\n",
              "          const dataTable =\n",
              "            await google.colab.kernel.invokeFunction('convertToInteractive',\n",
              "                                                     [key], {});\n",
              "          if (!dataTable) return;\n",
              "\n",
              "          const docLinkHtml = 'Like what you see? Visit the ' +\n",
              "            '<a target=\"_blank\" href=https://colab.research.google.com/notebooks/data_table.ipynb>data table notebook</a>'\n",
              "            + ' to learn more about interactive tables.';\n",
              "          element.innerHTML = '';\n",
              "          dataTable['output_type'] = 'display_data';\n",
              "          await google.colab.output.renderOutput(dataTable, element);\n",
              "          const docLink = document.createElement('div');\n",
              "          docLink.innerHTML = docLinkHtml;\n",
              "          element.appendChild(docLink);\n",
              "        }\n",
              "      </script>\n",
              "    </div>\n",
              "  </div>\n",
              "  "
            ]
          },
          "metadata": {},
          "execution_count": 37
        }
      ]
    }
  ]
}