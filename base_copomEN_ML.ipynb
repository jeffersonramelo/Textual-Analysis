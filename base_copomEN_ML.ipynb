{
  "nbformat": 4,
  "nbformat_minor": 0,
  "metadata": {
    "colab": {
      "provenance": [],
      "authorship_tag": "ABX9TyNd484aaRYfR1iEEpE7xAbY",
      "include_colab_link": true
    },
    "kernelspec": {
      "name": "python3",
      "display_name": "Python 3"
    },
    "language_info": {
      "name": "python"
    }
  },
  "cells": [
    {
      "cell_type": "markdown",
      "metadata": {
        "id": "view-in-github",
        "colab_type": "text"
      },
      "source": [
        "<a href=\"https://colab.research.google.com/github/jeffersonramelo/Textual-Analysis/blob/main/base_copomEN_ML.ipynb\" target=\"_parent\"><img src=\"https://colab.research.google.com/assets/colab-badge.svg\" alt=\"Open In Colab\"/></a>"
      ]
    },
    {
      "cell_type": "code",
      "source": [
        "import pandas as pd\n",
        "# Ler o arquivo XLSX\n",
        "dados = pd.read_excel('/content/atas_ML_supervisionado_texto.xlsx')"
      ],
      "metadata": {
        "id": "c2mDZfX7YWnV"
      },
      "execution_count": null,
      "outputs": []
    },
    {
      "cell_type": "code",
      "source": [
        "#vizualizar dados\n",
        "dados.head()"
      ],
      "metadata": {
        "id": "wqgE3so93YYp",
        "colab": {
          "base_uri": "https://localhost:8080/",
          "height": 206
        },
        "outputId": "aedafc9c-5259-496a-9e5b-bb8e29c20fee"
      },
      "execution_count": null,
      "outputs": [
        {
          "output_type": "execute_result",
          "data": {
            "text/plain": [
              "         DataReferencia                            Titulo  Unnamed: 2  \\\n",
              "0  2023-05-03T03:00:00Z     254th Meeting - May 2-3, 2023         NaN   \n",
              "1  2020-08-05T03:00:00Z  232nd Meeting – August 4-5, 2020         NaN   \n",
              "2  2016-05-11T14:59:38Z               198th Copom Minutes         NaN   \n",
              "3  2015-11-25T02:00:00Z               195th Copom Minutes         NaN   \n",
              "4  2014-12-17T19:19:49Z               187th Copom Minutes         NaN   \n",
              "\n",
              "                                               texto       data  Meta SELIC  \\\n",
              "0  banco central brasil focus january minutes nd ... 1999-12-15       19.00   \n",
              "1  september minutes nd meeting banco central bra... 2001-08-22       19.00   \n",
              "2  minutes th meeting monetary policy committee c... 2004-09-15       16.25   \n",
              "3  minutes th meeting monetary policy committee c... 2005-05-18       19.75   \n",
              "4  minutes th meeting monetary policy committee c... 2006-03-08       16.50   \n",
              "\n",
              "  sentimento_taxa  ata sentimento  \n",
              "0         incerto   42   negativo  \n",
              "1         incerto   62   negativo  \n",
              "2        negativo  100   negativo  \n",
              "3        negativo  108   negativo  \n",
              "4        positivo  117   negativo  "
            ],
            "text/html": [
              "\n",
              "  <div id=\"df-eaf81065-9bc1-4c6f-a72f-31ccef85bcf2\">\n",
              "    <div class=\"colab-df-container\">\n",
              "      <div>\n",
              "<style scoped>\n",
              "    .dataframe tbody tr th:only-of-type {\n",
              "        vertical-align: middle;\n",
              "    }\n",
              "\n",
              "    .dataframe tbody tr th {\n",
              "        vertical-align: top;\n",
              "    }\n",
              "\n",
              "    .dataframe thead th {\n",
              "        text-align: right;\n",
              "    }\n",
              "</style>\n",
              "<table border=\"1\" class=\"dataframe\">\n",
              "  <thead>\n",
              "    <tr style=\"text-align: right;\">\n",
              "      <th></th>\n",
              "      <th>DataReferencia</th>\n",
              "      <th>Titulo</th>\n",
              "      <th>Unnamed: 2</th>\n",
              "      <th>texto</th>\n",
              "      <th>data</th>\n",
              "      <th>Meta SELIC</th>\n",
              "      <th>sentimento_taxa</th>\n",
              "      <th>ata</th>\n",
              "      <th>sentimento</th>\n",
              "    </tr>\n",
              "  </thead>\n",
              "  <tbody>\n",
              "    <tr>\n",
              "      <th>0</th>\n",
              "      <td>2023-05-03T03:00:00Z</td>\n",
              "      <td>254th Meeting - May 2-3, 2023</td>\n",
              "      <td>NaN</td>\n",
              "      <td>banco central brasil focus january minutes nd ...</td>\n",
              "      <td>1999-12-15</td>\n",
              "      <td>19.00</td>\n",
              "      <td>incerto</td>\n",
              "      <td>42</td>\n",
              "      <td>negativo</td>\n",
              "    </tr>\n",
              "    <tr>\n",
              "      <th>1</th>\n",
              "      <td>2020-08-05T03:00:00Z</td>\n",
              "      <td>232nd Meeting – August 4-5, 2020</td>\n",
              "      <td>NaN</td>\n",
              "      <td>september minutes nd meeting banco central bra...</td>\n",
              "      <td>2001-08-22</td>\n",
              "      <td>19.00</td>\n",
              "      <td>incerto</td>\n",
              "      <td>62</td>\n",
              "      <td>negativo</td>\n",
              "    </tr>\n",
              "    <tr>\n",
              "      <th>2</th>\n",
              "      <td>2016-05-11T14:59:38Z</td>\n",
              "      <td>198th Copom Minutes</td>\n",
              "      <td>NaN</td>\n",
              "      <td>minutes th meeting monetary policy committee c...</td>\n",
              "      <td>2004-09-15</td>\n",
              "      <td>16.25</td>\n",
              "      <td>negativo</td>\n",
              "      <td>100</td>\n",
              "      <td>negativo</td>\n",
              "    </tr>\n",
              "    <tr>\n",
              "      <th>3</th>\n",
              "      <td>2015-11-25T02:00:00Z</td>\n",
              "      <td>195th Copom Minutes</td>\n",
              "      <td>NaN</td>\n",
              "      <td>minutes th meeting monetary policy committee c...</td>\n",
              "      <td>2005-05-18</td>\n",
              "      <td>19.75</td>\n",
              "      <td>negativo</td>\n",
              "      <td>108</td>\n",
              "      <td>negativo</td>\n",
              "    </tr>\n",
              "    <tr>\n",
              "      <th>4</th>\n",
              "      <td>2014-12-17T19:19:49Z</td>\n",
              "      <td>187th Copom Minutes</td>\n",
              "      <td>NaN</td>\n",
              "      <td>minutes th meeting monetary policy committee c...</td>\n",
              "      <td>2006-03-08</td>\n",
              "      <td>16.50</td>\n",
              "      <td>positivo</td>\n",
              "      <td>117</td>\n",
              "      <td>negativo</td>\n",
              "    </tr>\n",
              "  </tbody>\n",
              "</table>\n",
              "</div>\n",
              "      <button class=\"colab-df-convert\" onclick=\"convertToInteractive('df-eaf81065-9bc1-4c6f-a72f-31ccef85bcf2')\"\n",
              "              title=\"Convert this dataframe to an interactive table.\"\n",
              "              style=\"display:none;\">\n",
              "        \n",
              "  <svg xmlns=\"http://www.w3.org/2000/svg\" height=\"24px\"viewBox=\"0 0 24 24\"\n",
              "       width=\"24px\">\n",
              "    <path d=\"M0 0h24v24H0V0z\" fill=\"none\"/>\n",
              "    <path d=\"M18.56 5.44l.94 2.06.94-2.06 2.06-.94-2.06-.94-.94-2.06-.94 2.06-2.06.94zm-11 1L8.5 8.5l.94-2.06 2.06-.94-2.06-.94L8.5 2.5l-.94 2.06-2.06.94zm10 10l.94 2.06.94-2.06 2.06-.94-2.06-.94-.94-2.06-.94 2.06-2.06.94z\"/><path d=\"M17.41 7.96l-1.37-1.37c-.4-.4-.92-.59-1.43-.59-.52 0-1.04.2-1.43.59L10.3 9.45l-7.72 7.72c-.78.78-.78 2.05 0 2.83L4 21.41c.39.39.9.59 1.41.59.51 0 1.02-.2 1.41-.59l7.78-7.78 2.81-2.81c.8-.78.8-2.07 0-2.86zM5.41 20L4 18.59l7.72-7.72 1.47 1.35L5.41 20z\"/>\n",
              "  </svg>\n",
              "      </button>\n",
              "      \n",
              "  <style>\n",
              "    .colab-df-container {\n",
              "      display:flex;\n",
              "      flex-wrap:wrap;\n",
              "      gap: 12px;\n",
              "    }\n",
              "\n",
              "    .colab-df-convert {\n",
              "      background-color: #E8F0FE;\n",
              "      border: none;\n",
              "      border-radius: 50%;\n",
              "      cursor: pointer;\n",
              "      display: none;\n",
              "      fill: #1967D2;\n",
              "      height: 32px;\n",
              "      padding: 0 0 0 0;\n",
              "      width: 32px;\n",
              "    }\n",
              "\n",
              "    .colab-df-convert:hover {\n",
              "      background-color: #E2EBFA;\n",
              "      box-shadow: 0px 1px 2px rgba(60, 64, 67, 0.3), 0px 1px 3px 1px rgba(60, 64, 67, 0.15);\n",
              "      fill: #174EA6;\n",
              "    }\n",
              "\n",
              "    [theme=dark] .colab-df-convert {\n",
              "      background-color: #3B4455;\n",
              "      fill: #D2E3FC;\n",
              "    }\n",
              "\n",
              "    [theme=dark] .colab-df-convert:hover {\n",
              "      background-color: #434B5C;\n",
              "      box-shadow: 0px 1px 3px 1px rgba(0, 0, 0, 0.15);\n",
              "      filter: drop-shadow(0px 1px 2px rgba(0, 0, 0, 0.3));\n",
              "      fill: #FFFFFF;\n",
              "    }\n",
              "  </style>\n",
              "\n",
              "      <script>\n",
              "        const buttonEl =\n",
              "          document.querySelector('#df-eaf81065-9bc1-4c6f-a72f-31ccef85bcf2 button.colab-df-convert');\n",
              "        buttonEl.style.display =\n",
              "          google.colab.kernel.accessAllowed ? 'block' : 'none';\n",
              "\n",
              "        async function convertToInteractive(key) {\n",
              "          const element = document.querySelector('#df-eaf81065-9bc1-4c6f-a72f-31ccef85bcf2');\n",
              "          const dataTable =\n",
              "            await google.colab.kernel.invokeFunction('convertToInteractive',\n",
              "                                                     [key], {});\n",
              "          if (!dataTable) return;\n",
              "\n",
              "          const docLinkHtml = 'Like what you see? Visit the ' +\n",
              "            '<a target=\"_blank\" href=https://colab.research.google.com/notebooks/data_table.ipynb>data table notebook</a>'\n",
              "            + ' to learn more about interactive tables.';\n",
              "          element.innerHTML = '';\n",
              "          dataTable['output_type'] = 'display_data';\n",
              "          await google.colab.output.renderOutput(dataTable, element);\n",
              "          const docLink = document.createElement('div');\n",
              "          docLink.innerHTML = docLinkHtml;\n",
              "          element.appendChild(docLink);\n",
              "        }\n",
              "      </script>\n",
              "    </div>\n",
              "  </div>\n",
              "  "
            ]
          },
          "metadata": {},
          "execution_count": 26
        }
      ]
    },
    {
      "cell_type": "code",
      "source": [
        "#quantos dados positivo e negativos?\n",
        "dados.sentimento_ML_supervisionado.value_counts()"
      ],
      "metadata": {
        "colab": {
          "base_uri": "https://localhost:8080/"
        },
        "id": "Jy90HFtf3Hzv",
        "outputId": "b163664d-5390-4da6-e9ce-a1dadd3e8049"
      },
      "execution_count": null,
      "outputs": [
        {
          "output_type": "execute_result",
          "data": {
            "text/plain": [
              "negativo    16\n",
              "positivo    14\n",
              "Name: sentimento_ML_supervisionado, dtype: int64"
            ]
          },
          "metadata": {},
          "execution_count": 3
        }
      ]
    },
    {
      "cell_type": "code",
      "source": [
        "# Acessar os textos contidos nas celulas, só substituir o número da celula que deseja vizualizar\n",
        "celula = dados.loc[10, 'texto']\n",
        "\n",
        "# Imprimir o conteúdo da célula\n",
        "print(celula)\n"
      ],
      "metadata": {
        "colab": {
          "base_uri": "https://localhost:8080/"
        },
        "id": "dNLlKhMh35qO",
        "outputId": "d5b3b6c4-dc6f-4f25-c81b-358a3b94e415"
      },
      "execution_count": null,
      "outputs": [
        {
          "output_type": "stream",
          "name": "stdout",
          "text": [
            " minutes meeting monetary policy committee  summary recent economic develoents assessment inflation tres decision st  april  th place  headquarters rooms floor  df atteance members alexare antonio tombini governor aldo luiz mees altamir lopes anthero de moraes meirelles carlos hamilton vasconcelos araújo awazu pereira da silva edson feltrim sidnei corrêa marques department heads present aré barbosa coutinho investor relations special studies ariosto revoredo carvalho foreign reserves bruno walter coelho saraiva international affairs daso maranhão coimbra banking operations payments system eduardo josé lima research also joão henrique paula freitas simão open market tulio lenti maciel participants gustavo paul kurrle press officer otávio ribeiro damaso chief s staff analyzed performance prospects brazilian economy framework designed comply targets established government monthly measured exteed consumer price iex ipca changed february percentage points pp one recorded january consequence twelve months decreased prices regulated among tradable goods increased nontradable turn food beverages group impacted weather coitions period services rose short available information suggest persistence partially reflects dynamics sector average uerlying measures calculated twelvemonth trailing basis reached registered specifically double weight core exclusion household nonsmoothed trimmed means excludes ten items fuels smoothed diffusion stood general igpdi increasing month main component iicator wholesale ipa increase agricultural products iustrial ipc seco important civil construction national incc lowest driven pressures stemming labor cost producermanufacturing iustry ippit institute geography statistics ibge considers effects behavior will depe current prospective dema setters expectations regarding future path activity ir incorporates estimate production three sectors well taxes constitutes coincident seasonally adjusted monthonmonth yearoveryear composite purchasing managers i brazil pointed acceleration expansion manufacturing confidence icc getúlio vargas fouation fgv virtually unchanged febuary march remains historical ha businessmen ici level since june third fall year consecutive ics retreated agriculture systematic lspa carried iicates grains expected grow relative harvest gdp fourth quarter decreasing previous according data expaed compared thus aggregate perspective consumption quarteroverquarter representing fortyfirst comparison margin last fixed capital gross formation fbcf series released grew interrupting two negative rates december highlight automotive vehicles positive result maintained improvement productive pace expressed immediate widespread profile surveyed activities little amount new orders confederation cni real revenue use categories durable digits interannual semi nourable intermediate respectively growth accumulated expansions retreats employment survey e covering six metropolitan areas unemployment rate without seasonal adjustment record low beginning represents reduction observed still income payroll ministry mte show thousa formal jobs created net creation iicate narrow idleness although signs moderation retail c sales volume broad includes inputs onmonth changes eight segments trade icom mainly due perception situation evaluates trajectory continue influenced governmental transfers moderate credit installed capacity utilization nuci absorption balance us billion stemmed exports imports advances account deficit equivalent direct investment totaled global leading iicators signal line advanced emerging economies europe despite improvements high coupled fiscal consolidation political uncertainties constitute elements constraining investments however deceleration federal reserve continued process gradual assets purchase program accommodative stances prevail less expansionist cases contractionist levels euro zone japan brent oil barrel remained near bears highlighting geopolitical complexity involves tes heighten volatile predictability components depeency supply long term risky projects commodities metals organization united nations fao identified shocks impacts reassessed set projected considered projection gasoline bottled gas assumptions stability telephone tariffs electricity iividually others projections based eogenous determination models compute factors igp change spreads selic day swap baseline scenario point bps quarters structural primary surplus derives trajectories parameters budget guidelines law ldo therefore given impulse correspos variation median compiled gerin assumes maintenance exchange rus pa forecast value midpoint target council cmn collected immediately prior scenarios stas emphasizes evidence ratified experience generate distortions lead higher risks depress manifested example shortening planning horizons households companies governments deterioration reduce power wages repercussions potential generation view contribute favorable longerterm macroeconomic environment respect reassures targeting regime guides decisions analysis alternative evolution variables determine uerstas run te headline facilitate authority help coordination agents particularly additionally noteworthy intensify actions enabling affect longlasting manner recognizes may influence reaffirms responsibility remain especially vigilant guarantee detected shorter spread longer financial derived yield curve slope major identifying probability occurrence extreme events markets external complex recently intense throughout relevant horizon fact including countries area space limited restraint prevails upcoming years matched resilience domestic highlights localized currency tension volatility relatively stable composition notes expas though converging benefited public concession related permission exploration context growing albeit gain momentum greater combined depreciation contributes make focusing side competitiveness considering lower plausible claim terms qualification force reflected efficient allocation productivity gains speed materialization aforementioned resulting depes strengthening observes assumed arising shifts neutral surpluses working hypotheses mismatch create medium emphasized close generated debt financing impact stimulate private opportune initiatives aim moderating concessions subsidies circumstances significant risk stems possibility increases incompatible minimum wage consistent estimated originating inflationary semesters enable natural correction movements local extent reflect transition towards normality dimensions liquidity interest accomodation source pressure periods manifest fresh segment added principle stem temporary shock revert resistance way slightly anticipated informal iexation mechanisms included damage cause decisionmaking committees necessary promptness reverted appropriate adjust unanimously decided moment bias monitor next defines steps strategy following voted robust expaing stimulus broadening quasi parts taken aiming ensure timely convergence infers cycle outlook come anticipate impulses introduced usually propagated transmission channels sense cumulative lags part response tightening materialize moreover presence modest intensified moments order minimize persist e announced reconvene technical presentations discuss communiqué \n"
          ]
        }
      ]
    },
    {
      "cell_type": "markdown",
      "source": [
        "Excluir termos que não tem relação com sentimento"
      ],
      "metadata": {
        "id": "2xZFF5gC12CX"
      }
    },
    {
      "cell_type": "code",
      "source": [
        "# Importar a biblioteca pandas\n",
        "import pandas as pd\n",
        "\n",
        "# Lista de termos a serem excluídos\n",
        "termos_excluir = ['nd', 'copom', 'bcb', 'brasília', 'pm', 'date']\n",
        "\n",
        "# Substituir os termos na coluna 'texto'\n",
        "dados['texto'] = dados['texto'].str.replace('|'.join(termos_excluir), '', regex=True)\n"
      ],
      "metadata": {
        "id": "R0YmdAWL1oOP"
      },
      "execution_count": null,
      "outputs": []
    },
    {
      "cell_type": "code",
      "source": [
        "pip install scikit-learn"
      ],
      "metadata": {
        "colab": {
          "base_uri": "https://localhost:8080/"
        },
        "id": "2P7uAxFxvTPV",
        "outputId": "b2280bb8-238f-4a29-c5f1-109ea3c04d8c"
      },
      "execution_count": null,
      "outputs": [
        {
          "output_type": "stream",
          "name": "stdout",
          "text": [
            "Looking in indexes: https://pypi.org/simple, https://us-python.pkg.dev/colab-wheels/public/simple/\n",
            "Requirement already satisfied: scikit-learn in /usr/local/lib/python3.10/dist-packages (1.2.2)\n",
            "Requirement already satisfied: numpy>=1.17.3 in /usr/local/lib/python3.10/dist-packages (from scikit-learn) (1.22.4)\n",
            "Requirement already satisfied: scipy>=1.3.2 in /usr/local/lib/python3.10/dist-packages (from scikit-learn) (1.10.1)\n",
            "Requirement already satisfied: joblib>=1.1.1 in /usr/local/lib/python3.10/dist-packages (from scikit-learn) (1.2.0)\n",
            "Requirement already satisfied: threadpoolctl>=2.0.0 in /usr/local/lib/python3.10/dist-packages (from scikit-learn) (3.1.0)\n"
          ]
        }
      ]
    },
    {
      "cell_type": "markdown",
      "source": [
        "Naive Bayes"
      ],
      "metadata": {
        "id": "FcplM6PyesNu"
      }
    },
    {
      "cell_type": "code",
      "source": [
        "from sklearn.model_selection import train_test_split, cross_val_score\n",
        "from sklearn.feature_extraction.text import CountVectorizer\n",
        "from sklearn.naive_bayes import MultinomialNB, GaussianNB, BernoulliNB\n",
        "from sklearn.metrics import confusion_matrix, accuracy_score\n",
        "\n",
        "# Dividir o DataFrame em dados de treinamento e teste\n",
        "X = dados['texto']\n",
        "y = dados['sentimento']\n",
        "X_train, X_test, y_train, y_test = train_test_split(X, y, test_size=0.2, random_state=42)\n",
        "\n",
        "# Pré-processamento dos dados de texto\n",
        "vectorizer = CountVectorizer()\n",
        "X_train = vectorizer.fit_transform(X_train)\n",
        "X_test = vectorizer.transform(X_test)\n",
        "\n",
        "# Inicializar os classificadores\n",
        "mnb = MultinomialNB()\n",
        "gnb = GaussianNB()\n",
        "bnb = BernoulliNB()\n",
        "\n",
        "# Realizar validação cruzada nos classificadores\n",
        "cv_scores_mnb = cross_val_score(mnb, X_train, y_train, cv=5)\n",
        "cv_scores_gnb = cross_val_score(gnb, X_train.toarray(), y_train, cv=5)\n",
        "cv_scores_bnb = cross_val_score(bnb, X_train, y_train, cv=5)\n",
        "\n",
        "# Treinar os classificadores nos dados de treinamento completos\n",
        "mnb.fit(X_train, y_train)\n",
        "gnb.fit(X_train.toarray(), y_train)\n",
        "bnb.fit(X_train, y_train)\n",
        "\n",
        "# Fazer previsões nos dados de teste\n",
        "y_pred_mnb = mnb.predict(X_test)\n",
        "y_pred_gnb = gnb.predict(X_test.toarray())\n",
        "y_pred_bnb = bnb.predict(X_test)\n",
        "\n",
        "\n"
      ],
      "metadata": {
        "id": "G7zANSB0vkJV"
      },
      "execution_count": null,
      "outputs": []
    },
    {
      "cell_type": "code",
      "source": [
        "# Calcular a matriz de confusão\n",
        "confusion_mnb = confusion_matrix(y_test, y_pred_mnb)\n",
        "print(\"confusion_mnb\", confusion_mnb)\n",
        "confusion_gnb = confusion_matrix(y_test, y_pred_gnb)\n",
        "print(\"confusion_gnb\", confusion_gnb)\n",
        "confusion_bnb = confusion_matrix(y_test, y_pred_bnb)\n",
        "print(\"confusion_bnb\", confusion_bnb)"
      ],
      "metadata": {
        "colab": {
          "base_uri": "https://localhost:8080/"
        },
        "id": "W7kUc7UYv4lU",
        "outputId": "4133622e-7f7d-4c34-c344-ea541a0e06ee"
      },
      "execution_count": null,
      "outputs": [
        {
          "output_type": "stream",
          "name": "stdout",
          "text": [
            "confusion_mnb [[1 2]\n",
            " [1 2]]\n",
            "confusion_gnb [[3 0]\n",
            " [3 0]]\n",
            "confusion_bnb [[1 2]\n",
            " [1 2]]\n"
          ]
        }
      ]
    },
    {
      "cell_type": "code",
      "source": [
        "# Avaliar o desempenho dos classificadores com a métrica de acurácia\n",
        "accuracy_mnb = accuracy_score(y_test, y_pred_mnb)\n",
        "print(\"accuracy_mnb\", accuracy_mnb)\n",
        "accuracy_gnb = accuracy_score(y_test, y_pred_gnb)\n",
        "print(\"accuracy_gnb\", accuracy_gnb)\n",
        "accuracy_bnb = accuracy_score(y_test, y_pred_bnb)\n",
        "print(\"accuracy_bnb\", accuracy_bnb)"
      ],
      "metadata": {
        "colab": {
          "base_uri": "https://localhost:8080/"
        },
        "id": "CBCe0CFGvrsF",
        "outputId": "b2646feb-d95a-480c-98a4-42f511511499"
      },
      "execution_count": null,
      "outputs": [
        {
          "output_type": "stream",
          "name": "stdout",
          "text": [
            "accuracy_mnb 0.5\n",
            "accuracy_gnb 0.5\n",
            "accuracy_bnb 0.5\n"
          ]
        }
      ]
    },
    {
      "cell_type": "markdown",
      "source": [
        "Suporte Vector Machine"
      ],
      "metadata": {
        "id": "tq7eIu4aeQ0m"
      }
    },
    {
      "cell_type": "code",
      "source": [
        "from sklearn.svm import SVC\n",
        "\n",
        "# Dividir o DataFrame em dados de treinamento e teste\n",
        "X = dados['texto']\n",
        "y = dados['sentimento']\n",
        "X_train, X_test, y_train, y_test = train_test_split(X, y, test_size=0.2, random_state=42)\n",
        "\n",
        "# Pré-processamento dos dados de texto\n",
        "vectorizer = CountVectorizer()\n",
        "X_train = vectorizer.fit_transform(X_train)\n",
        "X_test = vectorizer.transform(X_test)\n",
        "\n",
        "# Inicializar o classificador SVM\n",
        "svm = SVC()\n",
        "\n",
        "# Treinar o classificador SVM\n",
        "svm.fit(X_train, y_train)\n",
        "\n",
        "# Fazer previsões nos dados de teste\n",
        "y_pred_svm = svm.predict(X_test)\n",
        "\n",
        "# Gerar a matriz de confusão\n",
        "confusion_mtx_svm = confusion_matrix(y_test, y_pred_svm)\n",
        "\n",
        "print(\"Matriz de Confusão - SVM:\")\n",
        "print(confusion_mtx_svm)\n",
        "\n",
        "# Calcular a acurácia do modelo SVM\n",
        "accuracy_svm = accuracy_score(y_test, y_pred_svm)\n",
        "\n",
        "print(\"Acurácia - SVM:\", accuracy_svm)\n"
      ],
      "metadata": {
        "colab": {
          "base_uri": "https://localhost:8080/"
        },
        "id": "MDZ-zWj0dklL",
        "outputId": "20e0e227-9e99-4e20-e434-2de0f15c3912"
      },
      "execution_count": null,
      "outputs": [
        {
          "output_type": "stream",
          "name": "stdout",
          "text": [
            "Matriz de Confusão - SVM:\n",
            "[[3 0]\n",
            " [1 2]]\n",
            "Acurácia - SVM: 0.8333333333333334\n"
          ]
        }
      ]
    },
    {
      "cell_type": "markdown",
      "source": [
        "Redes Neurais\n",
        "\n",
        "A rede neural utilizada no exemplo é um Perceptron de Múltiplas Camadas (Multilayer Perceptron, MLP). O MLP é uma arquitetura de rede neural artificial que consiste em várias camadas de neurônios, incluindo uma camada de entrada, uma ou mais camadas ocultas e uma camada de saída. Cada neurônio em uma camada está conectado a todos os neurônios na camada seguinte, formando uma rede densamente conectada."
      ],
      "metadata": {
        "id": "lhqBzsyQe9DX"
      }
    },
    {
      "cell_type": "code",
      "source": [
        "from sklearn.neural_network import MLPClassifier\n",
        "\n",
        "# Dividir o DataFrame em dados de treinamento e teste\n",
        "X = dados['texto']\n",
        "y = dados['sentimento']\n",
        "X_train, X_test, y_train, y_test = train_test_split(X, y, test_size=0.2, random_state=42)\n",
        "\n",
        "# Pré-processamento dos dados de texto\n",
        "vectorizer = CountVectorizer()\n",
        "X_train = vectorizer.fit_transform(X_train)\n",
        "X_test = vectorizer.transform(X_test)\n",
        "\n",
        "# Inicializar o classificador MLP\n",
        "mlp = MLPClassifier(hidden_layer_sizes=(100,), random_state=42)\n",
        "\n",
        "# Treinar o classificador MLP\n",
        "mlp.fit(X_train, y_train)\n",
        "\n",
        "# Fazer previsões nos dados de teste\n",
        "y_pred_mlp = mlp.predict(X_test)\n",
        "\n",
        "# Gerar a matriz de confusão\n",
        "confusion_mtx_mlp = confusion_matrix(y_test, y_pred_mlp)\n",
        "\n",
        "print(\"Matriz de Confusão - MLP:\")\n",
        "print(confusion_mtx_mlp)\n",
        "\n",
        "# Calcular a acurácia do modelo MLP\n",
        "accuracy_mlp = accuracy_score(y_test, y_pred_mlp)\n",
        "\n",
        "print(\"Acurácia - MLP:\", accuracy_mlp)\n"
      ],
      "metadata": {
        "colab": {
          "base_uri": "https://localhost:8080/"
        },
        "id": "VeSoVTuwe-4D",
        "outputId": "e1ae6363-653a-4d5e-9cda-4b54404ae42f"
      },
      "execution_count": null,
      "outputs": [
        {
          "output_type": "stream",
          "name": "stdout",
          "text": [
            "Matriz de Confusão - MLP:\n",
            "[[2 1]\n",
            " [1 2]]\n",
            "Acurácia - MLP: 0.6666666666666666\n"
          ]
        }
      ]
    },
    {
      "cell_type": "markdown",
      "source": [
        "suponha que o melhor algoritmo foi o SMV, vamos generalizar para a nova base de dados"
      ],
      "metadata": {
        "id": "Mu47z0YjyYTH"
      }
    },
    {
      "cell_type": "code",
      "source": [
        "# Ler o arquivo XLSX\n",
        "dados2 = pd.read_excel('/content/atas_ML_supervisionado_texto_generalizar.xlsx')"
      ],
      "metadata": {
        "id": "_BLinkyyyXNt"
      },
      "execution_count": null,
      "outputs": []
    },
    {
      "cell_type": "code",
      "source": [
        "dados2.head()"
      ],
      "metadata": {
        "colab": {
          "base_uri": "https://localhost:8080/",
          "height": 206
        },
        "id": "tx99g51Zy1yd",
        "outputId": "9ea45108-2260-4e58-bd14-a59968535205"
      },
      "execution_count": null,
      "outputs": [
        {
          "output_type": "execute_result",
          "data": {
            "text/plain": [
              "         DataReferencia                                         Titulo  \\\n",
              "0  2023-03-22T03:00:00Z              253rd Meeting - March 21-22, 2023   \n",
              "1  2023-02-01T03:00:00Z  252nd Meeting - January 31 - February 1, 2023   \n",
              "2  2022-12-07T03:00:00Z             251st Meeting - December 6-7, 2022   \n",
              "3  2022-10-26T03:00:00Z            250th Meeting - October 25-26, 2022   \n",
              "4  2022-09-21T03:00:00Z          249th Meeting - September 20-21, 2022   \n",
              "\n",
              "   Unnamed: 2                                              texto       data  \\\n",
              "0         NaN  banco central brasil focus february minutes nd... 2000-01-19   \n",
              "1         NaN   xppdu jjuhjdwhvxssodqgghpdqg whuqdohqylurqphq... 2000-02-16   \n",
              "2         NaN  banco central brasil focus march minutes th me...        NaT   \n",
              "3         NaN  banco central brasil focus march minutes th me... 2000-03-22   \n",
              "4         NaN  banco central brasil focus may minutes th meet... 2000-04-19   \n",
              "\n",
              "   Meta SELIC  ata  sentimento  \n",
              "0        19.0   43         NaN  \n",
              "1        19.0   44         NaN  \n",
              "2        18.5   45         NaN  \n",
              "3        19.0   45         NaN  \n",
              "4        18.5   46         NaN  "
            ],
            "text/html": [
              "\n",
              "  <div id=\"df-ff505ed4-0871-4a20-b0a1-425bd723701d\">\n",
              "    <div class=\"colab-df-container\">\n",
              "      <div>\n",
              "<style scoped>\n",
              "    .dataframe tbody tr th:only-of-type {\n",
              "        vertical-align: middle;\n",
              "    }\n",
              "\n",
              "    .dataframe tbody tr th {\n",
              "        vertical-align: top;\n",
              "    }\n",
              "\n",
              "    .dataframe thead th {\n",
              "        text-align: right;\n",
              "    }\n",
              "</style>\n",
              "<table border=\"1\" class=\"dataframe\">\n",
              "  <thead>\n",
              "    <tr style=\"text-align: right;\">\n",
              "      <th></th>\n",
              "      <th>DataReferencia</th>\n",
              "      <th>Titulo</th>\n",
              "      <th>Unnamed: 2</th>\n",
              "      <th>texto</th>\n",
              "      <th>data</th>\n",
              "      <th>Meta SELIC</th>\n",
              "      <th>ata</th>\n",
              "      <th>sentimento</th>\n",
              "    </tr>\n",
              "  </thead>\n",
              "  <tbody>\n",
              "    <tr>\n",
              "      <th>0</th>\n",
              "      <td>2023-03-22T03:00:00Z</td>\n",
              "      <td>253rd Meeting - March 21-22, 2023</td>\n",
              "      <td>NaN</td>\n",
              "      <td>banco central brasil focus february minutes nd...</td>\n",
              "      <td>2000-01-19</td>\n",
              "      <td>19.0</td>\n",
              "      <td>43</td>\n",
              "      <td>NaN</td>\n",
              "    </tr>\n",
              "    <tr>\n",
              "      <th>1</th>\n",
              "      <td>2023-02-01T03:00:00Z</td>\n",
              "      <td>252nd Meeting - January 31 - February 1, 2023</td>\n",
              "      <td>NaN</td>\n",
              "      <td>xppdu jjuhjdwhvxssodqgghpdqg whuqdohqylurqphq...</td>\n",
              "      <td>2000-02-16</td>\n",
              "      <td>19.0</td>\n",
              "      <td>44</td>\n",
              "      <td>NaN</td>\n",
              "    </tr>\n",
              "    <tr>\n",
              "      <th>2</th>\n",
              "      <td>2022-12-07T03:00:00Z</td>\n",
              "      <td>251st Meeting - December 6-7, 2022</td>\n",
              "      <td>NaN</td>\n",
              "      <td>banco central brasil focus march minutes th me...</td>\n",
              "      <td>NaT</td>\n",
              "      <td>18.5</td>\n",
              "      <td>45</td>\n",
              "      <td>NaN</td>\n",
              "    </tr>\n",
              "    <tr>\n",
              "      <th>3</th>\n",
              "      <td>2022-10-26T03:00:00Z</td>\n",
              "      <td>250th Meeting - October 25-26, 2022</td>\n",
              "      <td>NaN</td>\n",
              "      <td>banco central brasil focus march minutes th me...</td>\n",
              "      <td>2000-03-22</td>\n",
              "      <td>19.0</td>\n",
              "      <td>45</td>\n",
              "      <td>NaN</td>\n",
              "    </tr>\n",
              "    <tr>\n",
              "      <th>4</th>\n",
              "      <td>2022-09-21T03:00:00Z</td>\n",
              "      <td>249th Meeting - September 20-21, 2022</td>\n",
              "      <td>NaN</td>\n",
              "      <td>banco central brasil focus may minutes th meet...</td>\n",
              "      <td>2000-04-19</td>\n",
              "      <td>18.5</td>\n",
              "      <td>46</td>\n",
              "      <td>NaN</td>\n",
              "    </tr>\n",
              "  </tbody>\n",
              "</table>\n",
              "</div>\n",
              "      <button class=\"colab-df-convert\" onclick=\"convertToInteractive('df-ff505ed4-0871-4a20-b0a1-425bd723701d')\"\n",
              "              title=\"Convert this dataframe to an interactive table.\"\n",
              "              style=\"display:none;\">\n",
              "        \n",
              "  <svg xmlns=\"http://www.w3.org/2000/svg\" height=\"24px\"viewBox=\"0 0 24 24\"\n",
              "       width=\"24px\">\n",
              "    <path d=\"M0 0h24v24H0V0z\" fill=\"none\"/>\n",
              "    <path d=\"M18.56 5.44l.94 2.06.94-2.06 2.06-.94-2.06-.94-.94-2.06-.94 2.06-2.06.94zm-11 1L8.5 8.5l.94-2.06 2.06-.94-2.06-.94L8.5 2.5l-.94 2.06-2.06.94zm10 10l.94 2.06.94-2.06 2.06-.94-2.06-.94-.94-2.06-.94 2.06-2.06.94z\"/><path d=\"M17.41 7.96l-1.37-1.37c-.4-.4-.92-.59-1.43-.59-.52 0-1.04.2-1.43.59L10.3 9.45l-7.72 7.72c-.78.78-.78 2.05 0 2.83L4 21.41c.39.39.9.59 1.41.59.51 0 1.02-.2 1.41-.59l7.78-7.78 2.81-2.81c.8-.78.8-2.07 0-2.86zM5.41 20L4 18.59l7.72-7.72 1.47 1.35L5.41 20z\"/>\n",
              "  </svg>\n",
              "      </button>\n",
              "      \n",
              "  <style>\n",
              "    .colab-df-container {\n",
              "      display:flex;\n",
              "      flex-wrap:wrap;\n",
              "      gap: 12px;\n",
              "    }\n",
              "\n",
              "    .colab-df-convert {\n",
              "      background-color: #E8F0FE;\n",
              "      border: none;\n",
              "      border-radius: 50%;\n",
              "      cursor: pointer;\n",
              "      display: none;\n",
              "      fill: #1967D2;\n",
              "      height: 32px;\n",
              "      padding: 0 0 0 0;\n",
              "      width: 32px;\n",
              "    }\n",
              "\n",
              "    .colab-df-convert:hover {\n",
              "      background-color: #E2EBFA;\n",
              "      box-shadow: 0px 1px 2px rgba(60, 64, 67, 0.3), 0px 1px 3px 1px rgba(60, 64, 67, 0.15);\n",
              "      fill: #174EA6;\n",
              "    }\n",
              "\n",
              "    [theme=dark] .colab-df-convert {\n",
              "      background-color: #3B4455;\n",
              "      fill: #D2E3FC;\n",
              "    }\n",
              "\n",
              "    [theme=dark] .colab-df-convert:hover {\n",
              "      background-color: #434B5C;\n",
              "      box-shadow: 0px 1px 3px 1px rgba(0, 0, 0, 0.15);\n",
              "      filter: drop-shadow(0px 1px 2px rgba(0, 0, 0, 0.3));\n",
              "      fill: #FFFFFF;\n",
              "    }\n",
              "  </style>\n",
              "\n",
              "      <script>\n",
              "        const buttonEl =\n",
              "          document.querySelector('#df-ff505ed4-0871-4a20-b0a1-425bd723701d button.colab-df-convert');\n",
              "        buttonEl.style.display =\n",
              "          google.colab.kernel.accessAllowed ? 'block' : 'none';\n",
              "\n",
              "        async function convertToInteractive(key) {\n",
              "          const element = document.querySelector('#df-ff505ed4-0871-4a20-b0a1-425bd723701d');\n",
              "          const dataTable =\n",
              "            await google.colab.kernel.invokeFunction('convertToInteractive',\n",
              "                                                     [key], {});\n",
              "          if (!dataTable) return;\n",
              "\n",
              "          const docLinkHtml = 'Like what you see? Visit the ' +\n",
              "            '<a target=\"_blank\" href=https://colab.research.google.com/notebooks/data_table.ipynb>data table notebook</a>'\n",
              "            + ' to learn more about interactive tables.';\n",
              "          element.innerHTML = '';\n",
              "          dataTable['output_type'] = 'display_data';\n",
              "          await google.colab.output.renderOutput(dataTable, element);\n",
              "          const docLink = document.createElement('div');\n",
              "          docLink.innerHTML = docLinkHtml;\n",
              "          element.appendChild(docLink);\n",
              "        }\n",
              "      </script>\n",
              "    </div>\n",
              "  </div>\n",
              "  "
            ]
          },
          "metadata": {},
          "execution_count": 32
        }
      ]
    },
    {
      "cell_type": "code",
      "source": [
        "from sklearn.feature_extraction.text import CountVectorizer\n",
        "from sklearn.svm import SVC\n",
        "\n",
        "# Pré-processamento dos dados de texto\n",
        "vectorizer = CountVectorizer()\n",
        "X_train = vectorizer.fit_transform(dados['texto'])\n",
        "\n",
        "# Inicializar o classificador SVM\n",
        "svm = SVC()\n",
        "\n",
        "# Treinar o classificador SVM com todos os dados\n",
        "svm.fit(X_train, dados['sentimento'])\n",
        "\n",
        "# Pré-processar os dados de texto do DataFrame dados2\n",
        "X_new = vectorizer.transform(dados2['texto'])\n",
        "\n",
        "# Fazer previsões nos novos dados\n",
        "y_pred_new = svm.predict(X_new)\n",
        "\n",
        "# Adicionar as previsões como uma nova coluna no DataFrame dados2\n",
        "dados2['sentimento'] = y_pred_new\n"
      ],
      "metadata": {
        "id": "YsH6H96DzsuY"
      },
      "execution_count": null,
      "outputs": []
    },
    {
      "cell_type": "code",
      "source": [
        "dados2.head()"
      ],
      "metadata": {
        "colab": {
          "base_uri": "https://localhost:8080/",
          "height": 206
        },
        "id": "1VhSqGNsz4M9",
        "outputId": "fd28da01-fb94-465a-c8d1-f8e3438dfc87"
      },
      "execution_count": null,
      "outputs": [
        {
          "output_type": "execute_result",
          "data": {
            "text/plain": [
              "         DataReferencia                                         Titulo  \\\n",
              "0  2023-03-22T03:00:00Z              253rd Meeting - March 21-22, 2023   \n",
              "1  2023-02-01T03:00:00Z  252nd Meeting - January 31 - February 1, 2023   \n",
              "2  2022-12-07T03:00:00Z             251st Meeting - December 6-7, 2022   \n",
              "3  2022-10-26T03:00:00Z            250th Meeting - October 25-26, 2022   \n",
              "4  2022-09-21T03:00:00Z          249th Meeting - September 20-21, 2022   \n",
              "\n",
              "   Unnamed: 2                                              texto       data  \\\n",
              "0         NaN  banco central brasil focus february minutes nd... 2000-01-19   \n",
              "1         NaN   xppdu jjuhjdwhvxssodqgghpdqg whuqdohqylurqphq... 2000-02-16   \n",
              "2         NaN  banco central brasil focus march minutes th me...        NaT   \n",
              "3         NaN  banco central brasil focus march minutes th me... 2000-03-22   \n",
              "4         NaN  banco central brasil focus may minutes th meet... 2000-04-19   \n",
              "\n",
              "   Meta SELIC  ata sentimento  \n",
              "0        19.0   43   negativo  \n",
              "1        19.0   44   positivo  \n",
              "2        18.5   45   negativo  \n",
              "3        19.0   45   negativo  \n",
              "4        18.5   46   negativo  "
            ],
            "text/html": [
              "\n",
              "  <div id=\"df-a230e53b-cb4e-4dd1-b634-d069114144eb\">\n",
              "    <div class=\"colab-df-container\">\n",
              "      <div>\n",
              "<style scoped>\n",
              "    .dataframe tbody tr th:only-of-type {\n",
              "        vertical-align: middle;\n",
              "    }\n",
              "\n",
              "    .dataframe tbody tr th {\n",
              "        vertical-align: top;\n",
              "    }\n",
              "\n",
              "    .dataframe thead th {\n",
              "        text-align: right;\n",
              "    }\n",
              "</style>\n",
              "<table border=\"1\" class=\"dataframe\">\n",
              "  <thead>\n",
              "    <tr style=\"text-align: right;\">\n",
              "      <th></th>\n",
              "      <th>DataReferencia</th>\n",
              "      <th>Titulo</th>\n",
              "      <th>Unnamed: 2</th>\n",
              "      <th>texto</th>\n",
              "      <th>data</th>\n",
              "      <th>Meta SELIC</th>\n",
              "      <th>ata</th>\n",
              "      <th>sentimento</th>\n",
              "    </tr>\n",
              "  </thead>\n",
              "  <tbody>\n",
              "    <tr>\n",
              "      <th>0</th>\n",
              "      <td>2023-03-22T03:00:00Z</td>\n",
              "      <td>253rd Meeting - March 21-22, 2023</td>\n",
              "      <td>NaN</td>\n",
              "      <td>banco central brasil focus february minutes nd...</td>\n",
              "      <td>2000-01-19</td>\n",
              "      <td>19.0</td>\n",
              "      <td>43</td>\n",
              "      <td>negativo</td>\n",
              "    </tr>\n",
              "    <tr>\n",
              "      <th>1</th>\n",
              "      <td>2023-02-01T03:00:00Z</td>\n",
              "      <td>252nd Meeting - January 31 - February 1, 2023</td>\n",
              "      <td>NaN</td>\n",
              "      <td>xppdu jjuhjdwhvxssodqgghpdqg whuqdohqylurqphq...</td>\n",
              "      <td>2000-02-16</td>\n",
              "      <td>19.0</td>\n",
              "      <td>44</td>\n",
              "      <td>positivo</td>\n",
              "    </tr>\n",
              "    <tr>\n",
              "      <th>2</th>\n",
              "      <td>2022-12-07T03:00:00Z</td>\n",
              "      <td>251st Meeting - December 6-7, 2022</td>\n",
              "      <td>NaN</td>\n",
              "      <td>banco central brasil focus march minutes th me...</td>\n",
              "      <td>NaT</td>\n",
              "      <td>18.5</td>\n",
              "      <td>45</td>\n",
              "      <td>negativo</td>\n",
              "    </tr>\n",
              "    <tr>\n",
              "      <th>3</th>\n",
              "      <td>2022-10-26T03:00:00Z</td>\n",
              "      <td>250th Meeting - October 25-26, 2022</td>\n",
              "      <td>NaN</td>\n",
              "      <td>banco central brasil focus march minutes th me...</td>\n",
              "      <td>2000-03-22</td>\n",
              "      <td>19.0</td>\n",
              "      <td>45</td>\n",
              "      <td>negativo</td>\n",
              "    </tr>\n",
              "    <tr>\n",
              "      <th>4</th>\n",
              "      <td>2022-09-21T03:00:00Z</td>\n",
              "      <td>249th Meeting - September 20-21, 2022</td>\n",
              "      <td>NaN</td>\n",
              "      <td>banco central brasil focus may minutes th meet...</td>\n",
              "      <td>2000-04-19</td>\n",
              "      <td>18.5</td>\n",
              "      <td>46</td>\n",
              "      <td>negativo</td>\n",
              "    </tr>\n",
              "  </tbody>\n",
              "</table>\n",
              "</div>\n",
              "      <button class=\"colab-df-convert\" onclick=\"convertToInteractive('df-a230e53b-cb4e-4dd1-b634-d069114144eb')\"\n",
              "              title=\"Convert this dataframe to an interactive table.\"\n",
              "              style=\"display:none;\">\n",
              "        \n",
              "  <svg xmlns=\"http://www.w3.org/2000/svg\" height=\"24px\"viewBox=\"0 0 24 24\"\n",
              "       width=\"24px\">\n",
              "    <path d=\"M0 0h24v24H0V0z\" fill=\"none\"/>\n",
              "    <path d=\"M18.56 5.44l.94 2.06.94-2.06 2.06-.94-2.06-.94-.94-2.06-.94 2.06-2.06.94zm-11 1L8.5 8.5l.94-2.06 2.06-.94-2.06-.94L8.5 2.5l-.94 2.06-2.06.94zm10 10l.94 2.06.94-2.06 2.06-.94-2.06-.94-.94-2.06-.94 2.06-2.06.94z\"/><path d=\"M17.41 7.96l-1.37-1.37c-.4-.4-.92-.59-1.43-.59-.52 0-1.04.2-1.43.59L10.3 9.45l-7.72 7.72c-.78.78-.78 2.05 0 2.83L4 21.41c.39.39.9.59 1.41.59.51 0 1.02-.2 1.41-.59l7.78-7.78 2.81-2.81c.8-.78.8-2.07 0-2.86zM5.41 20L4 18.59l7.72-7.72 1.47 1.35L5.41 20z\"/>\n",
              "  </svg>\n",
              "      </button>\n",
              "      \n",
              "  <style>\n",
              "    .colab-df-container {\n",
              "      display:flex;\n",
              "      flex-wrap:wrap;\n",
              "      gap: 12px;\n",
              "    }\n",
              "\n",
              "    .colab-df-convert {\n",
              "      background-color: #E8F0FE;\n",
              "      border: none;\n",
              "      border-radius: 50%;\n",
              "      cursor: pointer;\n",
              "      display: none;\n",
              "      fill: #1967D2;\n",
              "      height: 32px;\n",
              "      padding: 0 0 0 0;\n",
              "      width: 32px;\n",
              "    }\n",
              "\n",
              "    .colab-df-convert:hover {\n",
              "      background-color: #E2EBFA;\n",
              "      box-shadow: 0px 1px 2px rgba(60, 64, 67, 0.3), 0px 1px 3px 1px rgba(60, 64, 67, 0.15);\n",
              "      fill: #174EA6;\n",
              "    }\n",
              "\n",
              "    [theme=dark] .colab-df-convert {\n",
              "      background-color: #3B4455;\n",
              "      fill: #D2E3FC;\n",
              "    }\n",
              "\n",
              "    [theme=dark] .colab-df-convert:hover {\n",
              "      background-color: #434B5C;\n",
              "      box-shadow: 0px 1px 3px 1px rgba(0, 0, 0, 0.15);\n",
              "      filter: drop-shadow(0px 1px 2px rgba(0, 0, 0, 0.3));\n",
              "      fill: #FFFFFF;\n",
              "    }\n",
              "  </style>\n",
              "\n",
              "      <script>\n",
              "        const buttonEl =\n",
              "          document.querySelector('#df-a230e53b-cb4e-4dd1-b634-d069114144eb button.colab-df-convert');\n",
              "        buttonEl.style.display =\n",
              "          google.colab.kernel.accessAllowed ? 'block' : 'none';\n",
              "\n",
              "        async function convertToInteractive(key) {\n",
              "          const element = document.querySelector('#df-a230e53b-cb4e-4dd1-b634-d069114144eb');\n",
              "          const dataTable =\n",
              "            await google.colab.kernel.invokeFunction('convertToInteractive',\n",
              "                                                     [key], {});\n",
              "          if (!dataTable) return;\n",
              "\n",
              "          const docLinkHtml = 'Like what you see? Visit the ' +\n",
              "            '<a target=\"_blank\" href=https://colab.research.google.com/notebooks/data_table.ipynb>data table notebook</a>'\n",
              "            + ' to learn more about interactive tables.';\n",
              "          element.innerHTML = '';\n",
              "          dataTable['output_type'] = 'display_data';\n",
              "          await google.colab.output.renderOutput(dataTable, element);\n",
              "          const docLink = document.createElement('div');\n",
              "          docLink.innerHTML = docLinkHtml;\n",
              "          element.appendChild(docLink);\n",
              "        }\n",
              "      </script>\n",
              "    </div>\n",
              "  </div>\n",
              "  "
            ]
          },
          "metadata": {},
          "execution_count": 34
        }
      ]
    },
    {
      "cell_type": "code",
      "source": [
        "# Importar a biblioteca pandas\n",
        "import pandas as pd\n",
        "\n",
        "# Isolar as colunas 'ata' e 'sentimento' do DataFrame 'dados'\n",
        "dados_isolados = dados[['ata', 'sentimento']]\n",
        "\n",
        "# Isolar as colunas 'ata' e 'sentimento' do DataFrame 'dados2'\n",
        "dados2_isolados = dados2[['ata', 'sentimento']]\n",
        "\n",
        "# Concatenar os DataFrames 'dados_isolados' e 'dados2_isolados'\n",
        "dados_ML = pd.concat([dados_isolados, dados2_isolados])\n",
        "\n",
        "# Definir o caminho e nome do arquivo XLSX\n",
        "caminho_arquivo = \"dados_ML.xlsx\"\n",
        "\n",
        "# Salvar o DataFrame empilhado como um arquivo XLSX\n",
        "dados_ML.to_excel(caminho_arquivo, index=False)\n",
        "\n",
        "print(\"Arquivo dados_ML.xlsx salvo com sucesso no diretório atual.\")\n"
      ],
      "metadata": {
        "id": "QJJnCEkL_i1f",
        "outputId": "9aa7257b-8089-4d3d-bdd0-3a67780c9698",
        "colab": {
          "base_uri": "https://localhost:8080/"
        }
      },
      "execution_count": null,
      "outputs": [
        {
          "output_type": "stream",
          "name": "stdout",
          "text": [
            "Arquivo dados_ML.xlsx salvo com sucesso no diretório atual.\n"
          ]
        }
      ]
    }
  ]
}