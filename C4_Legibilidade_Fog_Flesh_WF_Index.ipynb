{
  "nbformat": 4,
  "nbformat_minor": 0,
  "metadata": {
    "colab": {
      "provenance": [],
      "authorship_tag": "ABX9TyPT6zSV0hw17FUiPUY5k+J8",
      "include_colab_link": true
    },
    "kernelspec": {
      "name": "python3",
      "display_name": "Python 3"
    },
    "language_info": {
      "name": "python"
    }
  },
  "cells": [
    {
      "cell_type": "markdown",
      "metadata": {
        "id": "view-in-github",
        "colab_type": "text"
      },
      "source": [
        "<a href=\"https://colab.research.google.com/github/jeffersonramelo/Textual-Analysis/blob/main/C4_Legibilidade_Fog_Flesh_WF_Index.ipynb\" target=\"_parent\"><img src=\"https://colab.research.google.com/assets/colab-badge.svg\" alt=\"Open In Colab\"/></a>"
      ]
    },
    {
      "cell_type": "code",
      "source": [
        "pip install xlrd"
      ],
      "metadata": {
        "colab": {
          "base_uri": "https://localhost:8080/"
        },
        "id": "GIS-v5IzGo1k",
        "outputId": "9b98936b-f24c-4357-e2a4-7e43a729b2a6"
      },
      "execution_count": 1,
      "outputs": [
        {
          "output_type": "stream",
          "name": "stdout",
          "text": [
            "Looking in indexes: https://pypi.org/simple, https://us-python.pkg.dev/colab-wheels/public/simple/\n",
            "Requirement already satisfied: xlrd in /usr/local/lib/python3.10/dist-packages (2.0.1)\n"
          ]
        }
      ]
    },
    {
      "cell_type": "code",
      "source": [
        "import pandas as pd\n",
        "\n",
        "df = pd.read_excel('/content/127 fatos relevantes_ingles2023.xlsx')"
      ],
      "metadata": {
        "id": "8giYkxZvGsO6"
      },
      "execution_count": 2,
      "outputs": []
    },
    {
      "cell_type": "code",
      "source": [
        "# Obtenha as variáveis e seus tipos\n",
        "variaveis = df.columns.tolist()\n",
        "tipos = df.dtypes.tolist()\n",
        "\n",
        "# Imprima as variáveis e seus tipos\n",
        "for var, tipo in zip(variaveis, tipos):\n",
        "    print(f'{var}: {tipo}')"
      ],
      "metadata": {
        "colab": {
          "base_uri": "https://localhost:8080/"
        },
        "id": "KfwhmDwzG416",
        "outputId": "b14b4fb1-6360-463a-ac4b-ee66d252e14c"
      },
      "execution_count": 3,
      "outputs": [
        {
          "output_type": "stream",
          "name": "stdout",
          "text": [
            "Data_Entrega: object\n",
            "Nome_Companhia: object\n",
            "Categoria: object\n",
            "Assunto: object\n",
            "Tipo: float64\n",
            "Especie: float64\n",
            "Tipo_Apresentacao: object\n",
            "Link_Download: object\n",
            "Texto: object\n",
            "texto_ingles: object\n"
          ]
        }
      ]
    },
    {
      "cell_type": "code",
      "source": [
        "df"
      ],
      "metadata": {
        "colab": {
          "base_uri": "https://localhost:8080/",
          "height": 1000
        },
        "id": "abI4Zqz7H6oc",
        "outputId": "e558b4cd-f54e-4995-e3f9-3d9c53423c6a"
      },
      "execution_count": 4,
      "outputs": [
        {
          "output_type": "execute_result",
          "data": {
            "text/plain": [
              "    Data_Entrega                             Nome_Companhia       Categoria  \\\n",
              "0     2023-01-18                       BANCO DO BRASIL S.A.  Fato Relevante   \n",
              "1     2023-04-03          CENTRAIS ELETRICAS BRASILEIRAS SA  Fato Relevante   \n",
              "2     2023-05-09   ARMAC LOCAÇÃO, LOGÍSTICA E SERVIÇOS S.A.  Fato Relevante   \n",
              "3     2023-01-13  AMERICANAS S.A. - EM RECUPERAÇÃO JUDICIAL  Fato Relevante   \n",
              "4     2023-03-21  AMERICANAS S.A. - EM RECUPERAÇÃO JUDICIAL  Fato Relevante   \n",
              "..           ...                                        ...             ...   \n",
              "122   2023-03-30     LUPATECH S/A - EM RECUPERAÇÃO JUDICIAL  Fato Relevante   \n",
              "123   2023-03-16                              GRAZZIOTIN SA  Fato Relevante   \n",
              "124   2023-03-16                            LOJAS RENNER SA  Fato Relevante   \n",
              "125   2023-05-04                            LOJAS RENNER SA  Fato Relevante   \n",
              "126   2023-05-09                            LOJAS RENNER SA  Fato Relevante   \n",
              "\n",
              "                                               Assunto  Tipo  Especie  \\\n",
              "0                        Indicação de Vice-Presidentes   NaN      NaN   \n",
              "1                                 Acordo de Acionistas   NaN      NaN   \n",
              "2    Alterações na Diretoria Estatutária e Conselho...   NaN      NaN   \n",
              "3                                 Alterações de rating   NaN      NaN   \n",
              "4    Informações sobre o relatório circunstanciado ...   NaN      NaN   \n",
              "..                                                 ...   ...      ...   \n",
              "122  Execução de Título Judicial contra a Cordoaria...   NaN      NaN   \n",
              "123                      Investimento da joint venture   NaN      NaN   \n",
              "124  Encerramento do programa de recompra e cancela...   NaN      NaN   \n",
              "125                            Divulgação de projeções   NaN      NaN   \n",
              "126       Projeções - FR complementar ao de 04/05/2023   NaN      NaN   \n",
              "\n",
              "     Tipo_Apresentacao                                      Link_Download  \\\n",
              "0    AP - Apresentação  https://www.rad.cvm.gov.br/ENET/frmDownloadDoc...   \n",
              "1    AP - Apresentação  https://www.rad.cvm.gov.br/ENET/frmDownloadDoc...   \n",
              "2    AP - Apresentação  https://www.rad.cvm.gov.br/ENET/frmDownloadDoc...   \n",
              "3    AP - Apresentação  https://www.rad.cvm.gov.br/ENET/frmDownloadDoc...   \n",
              "4    AP - Apresentação  https://www.rad.cvm.gov.br/ENET/frmDownloadDoc...   \n",
              "..                 ...                                                ...   \n",
              "122  AP - Apresentação  https://www.rad.cvm.gov.br/ENET/frmDownloadDoc...   \n",
              "123  AP - Apresentação  https://www.rad.cvm.gov.br/ENET/frmDownloadDoc...   \n",
              "124  AP - Apresentação  https://www.rad.cvm.gov.br/ENET/frmDownloadDoc...   \n",
              "125  AP - Apresentação  https://www.rad.cvm.gov.br/ENET/frmDownloadDoc...   \n",
              "126  AP - Apresentação  https://www.rad.cvm.gov.br/ENET/frmDownloadDoc...   \n",
              "\n",
              "                                                 Texto  \\\n",
              "0     \\n \\nCRUZEIRO DO SUL EDUCACIONAL S.A.   \\nCNP...   \n",
              "1     \\n \\n \\nDIMED S/A  DISTRIBUIDORA DE MEDICAMEN...   \n",
              "2                                                  ...   \n",
              "3     \\n \\nLUPATECH S.A.  – EM RECUPERAÇÃO JUDICIAL...   \n",
              "4    CNPJ 84.683.374/000 3-00 \\nNIRE: 42.3.0001628 ...   \n",
              "..                                                 ...   \n",
              "122   \\nLUPATECH S.A.  – EM RECUPERAÇÃO JUDICIAL  \\...   \n",
              "123                                                ...   \n",
              "124                                                ...   \n",
              "125                                                ...   \n",
              "126                                                ...   \n",
              "\n",
              "                                          texto_ingles  \n",
              "0     \\n \\nCRUZEIRO DO SUL EDUCACIONAL S.A.   \\nCNP...  \n",
              "1    Distribuidora d e Medicamentos  \\n(BM&FBOVESPA...  \n",
              "2     \\nCNPJ/MF nº 92.754.738/0001 -62 \\nNIRE 43300...  \n",
              "3     – IN JUDICIAL REORGANIZATION  \\nCNPJ/M F N° 8...  \n",
              "4     \\n \\n \\nThiago Fontoura Struminski  \\nVice -p...  \n",
              "..                                                 ...  \n",
              "122   – EM RECUPERAÇÃO JUDICIAL  \\nCNPJ/M E N° 89.4...  \n",
              "123   \\nCNPJ/MF nº 92.754.738/0001 -62 \\nNIRE 43300...  \n",
              "124   \\nCNPJ/MF nº 92.754.738/0001 -62 \\nNIRE 43300...  \n",
              "125   \\nCNPJ/MF nº 92.754.738/0001 -62 \\nNIRE 43300...  \n",
              "126   \\nCNPJ/MF nº 92.754.738/0001 -62 \\nNIRE 43300...  \n",
              "\n",
              "[127 rows x 10 columns]"
            ],
            "text/html": [
              "\n",
              "  <div id=\"df-a0baeb72-5d64-420f-9b15-8b62eeb0c532\">\n",
              "    <div class=\"colab-df-container\">\n",
              "      <div>\n",
              "<style scoped>\n",
              "    .dataframe tbody tr th:only-of-type {\n",
              "        vertical-align: middle;\n",
              "    }\n",
              "\n",
              "    .dataframe tbody tr th {\n",
              "        vertical-align: top;\n",
              "    }\n",
              "\n",
              "    .dataframe thead th {\n",
              "        text-align: right;\n",
              "    }\n",
              "</style>\n",
              "<table border=\"1\" class=\"dataframe\">\n",
              "  <thead>\n",
              "    <tr style=\"text-align: right;\">\n",
              "      <th></th>\n",
              "      <th>Data_Entrega</th>\n",
              "      <th>Nome_Companhia</th>\n",
              "      <th>Categoria</th>\n",
              "      <th>Assunto</th>\n",
              "      <th>Tipo</th>\n",
              "      <th>Especie</th>\n",
              "      <th>Tipo_Apresentacao</th>\n",
              "      <th>Link_Download</th>\n",
              "      <th>Texto</th>\n",
              "      <th>texto_ingles</th>\n",
              "    </tr>\n",
              "  </thead>\n",
              "  <tbody>\n",
              "    <tr>\n",
              "      <th>0</th>\n",
              "      <td>2023-01-18</td>\n",
              "      <td>BANCO DO BRASIL S.A.</td>\n",
              "      <td>Fato Relevante</td>\n",
              "      <td>Indicação de Vice-Presidentes</td>\n",
              "      <td>NaN</td>\n",
              "      <td>NaN</td>\n",
              "      <td>AP - Apresentação</td>\n",
              "      <td>https://www.rad.cvm.gov.br/ENET/frmDownloadDoc...</td>\n",
              "      <td>\\n \\nCRUZEIRO DO SUL EDUCACIONAL S.A.   \\nCNP...</td>\n",
              "      <td>\\n \\nCRUZEIRO DO SUL EDUCACIONAL S.A.   \\nCNP...</td>\n",
              "    </tr>\n",
              "    <tr>\n",
              "      <th>1</th>\n",
              "      <td>2023-04-03</td>\n",
              "      <td>CENTRAIS ELETRICAS BRASILEIRAS SA</td>\n",
              "      <td>Fato Relevante</td>\n",
              "      <td>Acordo de Acionistas</td>\n",
              "      <td>NaN</td>\n",
              "      <td>NaN</td>\n",
              "      <td>AP - Apresentação</td>\n",
              "      <td>https://www.rad.cvm.gov.br/ENET/frmDownloadDoc...</td>\n",
              "      <td>\\n \\n \\nDIMED S/A  DISTRIBUIDORA DE MEDICAMEN...</td>\n",
              "      <td>Distribuidora d e Medicamentos  \\n(BM&amp;FBOVESPA...</td>\n",
              "    </tr>\n",
              "    <tr>\n",
              "      <th>2</th>\n",
              "      <td>2023-05-09</td>\n",
              "      <td>ARMAC LOCAÇÃO, LOGÍSTICA E SERVIÇOS S.A.</td>\n",
              "      <td>Fato Relevante</td>\n",
              "      <td>Alterações na Diretoria Estatutária e Conselho...</td>\n",
              "      <td>NaN</td>\n",
              "      <td>NaN</td>\n",
              "      <td>AP - Apresentação</td>\n",
              "      <td>https://www.rad.cvm.gov.br/ENET/frmDownloadDoc...</td>\n",
              "      <td>...</td>\n",
              "      <td>\\nCNPJ/MF nº 92.754.738/0001 -62 \\nNIRE 43300...</td>\n",
              "    </tr>\n",
              "    <tr>\n",
              "      <th>3</th>\n",
              "      <td>2023-01-13</td>\n",
              "      <td>AMERICANAS S.A. - EM RECUPERAÇÃO JUDICIAL</td>\n",
              "      <td>Fato Relevante</td>\n",
              "      <td>Alterações de rating</td>\n",
              "      <td>NaN</td>\n",
              "      <td>NaN</td>\n",
              "      <td>AP - Apresentação</td>\n",
              "      <td>https://www.rad.cvm.gov.br/ENET/frmDownloadDoc...</td>\n",
              "      <td>\\n \\nLUPATECH S.A.  – EM RECUPERAÇÃO JUDICIAL...</td>\n",
              "      <td>– IN JUDICIAL REORGANIZATION  \\nCNPJ/M F N° 8...</td>\n",
              "    </tr>\n",
              "    <tr>\n",
              "      <th>4</th>\n",
              "      <td>2023-03-21</td>\n",
              "      <td>AMERICANAS S.A. - EM RECUPERAÇÃO JUDICIAL</td>\n",
              "      <td>Fato Relevante</td>\n",
              "      <td>Informações sobre o relatório circunstanciado ...</td>\n",
              "      <td>NaN</td>\n",
              "      <td>NaN</td>\n",
              "      <td>AP - Apresentação</td>\n",
              "      <td>https://www.rad.cvm.gov.br/ENET/frmDownloadDoc...</td>\n",
              "      <td>CNPJ 84.683.374/000 3-00 \\nNIRE: 42.3.0001628 ...</td>\n",
              "      <td>\\n \\n \\nThiago Fontoura Struminski  \\nVice -p...</td>\n",
              "    </tr>\n",
              "    <tr>\n",
              "      <th>...</th>\n",
              "      <td>...</td>\n",
              "      <td>...</td>\n",
              "      <td>...</td>\n",
              "      <td>...</td>\n",
              "      <td>...</td>\n",
              "      <td>...</td>\n",
              "      <td>...</td>\n",
              "      <td>...</td>\n",
              "      <td>...</td>\n",
              "      <td>...</td>\n",
              "    </tr>\n",
              "    <tr>\n",
              "      <th>122</th>\n",
              "      <td>2023-03-30</td>\n",
              "      <td>LUPATECH S/A - EM RECUPERAÇÃO JUDICIAL</td>\n",
              "      <td>Fato Relevante</td>\n",
              "      <td>Execução de Título Judicial contra a Cordoaria...</td>\n",
              "      <td>NaN</td>\n",
              "      <td>NaN</td>\n",
              "      <td>AP - Apresentação</td>\n",
              "      <td>https://www.rad.cvm.gov.br/ENET/frmDownloadDoc...</td>\n",
              "      <td>\\nLUPATECH S.A.  – EM RECUPERAÇÃO JUDICIAL  \\...</td>\n",
              "      <td>– EM RECUPERAÇÃO JUDICIAL  \\nCNPJ/M E N° 89.4...</td>\n",
              "    </tr>\n",
              "    <tr>\n",
              "      <th>123</th>\n",
              "      <td>2023-03-16</td>\n",
              "      <td>GRAZZIOTIN SA</td>\n",
              "      <td>Fato Relevante</td>\n",
              "      <td>Investimento da joint venture</td>\n",
              "      <td>NaN</td>\n",
              "      <td>NaN</td>\n",
              "      <td>AP - Apresentação</td>\n",
              "      <td>https://www.rad.cvm.gov.br/ENET/frmDownloadDoc...</td>\n",
              "      <td>...</td>\n",
              "      <td>\\nCNPJ/MF nº 92.754.738/0001 -62 \\nNIRE 43300...</td>\n",
              "    </tr>\n",
              "    <tr>\n",
              "      <th>124</th>\n",
              "      <td>2023-03-16</td>\n",
              "      <td>LOJAS RENNER SA</td>\n",
              "      <td>Fato Relevante</td>\n",
              "      <td>Encerramento do programa de recompra e cancela...</td>\n",
              "      <td>NaN</td>\n",
              "      <td>NaN</td>\n",
              "      <td>AP - Apresentação</td>\n",
              "      <td>https://www.rad.cvm.gov.br/ENET/frmDownloadDoc...</td>\n",
              "      <td>...</td>\n",
              "      <td>\\nCNPJ/MF nº 92.754.738/0001 -62 \\nNIRE 43300...</td>\n",
              "    </tr>\n",
              "    <tr>\n",
              "      <th>125</th>\n",
              "      <td>2023-05-04</td>\n",
              "      <td>LOJAS RENNER SA</td>\n",
              "      <td>Fato Relevante</td>\n",
              "      <td>Divulgação de projeções</td>\n",
              "      <td>NaN</td>\n",
              "      <td>NaN</td>\n",
              "      <td>AP - Apresentação</td>\n",
              "      <td>https://www.rad.cvm.gov.br/ENET/frmDownloadDoc...</td>\n",
              "      <td>...</td>\n",
              "      <td>\\nCNPJ/MF nº 92.754.738/0001 -62 \\nNIRE 43300...</td>\n",
              "    </tr>\n",
              "    <tr>\n",
              "      <th>126</th>\n",
              "      <td>2023-05-09</td>\n",
              "      <td>LOJAS RENNER SA</td>\n",
              "      <td>Fato Relevante</td>\n",
              "      <td>Projeções - FR complementar ao de 04/05/2023</td>\n",
              "      <td>NaN</td>\n",
              "      <td>NaN</td>\n",
              "      <td>AP - Apresentação</td>\n",
              "      <td>https://www.rad.cvm.gov.br/ENET/frmDownloadDoc...</td>\n",
              "      <td>...</td>\n",
              "      <td>\\nCNPJ/MF nº 92.754.738/0001 -62 \\nNIRE 43300...</td>\n",
              "    </tr>\n",
              "  </tbody>\n",
              "</table>\n",
              "<p>127 rows × 10 columns</p>\n",
              "</div>\n",
              "      <button class=\"colab-df-convert\" onclick=\"convertToInteractive('df-a0baeb72-5d64-420f-9b15-8b62eeb0c532')\"\n",
              "              title=\"Convert this dataframe to an interactive table.\"\n",
              "              style=\"display:none;\">\n",
              "        \n",
              "  <svg xmlns=\"http://www.w3.org/2000/svg\" height=\"24px\"viewBox=\"0 0 24 24\"\n",
              "       width=\"24px\">\n",
              "    <path d=\"M0 0h24v24H0V0z\" fill=\"none\"/>\n",
              "    <path d=\"M18.56 5.44l.94 2.06.94-2.06 2.06-.94-2.06-.94-.94-2.06-.94 2.06-2.06.94zm-11 1L8.5 8.5l.94-2.06 2.06-.94-2.06-.94L8.5 2.5l-.94 2.06-2.06.94zm10 10l.94 2.06.94-2.06 2.06-.94-2.06-.94-.94-2.06-.94 2.06-2.06.94z\"/><path d=\"M17.41 7.96l-1.37-1.37c-.4-.4-.92-.59-1.43-.59-.52 0-1.04.2-1.43.59L10.3 9.45l-7.72 7.72c-.78.78-.78 2.05 0 2.83L4 21.41c.39.39.9.59 1.41.59.51 0 1.02-.2 1.41-.59l7.78-7.78 2.81-2.81c.8-.78.8-2.07 0-2.86zM5.41 20L4 18.59l7.72-7.72 1.47 1.35L5.41 20z\"/>\n",
              "  </svg>\n",
              "      </button>\n",
              "      \n",
              "  <style>\n",
              "    .colab-df-container {\n",
              "      display:flex;\n",
              "      flex-wrap:wrap;\n",
              "      gap: 12px;\n",
              "    }\n",
              "\n",
              "    .colab-df-convert {\n",
              "      background-color: #E8F0FE;\n",
              "      border: none;\n",
              "      border-radius: 50%;\n",
              "      cursor: pointer;\n",
              "      display: none;\n",
              "      fill: #1967D2;\n",
              "      height: 32px;\n",
              "      padding: 0 0 0 0;\n",
              "      width: 32px;\n",
              "    }\n",
              "\n",
              "    .colab-df-convert:hover {\n",
              "      background-color: #E2EBFA;\n",
              "      box-shadow: 0px 1px 2px rgba(60, 64, 67, 0.3), 0px 1px 3px 1px rgba(60, 64, 67, 0.15);\n",
              "      fill: #174EA6;\n",
              "    }\n",
              "\n",
              "    [theme=dark] .colab-df-convert {\n",
              "      background-color: #3B4455;\n",
              "      fill: #D2E3FC;\n",
              "    }\n",
              "\n",
              "    [theme=dark] .colab-df-convert:hover {\n",
              "      background-color: #434B5C;\n",
              "      box-shadow: 0px 1px 3px 1px rgba(0, 0, 0, 0.15);\n",
              "      filter: drop-shadow(0px 1px 2px rgba(0, 0, 0, 0.3));\n",
              "      fill: #FFFFFF;\n",
              "    }\n",
              "  </style>\n",
              "\n",
              "      <script>\n",
              "        const buttonEl =\n",
              "          document.querySelector('#df-a0baeb72-5d64-420f-9b15-8b62eeb0c532 button.colab-df-convert');\n",
              "        buttonEl.style.display =\n",
              "          google.colab.kernel.accessAllowed ? 'block' : 'none';\n",
              "\n",
              "        async function convertToInteractive(key) {\n",
              "          const element = document.querySelector('#df-a0baeb72-5d64-420f-9b15-8b62eeb0c532');\n",
              "          const dataTable =\n",
              "            await google.colab.kernel.invokeFunction('convertToInteractive',\n",
              "                                                     [key], {});\n",
              "          if (!dataTable) return;\n",
              "\n",
              "          const docLinkHtml = 'Like what you see? Visit the ' +\n",
              "            '<a target=\"_blank\" href=https://colab.research.google.com/notebooks/data_table.ipynb>data table notebook</a>'\n",
              "            + ' to learn more about interactive tables.';\n",
              "          element.innerHTML = '';\n",
              "          dataTable['output_type'] = 'display_data';\n",
              "          await google.colab.output.renderOutput(dataTable, element);\n",
              "          const docLink = document.createElement('div');\n",
              "          docLink.innerHTML = docLinkHtml;\n",
              "          element.appendChild(docLink);\n",
              "        }\n",
              "      </script>\n",
              "    </div>\n",
              "  </div>\n",
              "  "
            ]
          },
          "metadata": {},
          "execution_count": 4
        }
      ]
    },
    {
      "cell_type": "code",
      "source": [
        "#vizualiar 1175 obs\n",
        "print(df.loc[:, 'texto_ingles'].iloc[0])\n"
      ],
      "metadata": {
        "id": "QANFArZTjv9h",
        "outputId": "fb9a2108-ecad-4259-efd4-9236b8a686ad",
        "colab": {
          "base_uri": "https://localhost:8080/"
        }
      },
      "execution_count": 5,
      "outputs": [
        {
          "output_type": "stream",
          "name": "stdout",
          "text": [
            " \n",
            " \n",
            "CRUZEIRO DO SUL EDUCACIONAL S.A.   \n",
            "CNPJ/ME nº 62.984.091/0001 -02   \n",
            "NIRE 35.300.418.000   \n",
            "Publicly -held Company   \n",
            "  \n",
            "MATERIAL FACT  \n",
            " \n",
            "CRUZEIRO DO SUL EDUCACIONAL S.A.  (“Company ”) (CSED3 ), in compliance with \n",
            "article 157, paragraph 4 and article 30, paragraph 1, “b” of the Brazilian Corporation \n",
            "Law, with article 2 of the  Brazilian Securities Exchange Commission (“ CVM”) Resolution \n",
            "n. 44, dated as August 23, 2021 and with article  3, \"I\" of the Brazilian Securities Exchange \n",
            "Commission (“ CVM”) Resolution n. 77, dated as March 29, 2022 (“ Resolu tion CVM 44 ” \n",
            "and “Resolution  CVM 77 ”), hereby informs its shareholders and the market in general , \n",
            "in continuity with the material fact disclosed by the Company on August 12, 2022 \n",
            "(\"Material Fact\") that the Board of Directors  approved, on January 1 8, 2023, the \n",
            "cancellation of 7,775,520 (seven million, seven hundred and seventy five thousand, five \n",
            "hundred and twenty) common shares, with no par value, issued  by the Company, held \n",
            "in treasury, on this date, without reducing the value of the capital stock.  \n",
            "Due to the cancellation of treasury shares, the Company's capital is now divided into \n",
            "374,046,720  (three hundred and seventy -four million, forty -six thousand,  seven hundred \n",
            "and twenty ) common shares, all registered, book -entry and without par value. \n",
            "Accordingly, the article 5 of the Company's Bylaws, which deals with its capital stock, \n",
            "must be adjusted at the Company's next general meeting.  \n",
            "The Board of Directo rs also approved the continuity of the Buyback Program, under the \n",
            "terms and limits informed in the Material Fact.  \n",
            "Finally, the Company reaffirms its commitment to keep its shareholders and the market \n",
            "in general informed about the relevant developments of the matters dealt with herein. \n",
            "  \n",
            "_______________________________  \n",
            "Luis Felipe Silva Bresaola  \n",
            "Investor Relations Officer  \n",
            "  \n"
          ]
        }
      ]
    },
    {
      "cell_type": "code",
      "source": [
        "import re\n",
        "\n",
        "# Função para remover números de uma string\n",
        "def remover_numeros(texto):\n",
        "    return re.sub(r'\\d+', '', texto)\n",
        "\n",
        "# Aplicar preprocessamento\n",
        "df['texto_ingles'] = df['texto_ingles'].apply(remover_numeros)\n",
        "\n",
        "# Visualizar:\n",
        "print(df.loc[:, 'texto_ingles'].iloc[2])"
      ],
      "metadata": {
        "colab": {
          "base_uri": "https://localhost:8080/"
        },
        "id": "yhSdf3O6ogY6",
        "outputId": "07bf356b-9d5e-4264-c148-fc3f1e70fcaa"
      },
      "execution_count": 6,
      "outputs": [
        {
          "output_type": "stream",
          "name": "stdout",
          "text": [
            " \n",
            "CNPJ/MF nº ../ - \n",
            "NIRE   \n",
            "A Publicly Listed Authorized Capital Company  \n",
            " \n",
            "MATERIAL FACT  \n",
            " \n",
            "Lojas Renner S.A. (“Lojas Renner” or “Company ”), in compliance with paragraph  of \n",
            "article  of Law ,/ and with CVM Resol ution /, and in addition to the Material \n",
            "Fact of May , , discloses to its shareholders and to the market in general, the following projections:\n",
            "  \n",
            " \n",
            "Indica tor Proje ction  \n",
            "LOJAS RENNER (Consolida ted) \n",
            "Digital EBITDA Margin  around  +p.p. in /  \n",
            "YOUCOM  \n",
            "Sales  between R$ . billion and R$ . billion by   \n",
            " \n",
            "The Company also informs that the presentation of the Investor Day event, disclosed at \n",
            "CVM and at Lojas Renner's Investor Relations website, wa s re-submitted on this date to \n",
            "include the new projections (reflected in the respective charts on slides  and ).  \n",
            "The information contained in the table above, related to perspectives on the business and \n",
            "growth of Lojas Renner S.A., is based on the Co mpany's expectations about the future of \n",
            "the business. These expectations depend substantially on factors beyond t he Company's \n",
            "control, such as market conditions, the performance of the Brazilian economy, the industry \n",
            "and the international markets.  \n",
            "The pro jections disclosed above will be consolidated with the other Company's projections \n",
            "contained in the Reference Form,  in accordance with the deadline and requirements set \n",
            "forth in the applicable regulations.  \n",
            " \n",
            " \n",
            "Porto Alegre, May th, .  \n",
            "Daniel Martins dos Sant os \n",
            "Chief Administra tive and Financial Officer an d Investor Relations  Officer  \n",
            " \n",
            " \n"
          ]
        }
      ]
    },
    {
      "cell_type": "code",
      "source": [
        "!pip install textstat"
      ],
      "metadata": {
        "id": "jA03uctG6NQs",
        "outputId": "85a0bad2-b48f-41fe-e994-8fa0a217b913",
        "colab": {
          "base_uri": "https://localhost:8080/"
        }
      },
      "execution_count": 7,
      "outputs": [
        {
          "output_type": "stream",
          "name": "stdout",
          "text": [
            "Looking in indexes: https://pypi.org/simple, https://us-python.pkg.dev/colab-wheels/public/simple/\n",
            "Collecting textstat\n",
            "  Downloading textstat-0.7.3-py3-none-any.whl (105 kB)\n",
            "\u001b[2K     \u001b[90m━━━━━━━━━━━━━━━━━━━━━━━━━━━━━━━━━━━━━━━\u001b[0m \u001b[32m105.1/105.1 kB\u001b[0m \u001b[31m3.5 MB/s\u001b[0m eta \u001b[36m0:00:00\u001b[0m\n",
            "\u001b[?25hCollecting pyphen (from textstat)\n",
            "  Downloading pyphen-0.14.0-py3-none-any.whl (2.0 MB)\n",
            "\u001b[2K     \u001b[90m━━━━━━━━━━━━━━━━━━━━━━━━━━━━━━━━━━━━━━━━\u001b[0m \u001b[32m2.0/2.0 MB\u001b[0m \u001b[31m25.5 MB/s\u001b[0m eta \u001b[36m0:00:00\u001b[0m\n",
            "\u001b[?25hInstalling collected packages: pyphen, textstat\n",
            "Successfully installed pyphen-0.14.0 textstat-0.7.3\n"
          ]
        }
      ]
    },
    {
      "cell_type": "code",
      "source": [
        "import re\n",
        "from textstat import textstat\n",
        "\n",
        "# Função para remover palavras específicas de uma string\n",
        "def remover_palavras(texto):\n",
        "    palavras_remover = ['MATERIAL FACT', 'NIRE', 'CNPJ']\n",
        "    padrao = r'\\b(?:{})\\b'.format('|'.join(map(re.escape, palavras_remover)))\n",
        "    return re.sub(padrao, '', texto)\n",
        "\n",
        "# Aplicar preprocessamento\n",
        "df['texto_ingles'] = df['texto_ingles'].apply(remover_palavras)\n",
        "\n",
        "# Visualizar o resultado do primeiro texto\n",
        "print(df.loc[:, 'texto_ingles'].iloc[0])\n"
      ],
      "metadata": {
        "colab": {
          "base_uri": "https://localhost:8080/"
        },
        "id": "bef4h5V5p4-X",
        "outputId": "77444f6f-81d4-4c8f-bc1a-1f550d5398b0"
      },
      "execution_count": 8,
      "outputs": [
        {
          "output_type": "stream",
          "name": "stdout",
          "text": [
            " \n",
            " \n",
            "CRUZEIRO DO SUL EDUCACIONAL S.A.   \n",
            "/ME nº ../ -   \n",
            " ...   \n",
            "Publicly -held Company   \n",
            "  \n",
            "  \n",
            " \n",
            "CRUZEIRO DO SUL EDUCACIONAL S.A.  (“Company ”) (CSED ), in compliance with \n",
            "article , paragraph  and article , paragraph , “b” of the Brazilian Corporation \n",
            "Law, with article  of the  Brazilian Securities Exchange Commission (“ CVM”) Resolution \n",
            "n. , dated as August ,  and with article  , \"I\" of the Brazilian Securities Exchange \n",
            "Commission (“ CVM”) Resolution n. , dated as March ,  (“ Resolu tion CVM  ” \n",
            "and “Resolution  CVM  ”), hereby informs its shareholders and the market in general , \n",
            "in continuity with the material fact disclosed by the Company on August ,  \n",
            "(\"Material Fact\") that the Board of Directors  approved, on January  , , the \n",
            "cancellation of ,, (seven million, seven hundred and seventy five thousand, five \n",
            "hundred and twenty) common shares, with no par value, issued  by the Company, held \n",
            "in treasury, on this date, without reducing the value of the capital stock.  \n",
            "Due to the cancellation of treasury shares, the Company's capital is now divided into \n",
            ",,  (three hundred and seventy -four million, forty -six thousand,  seven hundred \n",
            "and twenty ) common shares, all registered, book -entry and without par value. \n",
            "Accordingly, the article  of the Company's Bylaws, which deals with its capital stock, \n",
            "must be adjusted at the Company's next general meeting.  \n",
            "The Board of Directo rs also approved the continuity of the Buyback Program, under the \n",
            "terms and limits informed in the Material Fact.  \n",
            "Finally, the Company reaffirms its commitment to keep its shareholders and the market \n",
            "in general informed about the relevant developments of the matters dealt with herein. \n",
            "  \n",
            "_______________________________  \n",
            "Luis Felipe Silva Bresaola  \n",
            "Investor Relations Officer  \n",
            "  \n"
          ]
        }
      ]
    },
    {
      "cell_type": "code",
      "source": [
        "import re\n",
        "\n",
        "# Função para remover padrões específicos de uma string\n",
        "def remover_padroes(texto):\n",
        "    padroes_remover = ['S\\.A\\.', 'nº', '/ME', '/']\n",
        "    for padrao in padroes_remover:\n",
        "        texto = re.sub(padrao, '', texto)\n",
        "    return texto\n",
        "\n",
        "# Aplicar remoção de padrões\n",
        "df['texto_ingles'] = df['texto_ingles'].apply(remover_padroes)\n",
        "\n",
        "\n",
        "# Visualizar o resultado do primeiro texto\n",
        "print(df.loc[:, 'texto_ingles'].iloc[0])\n"
      ],
      "metadata": {
        "id": "Wa6kFnfBx7eg",
        "outputId": "ab4c914b-56ae-46b6-8047-dcdb320472eb",
        "colab": {
          "base_uri": "https://localhost:8080/"
        }
      },
      "execution_count": 9,
      "outputs": [
        {
          "output_type": "stream",
          "name": "stdout",
          "text": [
            " \n",
            " \n",
            "CRUZEIRO DO SUL EDUCACIONAL    \n",
            "  .. -   \n",
            " ...   \n",
            "Publicly -held Company   \n",
            "  \n",
            "  \n",
            " \n",
            "CRUZEIRO DO SUL EDUCACIONAL   (“Company ”) (CSED ), in compliance with \n",
            "article , paragraph  and article , paragraph , “b” of the Brazilian Corporation \n",
            "Law, with article  of the  Brazilian Securities Exchange Commission (“ CVM”) Resolution \n",
            "n. , dated as August ,  and with article  , \"I\" of the Brazilian Securities Exchange \n",
            "Commission (“ CVM”) Resolution n. , dated as March ,  (“ Resolu tion CVM  ” \n",
            "and “Resolution  CVM  ”), hereby informs its shareholders and the market in general , \n",
            "in continuity with the material fact disclosed by the Company on August ,  \n",
            "(\"Material Fact\") that the Board of Directors  approved, on January  , , the \n",
            "cancellation of ,, (seven million, seven hundred and seventy five thousand, five \n",
            "hundred and twenty) common shares, with no par value, issued  by the Company, held \n",
            "in treasury, on this date, without reducing the value of the capital stock.  \n",
            "Due to the cancellation of treasury shares, the Company's capital is now divided into \n",
            ",,  (three hundred and seventy -four million, forty -six thousand,  seven hundred \n",
            "and twenty ) common shares, all registered, book -entry and without par value. \n",
            "Accordingly, the article  of the Company's Bylaws, which deals with its capital stock, \n",
            "must be adjusted at the Company's next general meeting.  \n",
            "The Board of Directo rs also approved the continuity of the Buyback Program, under the \n",
            "terms and limits informed in the Material Fact.  \n",
            "Finally, the Company reaffirms its commitment to keep its shareholders and the market \n",
            "in general informed about the relevant developments of the matters dealt with herein. \n",
            "  \n",
            "_______________________________  \n",
            "Luis Felipe Silva Bresaola  \n",
            "Investor Relations Officer  \n",
            "  \n"
          ]
        }
      ]
    },
    {
      "cell_type": "code",
      "source": [
        "import re\n",
        "from textstat import textstat\n",
        "\n",
        "# Aplicar preprocessamento e calcular o Fog Index no DataFrame\n",
        "df['fog_index'] = df['texto_ingles'].apply(lambda x: textstat.gunning_fog(x))\n",
        "\n",
        "# Visualizar o resultado\n",
        "print(df[['texto_ingles', 'fog_index']])\n",
        "\n"
      ],
      "metadata": {
        "colab": {
          "base_uri": "https://localhost:8080/"
        },
        "id": "bCeNYG5GoVar",
        "outputId": "58707dd3-e438-4675-ff14-1d3d84fdb232"
      },
      "execution_count": 10,
      "outputs": [
        {
          "output_type": "stream",
          "name": "stdout",
          "text": [
            "                                          texto_ingles  fog_index\n",
            "0     \\n \\nCRUZEIRO DO SUL EDUCACIONAL    \\n  .. - ...      14.94\n",
            "1    Distribuidora d e Medicamentos  \\n(BM&FBOVESPA...      15.93\n",
            "2     \\nMF  .. - \\n   \\nA Publicly Listed Authorize...      16.17\n",
            "3     – IN JUDICIAL REORGANIZATION  \\nM F N° .. - \\...      14.41\n",
            "4     \\n \\n \\nThiago Fontoura Struminski  \\nVice -p...      14.26\n",
            "..                                                 ...        ...\n",
            "122   – EM RECUPERAÇÃO JUDICIAL  \\nM E N° .. - \\n ....      13.07\n",
            "123   \\nMF  .. - \\n   \\nA Publicly Listed Authorize...      17.60\n",
            "124   \\nMF  .. - \\n   \\nA Publicly Listed Authorize...      17.60\n",
            "125   \\nMF  .. - \\n   \\nA Publicly Listed Authorize...      17.50\n",
            "126   \\nMF  .. - \\n   \\nA Publicly Listed Authorize...      16.17\n",
            "\n",
            "[127 rows x 2 columns]\n"
          ]
        }
      ]
    },
    {
      "cell_type": "code",
      "source": [
        "desc_estatisticas = df['fog_index'].describe()\n",
        "print(desc_estatisticas)"
      ],
      "metadata": {
        "id": "ji9ufB-HsiCS",
        "outputId": "141ac1ac-d3cb-45e7-86e7-c8794451e59b",
        "colab": {
          "base_uri": "https://localhost:8080/"
        }
      },
      "execution_count": 11,
      "outputs": [
        {
          "output_type": "stream",
          "name": "stdout",
          "text": [
            "count    127.000000\n",
            "mean      15.696142\n",
            "std        1.858957\n",
            "min       10.970000\n",
            "25%       14.410000\n",
            "50%       15.930000\n",
            "75%       17.190000\n",
            "max       19.450000\n",
            "Name: fog_index, dtype: float64\n"
          ]
        }
      ]
    },
    {
      "cell_type": "code",
      "source": [
        "import re\n",
        "from textstat import textstat\n",
        "import numpy as np\n",
        "\n",
        "# Function to calculate the Flesch Index\n",
        "def calculate_flesch(text):\n",
        "    sentences = textstat.sentence_count(text)\n",
        "    words = textstat.lexicon_count(text, removepunct=True)\n",
        "    syllables = textstat.syllable_count(text)\n",
        "\n",
        "    if words == 0:\n",
        "        return np.nan\n",
        "\n",
        "    average_words_per_sentence = words / sentences\n",
        "    average_syllables_per_word = syllables / words\n",
        "\n",
        "    flesch_index = 206.835 - (1.015 * average_words_per_sentence) - (84.6 * average_syllables_per_word)\n",
        "    return flesch_index\n",
        "\n",
        "# Apply preprocessing and calculate the Flesch Index in the 'df' DataFrame\n",
        "df['flesch_index'] = df['texto_ingles'].apply(calculate_flesch)\n",
        "\n",
        "# View the result\n",
        "print(df[['texto_ingles', 'flesch_index']])\n"
      ],
      "metadata": {
        "colab": {
          "base_uri": "https://localhost:8080/"
        },
        "id": "0LFN46HaLQJx",
        "outputId": "aebbf8c7-ecf4-4a43-cf69-0abc20f08ccc"
      },
      "execution_count": 12,
      "outputs": [
        {
          "output_type": "stream",
          "name": "stdout",
          "text": [
            "                                          texto_ingles  flesch_index\n",
            "0     \\n \\nCRUZEIRO DO SUL EDUCACIONAL    \\n  .. - ...     29.938876\n",
            "1    Distribuidora d e Medicamentos  \\n(BM&FBOVESPA...     42.822083\n",
            "2     \\nMF  .. - \\n   \\nA Publicly Listed Authorize...     36.062242\n",
            "3     – IN JUDICIAL REORGANIZATION  \\nM F N° .. - \\...     21.891667\n",
            "4     \\n \\n \\nThiago Fontoura Struminski  \\nVice -p...     41.170893\n",
            "..                                                 ...           ...\n",
            "122   – EM RECUPERAÇÃO JUDICIAL  \\nM E N° .. - \\n ....     45.371959\n",
            "123   \\nMF  .. - \\n   \\nA Publicly Listed Authorize...     35.391897\n",
            "124   \\nMF  .. - \\n   \\nA Publicly Listed Authorize...     35.391897\n",
            "125   \\nMF  .. - \\n   \\nA Publicly Listed Authorize...     37.112788\n",
            "126   \\nMF  .. - \\n   \\nA Publicly Listed Authorize...     36.062242\n",
            "\n",
            "[127 rows x 2 columns]\n"
          ]
        }
      ]
    },
    {
      "cell_type": "code",
      "source": [
        "# Calculate the correlation between 'fog_index' and 'flesch_index'\n",
        "correlation = df['fog_index'].corr(df['flesch_index'])\n",
        "\n",
        "# Print the correlation value\n",
        "print(\"Correlation between fog_index and flesch_index:\", correlation)"
      ],
      "metadata": {
        "id": "hiOlUpCB9A2U",
        "outputId": "cfb07928-2a61-4d48-b5da-73db8afe8ea6",
        "colab": {
          "base_uri": "https://localhost:8080/"
        }
      },
      "execution_count": 13,
      "outputs": [
        {
          "output_type": "stream",
          "name": "stdout",
          "text": [
            "Correlation between fog_index and flesch_index: -0.5580253063963719\n"
          ]
        }
      ]
    },
    {
      "cell_type": "markdown",
      "source": [
        "exclusivo para lingua inglesa"
      ],
      "metadata": {
        "id": "1m6r3Kg1BKJ1"
      }
    },
    {
      "cell_type": "code",
      "source": [
        "!pip install nltk"
      ],
      "metadata": {
        "colab": {
          "base_uri": "https://localhost:8080/"
        },
        "id": "xs_1F73AQWE6",
        "outputId": "d92b5e06-c088-49e5-dbb8-1a907bf4e113"
      },
      "execution_count": 14,
      "outputs": [
        {
          "output_type": "stream",
          "name": "stdout",
          "text": [
            "Looking in indexes: https://pypi.org/simple, https://us-python.pkg.dev/colab-wheels/public/simple/\n",
            "Requirement already satisfied: nltk in /usr/local/lib/python3.10/dist-packages (3.8.1)\n",
            "Requirement already satisfied: click in /usr/local/lib/python3.10/dist-packages (from nltk) (8.1.3)\n",
            "Requirement already satisfied: joblib in /usr/local/lib/python3.10/dist-packages (from nltk) (1.2.0)\n",
            "Requirement already satisfied: regex>=2021.8.3 in /usr/local/lib/python3.10/dist-packages (from nltk) (2022.10.31)\n",
            "Requirement already satisfied: tqdm in /usr/local/lib/python3.10/dist-packages (from nltk) (4.65.0)\n"
          ]
        }
      ]
    },
    {
      "cell_type": "markdown",
      "source": [
        "Exemplo de uso do Bog Index"
      ],
      "metadata": {
        "id": "arG8vGNLR4Va"
      }
    },
    {
      "cell_type": "code",
      "source": [
        "import pandas as pd\n",
        "\n",
        "def calculate_bog_index(df):\n",
        "    # Define the lists of overused words, weak verbs, jargon, and passive voice indicators\n",
        "    overused_words = ['utilize', 'implement', 'execute', 'generate', 'obtain']\n",
        "    weak_verbs = ['be', 'have', 'do', 'go', 'give']\n",
        "    jargon_words = ['ROI', 'EBITDA', 'hedge', 'derivatives', 'IPO', 'compliance', 'capital market', 'due diligence', 'blue chip', 'sovereign debt']\n",
        "    passive_voice_indicators = ['be', 'am', 'is', 'are', 'was', 'were', 'been', 'being']\n",
        "\n",
        "    # Initialize the Bog Index column\n",
        "    df['bog_index'] = 0.0\n",
        "\n",
        "    # Iterate over each row and calculate the Bog Index for the corresponding text\n",
        "    for index, row in df.iterrows():\n",
        "        text = row['texto_ingles']\n",
        "        sentences = text.split('.')\n",
        "        sentence_count = len(sentences)\n",
        "        passive_count = 0\n",
        "        weak_verb_count = 0\n",
        "        overused_word_count = 0\n",
        "        jargon_word_count = 0\n",
        "\n",
        "        for sentence in sentences:\n",
        "            words = sentence.split()\n",
        "\n",
        "            if any(word in passive_voice_indicators for word in words) and 'by' in words:\n",
        "                passive_count += 1\n",
        "\n",
        "            if any(word in weak_verbs for word in words):\n",
        "                weak_verb_count += 1\n",
        "\n",
        "            if any(word in overused_words for word in words):\n",
        "                overused_word_count += 1\n",
        "\n",
        "            if any(word in jargon_words for word in words):\n",
        "                jargon_word_count += 1\n",
        "\n",
        "        bog_index = (passive_count + weak_verb_count + overused_word_count + jargon_word_count) / sentence_count\n",
        "\n",
        "        # Update the Bog Index value in the DataFrame\n",
        "        df.at[index, 'bog_index'] = bog_index\n",
        "\n",
        "    return df\n",
        "\n",
        "# Apply Bog Index calculation to the 'texto_ingles' column in the existing DataFrame\n",
        "df = calculate_bog_index(df)\n",
        "\n",
        "# Print the updated DataFrame with Bog Index values\n",
        "print(df)\n"
      ],
      "metadata": {
        "id": "WiasSlMri0gS",
        "outputId": "9dbf9348-3e11-49a4-9be8-4efe6cb2ad5a",
        "colab": {
          "base_uri": "https://localhost:8080/"
        }
      },
      "execution_count": 15,
      "outputs": [
        {
          "output_type": "stream",
          "name": "stdout",
          "text": [
            "    Data_Entrega                             Nome_Companhia       Categoria  \\\n",
            "0     2023-01-18                       BANCO DO BRASIL S.A.  Fato Relevante   \n",
            "1     2023-04-03          CENTRAIS ELETRICAS BRASILEIRAS SA  Fato Relevante   \n",
            "2     2023-05-09   ARMAC LOCAÇÃO, LOGÍSTICA E SERVIÇOS S.A.  Fato Relevante   \n",
            "3     2023-01-13  AMERICANAS S.A. - EM RECUPERAÇÃO JUDICIAL  Fato Relevante   \n",
            "4     2023-03-21  AMERICANAS S.A. - EM RECUPERAÇÃO JUDICIAL  Fato Relevante   \n",
            "..           ...                                        ...             ...   \n",
            "122   2023-03-30     LUPATECH S/A - EM RECUPERAÇÃO JUDICIAL  Fato Relevante   \n",
            "123   2023-03-16                              GRAZZIOTIN SA  Fato Relevante   \n",
            "124   2023-03-16                            LOJAS RENNER SA  Fato Relevante   \n",
            "125   2023-05-04                            LOJAS RENNER SA  Fato Relevante   \n",
            "126   2023-05-09                            LOJAS RENNER SA  Fato Relevante   \n",
            "\n",
            "                                               Assunto  Tipo  Especie  \\\n",
            "0                        Indicação de Vice-Presidentes   NaN      NaN   \n",
            "1                                 Acordo de Acionistas   NaN      NaN   \n",
            "2    Alterações na Diretoria Estatutária e Conselho...   NaN      NaN   \n",
            "3                                 Alterações de rating   NaN      NaN   \n",
            "4    Informações sobre o relatório circunstanciado ...   NaN      NaN   \n",
            "..                                                 ...   ...      ...   \n",
            "122  Execução de Título Judicial contra a Cordoaria...   NaN      NaN   \n",
            "123                      Investimento da joint venture   NaN      NaN   \n",
            "124  Encerramento do programa de recompra e cancela...   NaN      NaN   \n",
            "125                            Divulgação de projeções   NaN      NaN   \n",
            "126       Projeções - FR complementar ao de 04/05/2023   NaN      NaN   \n",
            "\n",
            "     Tipo_Apresentacao                                      Link_Download  \\\n",
            "0    AP - Apresentação  https://www.rad.cvm.gov.br/ENET/frmDownloadDoc...   \n",
            "1    AP - Apresentação  https://www.rad.cvm.gov.br/ENET/frmDownloadDoc...   \n",
            "2    AP - Apresentação  https://www.rad.cvm.gov.br/ENET/frmDownloadDoc...   \n",
            "3    AP - Apresentação  https://www.rad.cvm.gov.br/ENET/frmDownloadDoc...   \n",
            "4    AP - Apresentação  https://www.rad.cvm.gov.br/ENET/frmDownloadDoc...   \n",
            "..                 ...                                                ...   \n",
            "122  AP - Apresentação  https://www.rad.cvm.gov.br/ENET/frmDownloadDoc...   \n",
            "123  AP - Apresentação  https://www.rad.cvm.gov.br/ENET/frmDownloadDoc...   \n",
            "124  AP - Apresentação  https://www.rad.cvm.gov.br/ENET/frmDownloadDoc...   \n",
            "125  AP - Apresentação  https://www.rad.cvm.gov.br/ENET/frmDownloadDoc...   \n",
            "126  AP - Apresentação  https://www.rad.cvm.gov.br/ENET/frmDownloadDoc...   \n",
            "\n",
            "                                                 Texto  \\\n",
            "0     \\n \\nCRUZEIRO DO SUL EDUCACIONAL S.A.   \\nCNP...   \n",
            "1     \\n \\n \\nDIMED S/A  DISTRIBUIDORA DE MEDICAMEN...   \n",
            "2                                                  ...   \n",
            "3     \\n \\nLUPATECH S.A.  – EM RECUPERAÇÃO JUDICIAL...   \n",
            "4    CNPJ 84.683.374/000 3-00 \\nNIRE: 42.3.0001628 ...   \n",
            "..                                                 ...   \n",
            "122   \\nLUPATECH S.A.  – EM RECUPERAÇÃO JUDICIAL  \\...   \n",
            "123                                                ...   \n",
            "124                                                ...   \n",
            "125                                                ...   \n",
            "126                                                ...   \n",
            "\n",
            "                                          texto_ingles  fog_index  \\\n",
            "0     \\n \\nCRUZEIRO DO SUL EDUCACIONAL    \\n  .. - ...      14.94   \n",
            "1    Distribuidora d e Medicamentos  \\n(BM&FBOVESPA...      15.93   \n",
            "2     \\nMF  .. - \\n   \\nA Publicly Listed Authorize...      16.17   \n",
            "3     – IN JUDICIAL REORGANIZATION  \\nM F N° .. - \\...      14.41   \n",
            "4     \\n \\n \\nThiago Fontoura Struminski  \\nVice -p...      14.26   \n",
            "..                                                 ...        ...   \n",
            "122   – EM RECUPERAÇÃO JUDICIAL  \\nM E N° .. - \\n ....      13.07   \n",
            "123   \\nMF  .. - \\n   \\nA Publicly Listed Authorize...      17.60   \n",
            "124   \\nMF  .. - \\n   \\nA Publicly Listed Authorize...      17.60   \n",
            "125   \\nMF  .. - \\n   \\nA Publicly Listed Authorize...      17.50   \n",
            "126   \\nMF  .. - \\n   \\nA Publicly Listed Authorize...      16.17   \n",
            "\n",
            "     flesch_index  bog_index  \n",
            "0       29.938876   0.153846  \n",
            "1       42.822083   0.166667  \n",
            "2       36.062242   0.166667  \n",
            "3       21.891667   0.050000  \n",
            "4       41.170893   0.250000  \n",
            "..            ...        ...  \n",
            "122     45.371959   0.225806  \n",
            "123     35.391897   0.600000  \n",
            "124     35.391897   0.600000  \n",
            "125     37.112788   0.200000  \n",
            "126     36.062242   0.166667  \n",
            "\n",
            "[127 rows x 13 columns]\n"
          ]
        }
      ]
    },
    {
      "cell_type": "code",
      "source": [
        "desc_estatisticas = df['bog_index'].describe()\n",
        "print(desc_estatisticas)"
      ],
      "metadata": {
        "id": "TiQCpH3ZjKhy",
        "outputId": "6ace7e22-343e-4b80-f7ad-8d08b3ef7a90",
        "colab": {
          "base_uri": "https://localhost:8080/"
        }
      },
      "execution_count": 16,
      "outputs": [
        {
          "output_type": "stream",
          "name": "stdout",
          "text": [
            "count    127.000000\n",
            "mean       0.241110\n",
            "std        0.124597\n",
            "min        0.050000\n",
            "25%        0.166667\n",
            "50%        0.200000\n",
            "75%        0.300000\n",
            "max        0.600000\n",
            "Name: bog_index, dtype: float64\n"
          ]
        }
      ]
    }
  ]
}